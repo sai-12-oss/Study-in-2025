{
 "cells": [
  {
   "cell_type": "code",
   "execution_count": 1,
   "metadata": {},
   "outputs": [
    {
     "name": "stderr",
     "output_type": "stream",
     "text": [
      "C:\\Users\\DELL\\AppData\\Roaming\\Python\\Python311\\site-packages\\torchvision\\io\\image.py:13: UserWarning: Failed to load image Python extension: 'Could not find module 'C:\\Users\\DELL\\AppData\\Roaming\\Python\\Python311\\site-packages\\torchvision\\image.pyd' (or one of its dependencies). Try using the full path with constructor syntax.'If you don't plan on using image functionality from `torchvision.io`, you can ignore this warning. Otherwise, there might be something wrong with your environment. Did you have `libjpeg` or `libpng` installed before building `torchvision` from source?\n",
      "  warn(\n"
     ]
    }
   ],
   "source": [
    "import torch\n",
    "import torch.nn as nn\n",
    "from torch.utils.data import Dataset,DataLoader\n",
    "import pandas as pd\n",
    "import torchvision\n",
    "import torchvision.datasets as datasets\n",
    "import torchvision.transforms as transforms\n",
    "import matplotlib.pyplot as plt\n",
    "import numpy as np\n",
    "from torchsummary import summary\n",
    "from tqdm.auto import tqdm\n",
    "import cv2"
   ]
  },
  {
   "cell_type": "code",
   "execution_count": 2,
   "metadata": {},
   "outputs": [],
   "source": [
    "from torchvision import datasets\n",
    "from torchvision.transforms import ToTensor\n",
    "\n",
    "train_data = datasets.MNIST(\n",
    "    root = 'data',\n",
    "    train = True,                         \n",
    "    transform = ToTensor(), \n",
    "    download = True,            \n",
    ")\n",
    "\n",
    "test_data = datasets.MNIST(\n",
    "    root = 'data', \n",
    "    train = False, \n",
    "    transform = ToTensor()\n",
    ")"
   ]
  },
  {
   "cell_type": "code",
   "execution_count": 3,
   "metadata": {},
   "outputs": [],
   "source": [
    "class MNISTDataset(Dataset):\n",
    "    def __init__(self,train = True):\n",
    "        dataset_file_path = None\n",
    "        if train:\n",
    "            dataset_file_path = r\"D:\\MTech_IISc\\OneDrive - Indian Institute of Science\\Fourth Semester\\UMCAIMLTA\\PytorchTutorial\\Dataset\\data\\mnist_train.csv\"\n",
    "        else:\n",
    "            dataset_file_path = r\"D:\\MTech_IISc\\OneDrive - Indian Institute of Science\\Fourth Semester\\UMCAIMLTA\\PytorchTutorial\\Dataset\\data\\mnist_test.csv\"\n",
    "        data = pd.read_csv(dataset_file_path)\n",
    "        self.data_X = torch.empty(len(data),1,28,28)\n",
    "        self.data_Y = torch.empty(len(data),dtype=torch.long)\n",
    "\n",
    "        for data_index in range(len(data)):\n",
    "            self.data_X[data_index] = torch.tensor(data.iloc[data_index,1:]).view(1,28,28)/255\n",
    "            self.data_Y[data_index] = torch.tensor(data.iloc[data_index,0])\n",
    "\n",
    "    def __getitem__(self,index):\n",
    "        return self.data_X[index],self.data_Y[index]\n",
    "    \n",
    "    def __len__(self):\n",
    "        return self.data_X.shape[0]"
   ]
  },
  {
   "cell_type": "code",
   "execution_count": 4,
   "metadata": {},
   "outputs": [],
   "source": [
    "custom_train_data = MNISTDataset(train=True)"
   ]
  },
  {
   "cell_type": "code",
   "execution_count": 5,
   "metadata": {},
   "outputs": [],
   "source": [
    "custom_test_data = MNISTDataset(train=False)"
   ]
  },
  {
   "cell_type": "code",
   "execution_count": 6,
   "metadata": {},
   "outputs": [],
   "source": [
    "# Creating dataloaders from custom data\n",
    "train_loader = DataLoader(custom_train_data, batch_size=16,shuffle=True)\n",
    "test_loader = DataLoader(custom_test_data, batch_size=16,shuffle=True)"
   ]
  },
  {
   "cell_type": "code",
   "execution_count": 28,
   "metadata": {},
   "outputs": [],
   "source": [
    "#Display one image\n",
    "# image = train_data.data[0].unsqueeze(0).numpy()\n",
    "image = custom_test_data[0][0].numpy()\n",
    "cv2.imshow(\"MNISTImage\",image.transpose(1,2,0))\n",
    "cv2.waitKey(0) \n",
    "cv2.destroyAllWindows()"
   ]
  },
  {
   "cell_type": "code",
   "execution_count": 7,
   "metadata": {},
   "outputs": [],
   "source": [
    "# Creating dataloaders from torchvision dataset\n",
    "train_loader = DataLoader(train_data, batch_size=16, shuffle=True)\n",
    "test_loader = DataLoader(test_data, batch_size=16, shuffle=True)"
   ]
  },
  {
   "cell_type": "code",
   "execution_count": 8,
   "metadata": {},
   "outputs": [],
   "source": [
    "class FFNN(nn.Module):\n",
    "    def __init__(self):\n",
    "        super(FFNN,self).__init__()\n",
    "\n",
    "        self.fc1 = nn.Linear(28*28, 512)\n",
    "        self.fc2 = nn.Linear(512,10)\n",
    "        self.RELU = nn.ReLU()\n",
    "\n",
    "\n",
    "    def forward(self,X):\n",
    "        # X : [bs, 1, 28, 28]\n",
    "        X = X.view(X.size(0),-1)\n",
    "\n",
    "        X = self.fc1(X)\n",
    "        X = self.RELU(X)\n",
    "        X = self.fc2(X)\n",
    "\n",
    "        return X\n",
    "    "
   ]
  },
  {
   "cell_type": "code",
   "execution_count": 9,
   "metadata": {},
   "outputs": [],
   "source": [
    "class CNN(nn.Module):\n",
    "    def __init__(self):\n",
    "        super(CNN,self).__init__()\n",
    "\n",
    "        self.conv1 = nn.Conv2d(in_channels=1, out_channels=16, kernel_size=5, stride=1, padding=1)\n",
    "        self.conv2 = nn.Conv2d(in_channels=16, out_channels=32, kernel_size=5, stride=1, padding=1)\n",
    "        self.max_pool = nn.MaxPool2d(kernel_size=2)\n",
    "        self.RELU = nn.ReLU()\n",
    "\n",
    "        self.fc = nn.Linear(32*5*5,10)\n",
    "\n",
    "    def forward(self,X):\n",
    "        X = self.conv1(X)\n",
    "        X = self.max_pool(X)\n",
    "        X = self.RELU(X)\n",
    "\n",
    "        X = self.conv2(X)\n",
    "        X = self.max_pool(X)\n",
    "        X = self.RELU(X)\n",
    "\n",
    "        X = X.view(X.size(0),-1)\n",
    "        X = self.fc(X)\n",
    "\n",
    "        return X"
   ]
  },
  {
   "cell_type": "code",
   "execution_count": 10,
   "metadata": {},
   "outputs": [],
   "source": [
    "model = CNN()"
   ]
  },
  {
   "cell_type": "code",
   "execution_count": 11,
   "metadata": {},
   "outputs": [
    {
     "name": "stdout",
     "output_type": "stream",
     "text": [
      "==========================================================================================\n",
      "Layer (type:depth-idx)                   Output Shape              Param #\n",
      "==========================================================================================\n",
      "├─Conv2d: 1-1                            [-1, 16, 26, 26]          416\n",
      "├─MaxPool2d: 1-2                         [-1, 16, 13, 13]          --\n",
      "├─ReLU: 1-3                              [-1, 16, 13, 13]          --\n",
      "├─Conv2d: 1-4                            [-1, 32, 11, 11]          12,832\n",
      "├─MaxPool2d: 1-5                         [-1, 32, 5, 5]            --\n",
      "├─ReLU: 1-6                              [-1, 32, 5, 5]            --\n",
      "├─Linear: 1-7                            [-1, 10]                  8,010\n",
      "==========================================================================================\n",
      "Total params: 21,258\n",
      "Trainable params: 21,258\n",
      "Non-trainable params: 0\n",
      "Total mult-adds (M): 1.83\n",
      "==========================================================================================\n",
      "Input size (MB): 0.00\n",
      "Forward/backward pass size (MB): 0.11\n",
      "Params size (MB): 0.08\n",
      "Estimated Total Size (MB): 0.20\n",
      "==========================================================================================\n"
     ]
    },
    {
     "data": {
      "text/plain": [
       "==========================================================================================\n",
       "Layer (type:depth-idx)                   Output Shape              Param #\n",
       "==========================================================================================\n",
       "├─Conv2d: 1-1                            [-1, 16, 26, 26]          416\n",
       "├─MaxPool2d: 1-2                         [-1, 16, 13, 13]          --\n",
       "├─ReLU: 1-3                              [-1, 16, 13, 13]          --\n",
       "├─Conv2d: 1-4                            [-1, 32, 11, 11]          12,832\n",
       "├─MaxPool2d: 1-5                         [-1, 32, 5, 5]            --\n",
       "├─ReLU: 1-6                              [-1, 32, 5, 5]            --\n",
       "├─Linear: 1-7                            [-1, 10]                  8,010\n",
       "==========================================================================================\n",
       "Total params: 21,258\n",
       "Trainable params: 21,258\n",
       "Non-trainable params: 0\n",
       "Total mult-adds (M): 1.83\n",
       "==========================================================================================\n",
       "Input size (MB): 0.00\n",
       "Forward/backward pass size (MB): 0.11\n",
       "Params size (MB): 0.08\n",
       "Estimated Total Size (MB): 0.20\n",
       "=========================================================================================="
      ]
     },
     "execution_count": 11,
     "metadata": {},
     "output_type": "execute_result"
    }
   ],
   "source": [
    "summary(model,(1,28,28))"
   ]
  },
  {
   "cell_type": "code",
   "execution_count": 12,
   "metadata": {},
   "outputs": [],
   "source": [
    "criterion = nn.CrossEntropyLoss()"
   ]
  },
  {
   "cell_type": "code",
   "execution_count": 13,
   "metadata": {},
   "outputs": [
    {
     "data": {
      "text/plain": [
       "Adam (\n",
       "Parameter Group 0\n",
       "    amsgrad: False\n",
       "    betas: (0.9, 0.999)\n",
       "    capturable: False\n",
       "    differentiable: False\n",
       "    eps: 1e-08\n",
       "    foreach: None\n",
       "    fused: None\n",
       "    lr: 0.01\n",
       "    maximize: False\n",
       "    weight_decay: 0\n",
       ")"
      ]
     },
     "execution_count": 13,
     "metadata": {},
     "output_type": "execute_result"
    }
   ],
   "source": [
    "optimizer = torch.optim.Adam(model.parameters(), lr=0.01)\n",
    "optimizer"
   ]
  },
  {
   "cell_type": "code",
   "execution_count": 14,
   "metadata": {},
   "outputs": [],
   "source": [
    "num_epochs = 2"
   ]
  },
  {
   "cell_type": "code",
   "execution_count": 15,
   "metadata": {},
   "outputs": [],
   "source": [
    "for (images,labels) in train_loader:\n",
    "    break"
   ]
  },
  {
   "cell_type": "code",
   "execution_count": null,
   "metadata": {},
   "outputs": [],
   "source": [
    "#Training Loop\n",
    "\n",
    "model.train()\n",
    "training_steps = len(train_loader) * num_epochs\n",
    "progress_bar = tqdm(range(training_steps))\n",
    "step = 0\n",
    "\n",
    "for epoch in range(num_epochs):\n",
    "    for (images,labels) in train_loader:\n",
    "        #Forward pass\n",
    "        output_logits = model(images)\n",
    "\n",
    "        #Compute loss\n",
    "        loss = criterion(output_logits,labels)\n",
    "\n",
    "        #Zero-out the grads\n",
    "        optimizer.zero_grad()\n",
    "\n",
    "        loss.backward()\n",
    "\n",
    "        #updates weights\n",
    "        optimizer.step()\n",
    "\n",
    "        progress_bar.update(1)\n",
    "        step+=1\n",
    "\n",
    "        if step%100 == 0:\n",
    "            print(\"Loss : \",loss.item())\n"
   ]
  },
  {
   "cell_type": "code",
   "execution_count": 17,
   "metadata": {},
   "outputs": [],
   "source": [
    "def test_model(model_to_test):\n",
    "    model_to_test.eval()\n",
    "    correct = 0\n",
    "    with torch.no_grad():\n",
    "        for (images,labels) in test_loader:\n",
    "            #Forward pass\n",
    "            output = model_to_test(images)\n",
    "            preds = torch.argmax(output,dim=-1)\n",
    "            correct += (preds==labels).sum().item()\n",
    "    return correct"
   ]
  },
  {
   "cell_type": "code",
   "execution_count": 18,
   "metadata": {},
   "outputs": [
    {
     "data": {
      "text/plain": [
       "9614"
      ]
     },
     "execution_count": 18,
     "metadata": {},
     "output_type": "execute_result"
    }
   ],
   "source": [
    "correct = test_model(model)\n",
    "correct"
   ]
  },
  {
   "cell_type": "code",
   "execution_count": 19,
   "metadata": {},
   "outputs": [
    {
     "data": {
      "text/plain": [
       "0.9614"
      ]
     },
     "execution_count": 19,
     "metadata": {},
     "output_type": "execute_result"
    }
   ],
   "source": [
    "Accuracy = correct/len(custom_test_data)\n",
    "Accuracy"
   ]
  },
  {
   "cell_type": "code",
   "execution_count": 20,
   "metadata": {},
   "outputs": [],
   "source": [
    "path_to_save = r\"D:\\MTech_IISc\\OneDrive - Indian Institute of Science\\Fourth Semester\\UMCAIMLTA\\PytorchTutorial\\Models\\LinearModel1.pt\""
   ]
  },
  {
   "cell_type": "code",
   "execution_count": 23,
   "metadata": {},
   "outputs": [],
   "source": [
    "torch.save(model.state_dict(),path_to_save)"
   ]
  },
  {
   "cell_type": "code",
   "execution_count": 24,
   "metadata": {},
   "outputs": [],
   "source": [
    "New_Model = FFNN()"
   ]
  },
  {
   "cell_type": "code",
   "execution_count": 27,
   "metadata": {},
   "outputs": [
    {
     "data": {
      "text/plain": [
       "<All keys matched successfully>"
      ]
     },
     "execution_count": 27,
     "metadata": {},
     "output_type": "execute_result"
    }
   ],
   "source": [
    "New_Model.load_state_dict(torch.load(path_to_save))"
   ]
  },
  {
   "cell_type": "code",
   "execution_count": 28,
   "metadata": {},
   "outputs": [],
   "source": [
    "correct = test_model(New_Model)"
   ]
  },
  {
   "cell_type": "code",
   "execution_count": 29,
   "metadata": {},
   "outputs": [
    {
     "data": {
      "text/plain": [
       "9494"
      ]
     },
     "execution_count": 29,
     "metadata": {},
     "output_type": "execute_result"
    }
   ],
   "source": [
    "correct"
   ]
  },
  {
   "cell_type": "code",
   "execution_count": null,
   "metadata": {},
   "outputs": [],
   "source": []
  }
 ],
 "metadata": {
  "kernelspec": {
   "display_name": "envForDLNLP",
   "language": "python",
   "name": "python3"
  },
  "language_info": {
   "codemirror_mode": {
    "name": "ipython",
    "version": 3
   },
   "file_extension": ".py",
   "mimetype": "text/x-python",
   "name": "python",
   "nbconvert_exporter": "python",
   "pygments_lexer": "ipython3",
   "version": "3.11.4"
  }
 },
 "nbformat": 4,
 "nbformat_minor": 2
}
