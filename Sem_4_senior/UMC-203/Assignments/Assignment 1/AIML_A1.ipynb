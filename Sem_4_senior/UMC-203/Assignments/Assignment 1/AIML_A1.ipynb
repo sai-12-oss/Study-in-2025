{
  "cells": [
    {
      "cell_type": "markdown",
      "metadata": {
        "id": "80NpGFmiKdui"
      },
      "source": [
        "# UMC 203: Artificial Intelligence and Machine Learning\n",
        "# Assignment 1\n",
        "\n"
      ]
    },
    {
      "cell_type": "markdown",
      "metadata": {
        "id": "_HqFH4UkOAU8"
      },
      "source": [
        "## Setup"
      ]
    },
    {
      "cell_type": "markdown",
      "metadata": {
        "id": "0MvfJ4Y1Nsa-"
      },
      "source": [
        "Please run the code below *after modifying it* appropriately every time you connect to an environment."
      ]
    },
    {
      "cell_type": "code",
      "execution_count": 2,
      "metadata": {
        "colab": {
          "base_uri": "https://localhost:8080/"
        },
        "id": "PN_ZWwiSKTom",
        "outputId": "21f3a638-33e8-4af2-b59c-f40e77607b33"
      },
      "outputs": [
        {
          "name": "stdout",
          "output_type": "stream",
          "text": [
            "Mounted at /content/drive\n",
            "Archive:  AIML_A1.zip\n",
            "   creating: pyarmor_runtime_000000/\n",
            "  inflating: pyarmor_runtime_000000/pyarmor_runtime.so  \n",
            "  inflating: pyarmor_runtime_000000/__init__.py  \n",
            "   creating: pyarmor_runtime_000000/__pycache__/\n",
            "  inflating: pyarmor_runtime_000000/__pycache__/__init__.cpython-311.pyc  \n",
            "  inflating: diabetes.csv            \n",
            "  inflating: oracle.py               \n"
          ]
        }
      ],
      "source": [
        "# 1. [TODO by yourself] Upload the zip file provided as part of the assignment onto your google drive. Do this by uploading the file to your drive.\n",
        "# 2. Connect the google drive to the colab\n",
        "from google.colab import drive\n",
        "drive.mount('/content/drive')\n",
        "# 3. copy the zip file into the current working directory\n",
        "!cp /content/drive/MyDrive/AIML_A1.zip .\n",
        "# eg. !cp /content/drive/MyDrive/AIML_A1.zip .\n",
        "# extract the zip file\n",
        "!unzip AIML_A1.zip\n",
        "# eg. !unzip A1.zip"
      ]
    },
    {
      "cell_type": "code",
      "execution_count": 3,
      "metadata": {
        "id": "0p4LGvmqO721"
      },
      "outputs": [],
      "source": [
        "import oracle as AIML_A1"
      ]
    },
    {
      "cell_type": "markdown",
      "metadata": {
        "id": "99ikdazdOCOC"
      },
      "source": [
        "## Question 1: Naive Bayes"
      ]
    },
    {
      "cell_type": "code",
      "execution_count": null,
      "metadata": {
        "colab": {
          "base_uri": "https://localhost:8080/"
        },
        "id": "TQptpK8iO3B4",
        "outputId": "8b7f3aa3-93f4-40d1-d3f5-61436c41b02f"
      },
      "outputs": [
        {
          "name": "stdout",
          "output_type": "stream",
          "text": [
            "l(0,1)=5, l(1,0)=3\n",
            "[(array([-0.19276,  1.85458, -3.17599, -1.00722, -3.12217]), 0.0), (array([ 0.59744,  0.8383 ,  2.6052 , -0.56367, -0.25924]), 1.0)]\n"
          ]
        }
      ],
      "source": [
        "# Instructions and calling conventions for the different functions\n",
        "\n",
        "# PLEASE PROVIDE YOUR OWN SR NUMBERS TO ALL FUNCTIONS\n",
        "mysrn = 22205\n",
        "\n",
        "# q1_get_loss provides l(0,1) and l(1,0) in the setting discussed in the assignment\n",
        "# help(AIML_A1.q1_get_loss)\n",
        "# eg:\n",
        "l1, l2 = AIML_A1.q1_get_loss(mysrn)\n",
        "print(f\"l(0,1)={l1}, l(1,0)={l2}\")\n",
        "\n",
        "# q1_get_train_set returns a training set wih the number of required samples\n",
        "# help(AIML_A1.q1_get_train_set)\n",
        "q1_train_data = AIML_A1.q1_get_train_set(mysrn,1)\n",
        "print(q1_train_data)\n",
        "\n",
        "# q1_get_test_set returns the test set\n",
        "# help(AIML_A1.q1_get_test_set)\n",
        "q1_test_data = AIML_A1.q1_get_test_set(mysrn)\n"
      ]
    },
    {
      "cell_type": "code",
      "execution_count": null,
      "metadata": {
        "id": "8U8Xl6imQPP1"
      },
      "outputs": [],
      "source": [
        "import numpy as np\n",
        "\n",
        "def mean(data):\n",
        "  samples_0 = [data[i][0] for i in range(len(data)) if data[i][1] == 0]\n",
        "  samples_1 = [data[i][0] for i in range(len(data)) if data[i][1] == 1]\n",
        "\n",
        "  mean_0 = np.mean(samples_0,axis=0)\n",
        "  mean_1 = np.mean(samples_1,axis=0)\n",
        "\n",
        "  return mean_0, mean_1\n",
        "\n",
        "def var(data):\n",
        "  samples_0 = [data[i][0] for i in range(len(data)) if data[i][1] == 0]\n",
        "  samples_1 = [data[i][0] for i in range(len(data)) if data[i][1] == 1]\n",
        "\n",
        "  var_0 = []\n",
        "  for i in range(len(data[0][0])):\n",
        "    elements = [samples_0[j][i] for j in range(len(samples_0))]\n",
        "    var_0.append(np.var(elements))\n",
        "\n",
        "  var_0 = np.diag(var_0)\n",
        "\n",
        "  var_1 = []\n",
        "  for i in range(len(data[0][0])):\n",
        "    elements = [samples_1[j][i] for j in range(len(samples_1))]\n",
        "    var_1.append(np.var(elements))\n",
        "\n",
        "  var_1 = np.diag(var_1)\n",
        "\n",
        "  return var_0, var_1"
      ]
    },
    {
      "cell_type": "code",
      "execution_count": null,
      "metadata": {
        "id": "uGgCPM6x0PhK"
      },
      "outputs": [],
      "source": [
        "def naive_bayes(x,mean,var,l1,l2):\n",
        "  det_v0 = np.linalg.det(var[0])\n",
        "  det_v1 = np.linalg.det(var[1])\n",
        "  inv_v0 = np.linalg.inv(var[0])\n",
        "  inv_v1 = np.linalg.inv(var[1])\n",
        "  x0 = x - mean[0]\n",
        "  x1 = x - mean[1]\n",
        "\n",
        "  func = np.log(l1/l2) + 0.5*np.log(det_v0/det_v1) + 0.5*(np.dot(np.dot(x0.T,inv_v0),x0) - np.dot(np.dot(x1.T,inv_v1),x1))\n",
        "\n",
        "  if func > 0:\n",
        "    return 1\n",
        "  return 0\n",
        "\n",
        "def loss(naive_bayes,data,mean,var,l1,l2):\n",
        "  loss = 0\n",
        "  for i in range(len(data)):\n",
        "    prediction = naive_bayes(data[i][0],mean,var,l1,l2)\n",
        "    if prediction == 0 and data[i][1] == 1:\n",
        "      loss += l1\n",
        "    if prediction == 1 and data[i][1] == 0:\n",
        "      loss += l2\n",
        "\n",
        "  loss = loss/len(data)\n",
        "  return loss"
      ]
    },
    {
      "cell_type": "code",
      "execution_count": null,
      "metadata": {
        "colab": {
          "base_uri": "https://localhost:8080/"
        },
        "id": "YzDO30pWXKUz",
        "outputId": "fd4b87c1-b77e-45bb-d303-48741a858e9c"
      },
      "outputs": [
        {
          "name": "stdout",
          "output_type": "stream",
          "text": [
            "(array([-1.96221 ,  0.18944 , -0.049585,  0.081975,  1.9774  ]), array([ 1.20234 ,  2.34644 ,  0.714605,  0.214555, -0.690705]))\n",
            "(array([[0.30358998, 0.        , 0.        , 0.        , 0.        ],\n",
            "       [0.        , 0.11507021, 0.        , 0.        , 0.        ],\n",
            "       [0.        , 0.        , 0.3862809 , 0.        , 0.        ],\n",
            "       [0.        , 0.        , 0.        , 0.00121766, 0.        ],\n",
            "       [0.        , 0.        , 0.        , 0.        , 0.27284952]]), array([[0.36590401, 0.        , 0.        , 0.        , 0.        ],\n",
            "       [0.        , 2.27448626, 0.        , 0.        , 0.        ],\n",
            "       [0.        , 0.        , 3.57434945, 0.        , 0.        ],\n",
            "       [0.        , 0.        , 0.        , 0.60563415, 0.        ],\n",
            "       [0.        , 0.        , 0.        , 0.        , 0.18616205]]))\n",
            "1.475\n"
          ]
        }
      ],
      "source": [
        "train_data = AIML_A1.q1_get_train_set(mysrn,2)\n",
        "m = mean(train_data)\n",
        "v = var(train_data)\n",
        "\n",
        "l = loss(naive_bayes,q1_test_data,m,v,l1,l2)\n",
        "\n",
        "print(m)\n",
        "print(v)\n",
        "print(l)"
      ]
    },
    {
      "cell_type": "code",
      "execution_count": null,
      "metadata": {
        "colab": {
          "base_uri": "https://localhost:8080/"
        },
        "id": "gEl1AUhRX06F",
        "outputId": "c1cbddea-5e58-4c65-f839-6951187600c4"
      },
      "outputs": [
        {
          "name": "stdout",
          "output_type": "stream",
          "text": [
            "(array([-1.224015, -0.489617, -1.660371, -1.284154, -0.8959  ]), array([0.866145, 1.660201, 1.566222, 1.151618, 1.596393]))\n",
            "(array([[2.57804484, 0.        , 0.        , 0.        , 0.        ],\n",
            "       [0.        , 2.79660319, 0.        , 0.        , 0.        ],\n",
            "       [0.        , 0.        , 1.29792628, 0.        , 0.        ],\n",
            "       [0.        , 0.        , 0.        , 0.51546087, 0.        ],\n",
            "       [0.        , 0.        , 0.        , 0.        , 3.16155971]]), array([[1.53072143, 0.        , 0.        , 0.        , 0.        ],\n",
            "       [0.        , 2.1998811 , 0.        , 0.        , 0.        ],\n",
            "       [0.        , 0.        , 1.96567014, 0.        , 0.        ],\n",
            "       [0.        , 0.        , 0.        , 1.06477637, 0.        ],\n",
            "       [0.        , 0.        , 0.        , 0.        , 4.03515874]]))\n",
            "0.265\n"
          ]
        }
      ],
      "source": [
        "train_data = AIML_A1.q1_get_train_set(mysrn,10)\n",
        "m = mean(train_data)\n",
        "v = var(train_data)\n",
        "\n",
        "l = loss(naive_bayes,q1_test_data,m,v,l1,l2)\n",
        "\n",
        "print(m)\n",
        "print(v)\n",
        "print(l)"
      ]
    },
    {
      "cell_type": "code",
      "execution_count": null,
      "metadata": {
        "colab": {
          "base_uri": "https://localhost:8080/"
        },
        "id": "LR1MJ7ixYEFf",
        "outputId": "2cbb6a97-a535-4ba2-ee92-be30291dadfe"
      },
      "outputs": [
        {
          "name": "stdout",
          "output_type": "stream",
          "text": [
            "(array([-1.5337625, -0.97972  , -0.855086 , -0.648637 , -0.4467095]), array([0.821065 , 1.585292 , 0.9529255, 0.933732 , 1.3502465]))\n",
            "(array([[2.48649536, 0.        , 0.        , 0.        , 0.        ],\n",
            "       [0.        , 2.36520239, 0.        , 0.        , 0.        ],\n",
            "       [0.        , 0.        , 2.38199098, 0.        , 0.        ],\n",
            "       [0.        , 0.        , 0.        , 0.88413231, 0.        ],\n",
            "       [0.        , 0.        , 0.        , 0.        , 8.81874419]]), array([[2.05641534, 0.        , 0.        , 0.        , 0.        ],\n",
            "       [0.        , 2.5038535 , 0.        , 0.        , 0.        ],\n",
            "       [0.        , 0.        , 2.00793081, 0.        , 0.        ],\n",
            "       [0.        , 0.        , 0.        , 0.83759293, 0.        ],\n",
            "       [0.        , 0.        , 0.        , 0.        , 3.65894733]]))\n",
            "0.4\n"
          ]
        }
      ],
      "source": [
        "train_data = AIML_A1.q1_get_train_set(mysrn,20)\n",
        "m = mean(train_data)\n",
        "v = var(train_data)\n",
        "\n",
        "l = loss(naive_bayes,q1_test_data,m,v,l1,l2)\n",
        "\n",
        "print(m)\n",
        "print(v)\n",
        "print(l)"
      ]
    },
    {
      "cell_type": "code",
      "execution_count": null,
      "metadata": {
        "colab": {
          "base_uri": "https://localhost:8080/"
        },
        "id": "XQfvP66qYD_L",
        "outputId": "aabb0c50-0c08-45ba-fc7d-b29288e5ea77"
      },
      "outputs": [
        {
          "name": "stdout",
          "output_type": "stream",
          "text": [
            "(array([-0.6546238, -0.9917164, -0.6672196, -1.2205246, -1.2043944]), array([0.787225 , 1.1853278, 0.936112 , 1.0084708, 1.5183972]))\n",
            "(array([[1.99685417, 0.        , 0.        , 0.        , 0.        ],\n",
            "       [0.        , 2.52477144, 0.        , 0.        , 0.        ],\n",
            "       [0.        , 0.        , 2.24238608, 0.        , 0.        ],\n",
            "       [0.        , 0.        , 0.        , 1.2040245 , 0.        ],\n",
            "       [0.        , 0.        , 0.        , 0.        , 4.87413308]]), array([[2.25806098, 0.        , 0.        , 0.        , 0.        ],\n",
            "       [0.        , 2.25062163, 0.        , 0.        , 0.        ],\n",
            "       [0.        , 0.        , 2.19810184, 0.        , 0.        ],\n",
            "       [0.        , 0.        , 0.        , 0.94272801, 0.        ],\n",
            "       [0.        , 0.        , 0.        , 0.        , 6.42619665]]))\n",
            "0.25\n"
          ]
        }
      ],
      "source": [
        "train_data = AIML_A1.q1_get_train_set(mysrn,50)\n",
        "m = mean(train_data)\n",
        "v = var(train_data)\n",
        "\n",
        "l = loss(naive_bayes,q1_test_data,m,v,l1,l2)\n",
        "\n",
        "print(m)\n",
        "print(v)\n",
        "print(l)"
      ]
    },
    {
      "cell_type": "code",
      "execution_count": null,
      "metadata": {
        "colab": {
          "base_uri": "https://localhost:8080/"
        },
        "id": "wTT4kzp-YD4W",
        "outputId": "cffcadb7-f377-4e72-e282-317476658035"
      },
      "outputs": [
        {
          "name": "stdout",
          "output_type": "stream",
          "text": [
            "(array([-0.9689749, -0.9270526, -0.9664571, -0.8201764, -1.0597007]), array([1.0663006, 1.0968057, 1.1344462, 0.8939731, 1.1570014]))\n",
            "(array([[2.28345333, 0.        , 0.        , 0.        , 0.        ],\n",
            "       [0.        , 2.40552193, 0.        , 0.        , 0.        ],\n",
            "       [0.        , 0.        , 2.21243518, 0.        , 0.        ],\n",
            "       [0.        , 0.        , 0.        , 0.8616304 , 0.        ],\n",
            "       [0.        , 0.        , 0.        , 0.        , 5.95635315]]), array([[2.20534076, 0.        , 0.        , 0.        , 0.        ],\n",
            "       [0.        , 2.3955327 , 0.        , 0.        , 0.        ],\n",
            "       [0.        , 0.        , 2.25958041, 0.        , 0.        ],\n",
            "       [0.        , 0.        , 0.        , 1.08648598, 0.        ],\n",
            "       [0.        , 0.        , 0.        , 0.        , 5.78077179]]))\n",
            "0.34\n"
          ]
        }
      ],
      "source": [
        "train_data = AIML_A1.q1_get_train_set(mysrn,100)\n",
        "m = mean(train_data)\n",
        "v = var(train_data)\n",
        "\n",
        "l = loss(naive_bayes,q1_test_data,m,v,l1,l2)\n",
        "\n",
        "print(m)\n",
        "print(v)\n",
        "print(l)"
      ]
    },
    {
      "cell_type": "code",
      "execution_count": null,
      "metadata": {
        "colab": {
          "base_uri": "https://localhost:8080/"
        },
        "id": "lsZb2IbwYDx8",
        "outputId": "530fa7aa-2b5e-42dc-b034-2d413e76223c"
      },
      "outputs": [
        {
          "name": "stdout",
          "output_type": "stream",
          "text": [
            "(array([-1.01377356, -0.99894404, -1.0104815 , -1.00787736, -0.93998246]), array([1.01445284, 1.01366632, 0.97896886, 1.04943584, 1.0113819 ]))\n",
            "(array([[2.35045986, 0.        , 0.        , 0.        , 0.        ],\n",
            "       [0.        , 2.46591919, 0.        , 0.        , 0.        ],\n",
            "       [0.        , 0.        , 2.37234442, 0.        , 0.        ],\n",
            "       [0.        , 0.        , 0.        , 0.94806002, 0.        ],\n",
            "       [0.        , 0.        , 0.        , 0.        , 5.37868451]]), array([[2.37126345, 0.        , 0.        , 0.        , 0.        ],\n",
            "       [0.        , 2.50692838, 0.        , 0.        , 0.        ],\n",
            "       [0.        , 0.        , 2.29197777, 0.        , 0.        ],\n",
            "       [0.        , 0.        , 0.        , 0.95968702, 0.        ],\n",
            "       [0.        , 0.        , 0.        , 0.        , 5.2598086 ]]))\n",
            "0.24\n"
          ]
        }
      ],
      "source": [
        "train_data = AIML_A1.q1_get_train_set(mysrn,500)\n",
        "m = mean(train_data)\n",
        "v = var(train_data)\n",
        "\n",
        "l = loss(naive_bayes,q1_test_data,m,v,l1,l2)\n",
        "\n",
        "print(m)\n",
        "print(v)\n",
        "print(l)"
      ]
    },
    {
      "cell_type": "code",
      "execution_count": null,
      "metadata": {
        "colab": {
          "base_uri": "https://localhost:8080/"
        },
        "id": "SnVKiZv8YDlm",
        "outputId": "f68f6da9-bd87-4592-eeb3-fa3871f702c8"
      },
      "outputs": [
        {
          "name": "stdout",
          "output_type": "stream",
          "text": [
            "(array([-1.05463798, -1.03853627, -1.01758959, -1.03431583, -0.90236216]), array([1.00033964, 1.00736114, 0.98424368, 1.02077924, 1.03569972]))\n",
            "(array([[2.29483634, 0.        , 0.        , 0.        , 0.        ],\n",
            "       [0.        , 2.50030068, 0.        , 0.        , 0.        ],\n",
            "       [0.        , 0.        , 2.41024345, 0.        , 0.        ],\n",
            "       [0.        , 0.        , 0.        , 1.08015965, 0.        ],\n",
            "       [0.        , 0.        , 0.        , 0.        , 5.41893795]]), array([[2.36106084, 0.        , 0.        , 0.        , 0.        ],\n",
            "       [0.        , 2.48646354, 0.        , 0.        , 0.        ],\n",
            "       [0.        , 0.        , 2.33218892, 0.        , 0.        ],\n",
            "       [0.        , 0.        , 0.        , 0.95469472, 0.        ],\n",
            "       [0.        , 0.        , 0.        , 0.        , 5.31983791]]))\n",
            "0.265\n"
          ]
        }
      ],
      "source": [
        "train_data = AIML_A1.q1_get_train_set(mysrn,1000)\n",
        "m = mean(train_data)\n",
        "v = var(train_data)\n",
        "\n",
        "l = loss(naive_bayes,q1_test_data,m,v,l1,l2)\n",
        "\n",
        "print(m)\n",
        "print(v)\n",
        "print(l)"
      ]
    },
    {
      "cell_type": "markdown",
      "metadata": {
        "id": "eJplWm2zIbtv"
      },
      "source": [
        "## CIFAR10 classification"
      ]
    },
    {
      "cell_type": "code",
      "execution_count": null,
      "metadata": {
        "colab": {
          "base_uri": "https://localhost:8080/"
        },
        "id": "30rb3b55MiPI",
        "outputId": "1c03b2f4-62cd-4c58-d309-43d916828d2c"
      },
      "outputs": [
        {
          "name": "stdout",
          "output_type": "stream",
          "text": [
            "Files already downloaded and verified\n",
            "Files already downloaded and verified\n"
          ]
        },
        {
          "name": "stderr",
          "output_type": "stream",
          "text": [
            "<ipython-input-78-caf740fe1934>:22: RuntimeWarning: invalid value encountered in scalar divide\n",
            "  func = np.log(l1/l2) + 0.5*np.log(det_v0/det_v1) + 0.5*(np.dot(np.dot(x0.T,inv_v0),x0) - np.dot(np.dot(x1.T,inv_v1),x1))\n"
          ]
        },
        {
          "name": "stdout",
          "output_type": "stream",
          "text": [
            "2000\n"
          ]
        }
      ],
      "source": [
        "from PIL import Image\n",
        "import matplotlib.pyplot as plt\n",
        "import numpy as np\n",
        "\n",
        "# help(AIML_A1.q1_get_cifar10_train_test)\n",
        "cifar10_train, cifar10_test = AIML_A1.q1_get_cifar10_train_test(mysrn)\n",
        "\n",
        "m = mean(cifar10_train)\n",
        "v = var(cifar10_train)\n",
        "\n",
        "det_v0 = np.linalg.det(v[0])\n",
        "det_v1 = np.linalg.det(v[1])\n",
        "inv_v0 = np.linalg.inv(v[0])\n",
        "inv_v1 = np.linalg.inv(v[1])\n",
        "mistakes = 0\n",
        "\n",
        "for i in range(len(cifar10_test)):\n",
        "  x = cifar10_test[i][0]\n",
        "  x0 = x - m[0]\n",
        "  x1 = x - m[1]\n",
        "\n",
        "  func = np.log(l1/l2) + 0.5*np.log(det_v0/det_v1) + 0.5*(np.dot(np.dot(x0.T,inv_v0),x0) - np.dot(np.dot(x1.T,inv_v1),x1))\n",
        "\n",
        "  prediction = 0\n",
        "  if func > 0:\n",
        "    prediction = 1\n",
        "\n",
        "  if prediction != cifar10_test[i][1]:\n",
        "    mistakes += 1\n",
        "\n",
        "print(mistakes)\n",
        "\n",
        "\n",
        "# plot an example images\n",
        "# plt.imshow(Image.fromarray(cifar10_train[0][0].reshape(32,32,3).astype(np.uint8)))\n",
        "# plt.show()"
      ]
    },
    {
      "cell_type": "code",
      "execution_count": null,
      "metadata": {
        "colab": {
          "background_save": true
        },
        "id": "QTpIiF-WXs9N"
      },
      "outputs": [],
      "source": [
        "# To save all the images, run the following code block\n",
        "!mkdir class0 class1\n",
        "for i,(x,y) in enumerate(cifar10_train):\n",
        "  plt.imshow(Image.fromarray(x.reshape(32,32,3).astype(np.uint8)))\n",
        "  plt.savefig(f\"class{int(y)}/{i}.jpg\")"
      ]
    },
    {
      "cell_type": "markdown",
      "metadata": {
        "id": "V06P9hRLQXqA"
      },
      "source": [
        "# Question 2"
      ]
    },
    {
      "cell_type": "code",
      "execution_count": null,
      "metadata": {
        "id": "VEiuhufYyIaf"
      },
      "outputs": [],
      "source": [
        "# help(AIML_A1.q2_perceive)\n",
        "perceptron_data = AIML_A1.q2_perceive(mysrn)"
      ]
    },
    {
      "cell_type": "code",
      "execution_count": null,
      "metadata": {
        "id": "w503QuL6jDZP"
      },
      "outputs": [],
      "source": [
        "import math\n",
        "\n",
        "def perceptron(data):\n",
        "  w_0 = np.zeros(len(data[0][0])+1)  # Here w_0 is (w,b)\n",
        "  error_total = 0\n",
        "  error = 1\n",
        "\n",
        "  while error != 0:\n",
        "    error = 0\n",
        "    for i in range(len(data)):\n",
        "      x = data[i][0]\n",
        "      y = data[i][1]\n",
        "      x = np.append(x,[1])   # Add 1 at the end of every x to account for b in w_0\n",
        "\n",
        "      if y*np.dot(w_0.T,x) <= 0:\n",
        "        w_0 += y*x\n",
        "        error += 1\n",
        "    error_total += error\n",
        "\n",
        "  b = w_0[-1]\n",
        "  return w_0[:-1], b, error_total   # Finally remove the last element from w_0 to get the required w\n",
        "\n",
        "def margin(data,w):\n",
        "  margin = math.inf\n",
        "  for i in range(len(data)):\n",
        "    x = data[i][0]\n",
        "    y = data[i][1]\n",
        "\n",
        "    if abs(y*np.dot(w.T,x))/np.linalg.norm(w) < margin:\n",
        "      margin = abs(y*np.dot(w.T,x))/np.linalg.norm(w)\n",
        "\n",
        "  return margin\n",
        "\n",
        "def radius(data):\n",
        "  radius = 0\n",
        "  for i in range(len(data)):\n",
        "    x = data[i][0]\n",
        "    if np.linalg.norm(x) > radius:\n",
        "      radius = np.linalg.norm(x)\n",
        "\n",
        "  return radius"
      ]
    },
    {
      "cell_type": "code",
      "execution_count": null,
      "metadata": {
        "colab": {
          "base_uri": "https://localhost:8080/"
        },
        "id": "0ghzN_kU0dIS",
        "outputId": "042cb9d3-f1e1-4d83-a53d-964d8e4deffe"
      },
      "outputs": [
        {
          "name": "stdout",
          "output_type": "stream",
          "text": [
            "[13.44741 14.15805 13.29934 40.93782  7.18301]\n",
            "0.0\n",
            "780\n"
          ]
        }
      ],
      "source": [
        "w, b, error_total = perceptron(perceptron_data)\n",
        "print(w)\n",
        "print(b)\n",
        "print(error_total)"
      ]
    },
    {
      "cell_type": "code",
      "execution_count": null,
      "metadata": {
        "colab": {
          "base_uri": "https://localhost:8080/"
        },
        "id": "KUaTcNlevQ1p",
        "outputId": "35a7f495-9d08-44a6-d0b7-eb884a95dbd5"
      },
      "outputs": [
        {
          "name": "stdout",
          "output_type": "stream",
          "text": [
            "0.0009899721747263753\n"
          ]
        }
      ],
      "source": [
        "print(margin(perceptron_data,w))"
      ]
    },
    {
      "cell_type": "code",
      "execution_count": null,
      "metadata": {
        "colab": {
          "base_uri": "https://localhost:8080/"
        },
        "id": "rRrmz1N3w7zu",
        "outputId": "070d11c7-a611-482d-8230-c3bd1437e7b7"
      },
      "outputs": [
        {
          "name": "stdout",
          "output_type": "stream",
          "text": [
            "4.582303697355731\n"
          ]
        }
      ],
      "source": [
        "print(radius(perceptron_data))"
      ]
    },
    {
      "cell_type": "markdown",
      "metadata": {
        "id": "-YYUBD86hoQZ"
      },
      "source": [
        "## Perceiving MNIST"
      ]
    },
    {
      "cell_type": "code",
      "execution_count": null,
      "metadata": {
        "id": "M2YCrJweht90"
      },
      "outputs": [],
      "source": [
        "# help(AIML_A1.q2_mnist)\n",
        "mnist_data = AIML_A1.q2_mnist(mysrn)"
      ]
    },
    {
      "cell_type": "code",
      "execution_count": null,
      "metadata": {
        "id": "ryJSuXhRh04H"
      },
      "outputs": [],
      "source": [
        "import matplotlib.pyplot as plt\n",
        "plt.imshow(mnist_data[0][0].reshape(28,28),cmap=plt.cm.gray_r,interpolation=\"nearest\")"
      ]
    },
    {
      "cell_type": "code",
      "execution_count": null,
      "metadata": {
        "colab": {
          "base_uri": "https://localhost:8080/"
        },
        "id": "2vOA4UEJ0xon",
        "outputId": "dc94a860-f7cc-404a-d5a8-5cf532f1e1b0"
      },
      "outputs": [
        {
          "name": "stdout",
          "output_type": "stream",
          "text": [
            "[ 0.000e+00  0.000e+00  0.000e+00  0.000e+00  0.000e+00  0.000e+00\n",
            "  0.000e+00  0.000e+00  0.000e+00  0.000e+00  0.000e+00  0.000e+00\n",
            "  0.000e+00  0.000e+00  0.000e+00  0.000e+00  0.000e+00  0.000e+00\n",
            "  0.000e+00  0.000e+00  0.000e+00  0.000e+00  0.000e+00  0.000e+00\n",
            "  0.000e+00  0.000e+00  0.000e+00  0.000e+00  0.000e+00  0.000e+00\n",
            "  0.000e+00  0.000e+00  0.000e+00  0.000e+00  0.000e+00  0.000e+00\n",
            "  0.000e+00  0.000e+00  0.000e+00  0.000e+00  0.000e+00  0.000e+00\n",
            "  1.340e+02  2.550e+02  1.460e+02  0.000e+00  0.000e+00  0.000e+00\n",
            "  0.000e+00  0.000e+00  0.000e+00  0.000e+00  0.000e+00  0.000e+00\n",
            "  0.000e+00  0.000e+00  0.000e+00  0.000e+00  0.000e+00  0.000e+00\n",
            "  0.000e+00  0.000e+00  0.000e+00  0.000e+00  0.000e+00  0.000e+00\n",
            "  0.000e+00  0.000e+00  3.660e+02  3.500e+02  3.870e+02  6.890e+02\n",
            "  4.680e+02  7.500e+01  0.000e+00  0.000e+00  0.000e+00  0.000e+00\n",
            "  0.000e+00  0.000e+00  0.000e+00  0.000e+00  0.000e+00  0.000e+00\n",
            "  0.000e+00  0.000e+00  0.000e+00  0.000e+00  0.000e+00  0.000e+00\n",
            "  2.500e+01  2.180e+02  2.540e+02  2.540e+02  5.990e+02  9.490e+02\n",
            "  1.203e+03  2.593e+03  2.651e+03  1.168e+03  1.190e+03  1.073e+03\n",
            "  7.770e+02  6.960e+02 -1.190e+02  2.550e+02  0.000e+00  0.000e+00\n",
            "  0.000e+00  0.000e+00  0.000e+00  0.000e+00  0.000e+00  0.000e+00\n",
            "  0.000e+00  0.000e+00 -3.800e+01 -3.360e+02  4.600e+01  2.940e+02\n",
            "  4.940e+02  4.880e+02  3.390e+02  8.290e+02  1.261e+03  1.731e+03\n",
            "  2.775e+03  3.123e+03  2.654e+03  2.815e+03  2.414e+03  9.070e+02\n",
            " -1.140e+02  7.600e+01 -3.450e+02 -5.600e+02  0.000e+00  0.000e+00\n",
            "  0.000e+00  0.000e+00  0.000e+00  0.000e+00  0.000e+00 -2.600e+01\n",
            " -2.520e+02 -3.660e+02  2.560e+02  4.420e+02  6.180e+02  5.220e+02\n",
            "  1.035e+03  3.040e+02  1.094e+03  1.453e+03  2.724e+03  3.979e+03\n",
            "  2.138e+03  6.330e+02  1.949e+03  2.090e+02  3.010e+02 -9.900e+01\n",
            " -1.880e+02 -5.050e+02 -5.100e+02 -2.280e+02  0.000e+00  0.000e+00\n",
            "  0.000e+00  0.000e+00  0.000e+00 -2.640e+02 -9.080e+02 -2.970e+02\n",
            " -6.100e+01  2.730e+02 -4.440e+02  2.100e+02  4.000e+02  7.750e+02\n",
            "  1.870e+03  1.332e+03  9.350e+02  3.165e+03  2.412e+03  6.110e+02\n",
            "  1.585e+03  4.540e+02  4.440e+02 -4.720e+02 -1.641e+03 -1.081e+03\n",
            " -9.020e+02 -5.400e+02 -2.300e+01  0.000e+00  0.000e+00  0.000e+00\n",
            "  0.000e+00 -2.640e+02 -9.210e+02 -3.660e+02 -3.110e+02  1.570e+02\n",
            " -2.260e+02  1.180e+02  6.000e+00  1.062e+03  2.633e+03  2.140e+03\n",
            "  2.007e+03  3.263e+03  3.635e+03  1.427e+03  1.770e+02  6.960e+02\n",
            "  4.590e+02 -9.060e+02 -6.870e+02 -5.110e+02 -1.107e+03 -1.139e+03\n",
            " -2.840e+02  0.000e+00  0.000e+00  0.000e+00  0.000e+00 -2.640e+02\n",
            " -9.040e+02 -2.720e+02 -3.370e+02  5.090e+02  4.380e+02  9.430e+02\n",
            "  6.850e+02  1.482e+03  1.984e+03  1.280e+03  1.866e+03  2.179e+03\n",
            "  2.223e+03  3.560e+02  9.280e+02 -5.520e+02  1.255e+03 -5.580e+02\n",
            "  1.210e+02  9.300e+01 -8.400e+02 -7.400e+02 -1.020e+02  0.000e+00\n",
            "  0.000e+00  0.000e+00  0.000e+00 -1.980e+02 -8.940e+02 -3.970e+02\n",
            " -6.400e+02 -7.830e+02 -6.100e+02 -6.300e+01  5.230e+02 -1.730e+02\n",
            " -1.558e+03  2.710e+02  1.446e+03  2.049e+03 -4.230e+02 -9.400e+01\n",
            " -4.440e+02 -5.380e+02  4.500e+01  1.000e+02  4.750e+02  3.990e+02\n",
            " -3.230e+02 -3.500e+01  0.000e+00  0.000e+00  0.000e+00  0.000e+00\n",
            "  0.000e+00 -5.200e+01 -4.560e+02 -6.600e+01  2.730e+02 -4.400e+02\n",
            " -1.022e+03 -9.860e+02 -1.382e+03 -1.663e+03 -1.298e+03 -6.890e+02\n",
            "  2.200e+01  8.930e+02  3.600e+02  5.440e+02 -7.200e+01 -3.350e+02\n",
            " -9.990e+02  7.940e+02  1.121e+03  1.360e+02 -1.300e+01  0.000e+00\n",
            "  0.000e+00  0.000e+00  0.000e+00  0.000e+00  0.000e+00 -1.200e+02\n",
            "  1.200e+01 -7.500e+01  5.170e+02 -1.187e+03 -1.847e+03 -3.488e+03\n",
            " -2.971e+03 -3.202e+03 -3.015e+03 -1.634e+03  5.700e+01  6.900e+01\n",
            " -9.770e+02  1.030e+02 -6.860e+02  1.380e+02 -6.790e+02  1.127e+03\n",
            "  1.093e+03  4.660e+02  3.510e+02  3.660e+02  4.200e+01  0.000e+00\n",
            "  0.000e+00  0.000e+00  0.000e+00 -1.260e+02 -3.300e+02 -9.400e+02\n",
            " -1.014e+03 -2.930e+03 -3.544e+03 -3.883e+03 -2.980e+03 -2.728e+03\n",
            " -1.371e+03  1.949e+03  4.080e+02 -5.310e+02 -6.080e+02 -6.300e+01\n",
            " -3.200e+02 -9.320e+02 -1.400e+01  1.055e+03  1.246e+03  1.116e+03\n",
            " -1.220e+02  5.360e+02  1.780e+02  0.000e+00  0.000e+00  0.000e+00\n",
            "  0.000e+00  6.500e+01 -1.048e+03 -1.307e+03 -2.101e+03 -3.414e+03\n",
            " -3.657e+03 -2.271e+03 -2.519e+03 -1.345e+03  7.640e+02  2.561e+03\n",
            "  4.990e+02 -1.310e+02 -4.690e+02 -1.250e+02 -1.076e+03 -9.530e+02\n",
            " -2.540e+02 -9.820e+02 -5.300e+02  1.199e+03  5.860e+02  8.000e+01\n",
            "  5.200e+01  0.000e+00  0.000e+00  0.000e+00  0.000e+00  9.600e+01\n",
            " -9.910e+02 -1.141e+03 -1.313e+03 -2.374e+03 -2.005e+03 -1.944e+03\n",
            " -1.095e+03 -2.136e+03 -8.010e+02  1.147e+03  3.410e+02  9.460e+02\n",
            " -1.729e+03 -1.410e+03 -1.778e+03 -1.360e+03 -1.271e+03 -1.527e+03\n",
            " -1.208e+03  2.180e+02  1.455e+03  1.600e+01  6.500e+01  0.000e+00\n",
            "  0.000e+00  0.000e+00  0.000e+00  2.610e+02 -4.590e+02 -2.980e+02\n",
            " -5.950e+02 -2.520e+03 -2.751e+03 -1.684e+03 -2.250e+03 -1.027e+03\n",
            "  2.640e+02  6.940e+02  3.140e+02 -9.250e+02 -3.296e+03 -2.071e+03\n",
            " -1.180e+03 -7.830e+02 -1.588e+03 -1.359e+03  9.200e+01  1.286e+03\n",
            "  1.824e+03  1.361e+03  1.090e+03  0.000e+00  0.000e+00  0.000e+00\n",
            "  0.000e+00  5.580e+02  1.257e+03  9.750e+02 -1.026e+03 -2.885e+03\n",
            " -2.682e+03 -1.825e+03 -1.557e+03 -2.110e+02 -1.160e+02 -7.800e+02\n",
            " -4.380e+02 -2.259e+03 -6.600e+01  2.590e+02 -3.980e+02 -1.053e+03\n",
            " -1.206e+03 -2.250e+02  1.000e+00  1.060e+03  1.488e+03  1.703e+03\n",
            "  7.910e+02  0.000e+00  0.000e+00  0.000e+00  0.000e+00  3.200e+02\n",
            "  2.644e+03  1.836e+03  3.700e+01 -8.110e+02  9.320e+02  1.766e+03\n",
            "  1.610e+02  3.520e+02  6.890e+02 -2.700e+01  1.500e+01  0.000e+00\n",
            " -7.680e+02 -1.340e+02 -9.200e+01 -3.400e+02  3.550e+02  8.910e+02\n",
            "  9.630e+02  1.728e+03  7.150e+02  1.537e+03  3.140e+02  9.300e+01\n",
            "  0.000e+00  0.000e+00  0.000e+00  2.350e+02  2.242e+03  1.684e+03\n",
            "  2.557e+03  3.316e+03  2.814e+03  3.524e+03  3.467e+03  1.772e+03\n",
            "  2.518e+03  1.597e+03  9.970e+02  2.960e+02  1.670e+02  1.216e+03\n",
            "  9.270e+02  1.326e+03  1.727e+03  2.063e+03  2.870e+03  2.765e+03\n",
            "  1.764e+03  3.550e+02  3.800e+01  3.800e+01  0.000e+00  0.000e+00\n",
            "  0.000e+00  2.950e+02  1.494e+03  1.071e+03  2.040e+03  2.856e+03\n",
            "  3.803e+03  3.474e+03  2.898e+03  2.618e+03  1.080e+03  1.526e+03\n",
            "  1.606e+03  3.160e+02  4.110e+02  1.150e+02  7.510e+02  2.205e+03\n",
            "  2.123e+03  1.774e+03  2.001e+03  1.119e+03  3.310e+02  2.050e+02\n",
            "  0.000e+00  0.000e+00  0.000e+00  0.000e+00  0.000e+00  3.700e+02\n",
            "  8.460e+02  1.098e+03  2.568e+03  2.892e+03  2.910e+03  2.163e+03\n",
            "  2.820e+03  3.130e+03  1.199e+03  1.601e+03  1.950e+02 -1.281e+03\n",
            " -1.235e+03 -2.113e+03  1.980e+02  4.070e+02 -6.990e+02 -5.560e+02\n",
            "  7.070e+02  1.950e+02  2.520e+02  1.240e+02  0.000e+00  0.000e+00\n",
            "  0.000e+00  0.000e+00  0.000e+00  3.130e+02  4.350e+02  9.730e+02\n",
            "  2.814e+03  3.062e+03  2.444e+03  1.993e+03  2.242e+03  1.905e+03\n",
            "  1.673e+03  9.190e+02 -3.850e+02 -2.800e+02 -4.790e+02 -6.250e+02\n",
            "  1.750e+03  8.580e+02  7.400e+01 -1.720e+02  1.032e+03  5.400e+02\n",
            "  3.980e+02  3.800e+01  0.000e+00  0.000e+00  0.000e+00  0.000e+00\n",
            "  0.000e+00  2.530e+02  2.420e+02  1.940e+02  1.441e+03  1.999e+03\n",
            "  1.410e+03  1.035e+03  5.900e+02  5.000e+00  1.335e+03 -1.600e+01\n",
            " -5.520e+02 -7.010e+02 -5.940e+02 -9.780e+02  7.080e+02 -3.240e+02\n",
            "  2.540e+02  3.740e+02  1.307e+03  9.970e+02  6.890e+02  4.080e+02\n",
            "  0.000e+00  0.000e+00  0.000e+00  0.000e+00  0.000e+00  1.120e+02\n",
            "  7.400e+01  0.000e+00  2.080e+02  8.600e+01 -2.500e+01 -2.780e+02\n",
            " -8.310e+02 -1.067e+03 -2.000e+01 -4.630e+02 -6.330e+02 -2.700e+01\n",
            " -6.940e+02 -4.510e+02 -1.110e+02 -6.500e+01 -2.380e+02 -2.000e+00\n",
            "  2.560e+02  4.240e+02  5.060e+02  4.920e+02  0.000e+00  0.000e+00\n",
            "  0.000e+00  0.000e+00  0.000e+00  0.000e+00  0.000e+00  0.000e+00\n",
            " -2.760e+02 -2.060e+02 -1.010e+02 -9.050e+02 -5.510e+02  1.055e+03\n",
            "  2.200e+01 -9.750e+02 -9.900e+02  4.180e+02 -5.280e+02  7.460e+02\n",
            " -9.900e+01  1.800e+01 -3.480e+02 -7.960e+02 -3.030e+02  3.540e+02\n",
            "  2.400e+02  1.140e+02  0.000e+00  0.000e+00  0.000e+00  0.000e+00\n",
            "  0.000e+00  0.000e+00  0.000e+00  0.000e+00  0.000e+00  0.000e+00\n",
            " -9.700e+01 -1.109e+03 -8.050e+02 -6.490e+02 -9.610e+02 -1.362e+03\n",
            " -9.690e+02 -6.710e+02 -2.270e+02  0.000e+00  0.000e+00  0.000e+00\n",
            "  0.000e+00  0.000e+00  0.000e+00  0.000e+00  0.000e+00  0.000e+00\n",
            "  0.000e+00  0.000e+00  0.000e+00  0.000e+00  0.000e+00  0.000e+00\n",
            "  0.000e+00  0.000e+00  0.000e+00  0.000e+00 -5.220e+02 -3.270e+02\n",
            "  0.000e+00  0.000e+00  0.000e+00  0.000e+00  0.000e+00  0.000e+00\n",
            "  0.000e+00  0.000e+00  0.000e+00  0.000e+00  0.000e+00  0.000e+00\n",
            "  0.000e+00  0.000e+00  0.000e+00  0.000e+00  0.000e+00  0.000e+00\n",
            "  0.000e+00  0.000e+00  0.000e+00  0.000e+00  0.000e+00  0.000e+00\n",
            "  0.000e+00  0.000e+00  0.000e+00  0.000e+00  0.000e+00  0.000e+00\n",
            "  0.000e+00  0.000e+00  0.000e+00  0.000e+00  0.000e+00  0.000e+00\n",
            "  0.000e+00  0.000e+00  0.000e+00  0.000e+00  0.000e+00  0.000e+00\n",
            "  0.000e+00  0.000e+00  0.000e+00  0.000e+00]\n",
            "-2.0\n",
            "216\n"
          ]
        }
      ],
      "source": [
        "w, b, error_total = perceptron(mnist_data)\n",
        "print(w)\n",
        "print(b)\n",
        "print(error_total)"
      ]
    },
    {
      "cell_type": "code",
      "execution_count": null,
      "metadata": {
        "id": "9ae3_Flr5FgE"
      },
      "outputs": [],
      "source": [
        "w.tofile('data.csv', sep=',')"
      ]
    },
    {
      "cell_type": "code",
      "execution_count": null,
      "metadata": {
        "colab": {
          "base_uri": "https://localhost:8080/"
        },
        "id": "gftDWmLmzi5y",
        "outputId": "aab64013-bec0-44fa-f6cf-91002c338d9f"
      },
      "outputs": [
        {
          "name": "stdout",
          "output_type": "stream",
          "text": [
            "2.0970062891016434\n"
          ]
        }
      ],
      "source": [
        "print(margin(mnist_data,w))"
      ]
    },
    {
      "cell_type": "code",
      "execution_count": null,
      "metadata": {
        "colab": {
          "base_uri": "https://localhost:8080/"
        },
        "id": "r9rWQXIR05oG",
        "outputId": "a54710b9-4bc3-4ddf-8ce8-0e650f24ea8c"
      },
      "outputs": [
        {
          "name": "stdout",
          "output_type": "stream",
          "text": [
            "3881.4121141666983\n"
          ]
        }
      ],
      "source": [
        "print(radius(mnist_data))"
      ]
    },
    {
      "cell_type": "markdown",
      "metadata": {
        "id": "tMK0GPCJRAv9"
      },
      "source": [
        "#Question 3 : Fisher Linear Discriminant"
      ]
    },
    {
      "cell_type": "markdown",
      "metadata": {
        "id": "r1fFJSOTKKyE"
      },
      "source": [
        "Part A : Fisher on IRIS Dataset"
      ]
    },
    {
      "cell_type": "code",
      "execution_count": null,
      "metadata": {
        "id": "_o_BptuPQ0vV"
      },
      "outputs": [],
      "source": [
        "#importing required libraries\n",
        "import matplotlib.pyplot as plt\n",
        "import numpy as np\n",
        "from sklearn.datasets import load_iris\n",
        "from numpy.linalg import inv"
      ]
    },
    {
      "cell_type": "code",
      "execution_count": null,
      "metadata": {
        "id": "GMxw1mQHTv9B"
      },
      "outputs": [],
      "source": [
        "# Loading Iris Dataset\n",
        "iris_dataset = load_iris()\n",
        "data = iris_dataset.data\n",
        "label = iris_dataset.target"
      ]
    },
    {
      "cell_type": "code",
      "execution_count": null,
      "metadata": {
        "colab": {
          "base_uri": "https://localhost:8080/"
        },
        "id": "KZGWx0N8T1uG",
        "outputId": "f18a14ed-cb1a-42ac-a358-13c7834dd1c3"
      },
      "outputs": [
        {
          "name": "stdout",
          "output_type": "stream",
          "text": [
            "(100, 4)\n"
          ]
        }
      ],
      "source": [
        "#Preparing train dataset for setosa and vertsicolor\n",
        "X_train = np.concatenate((data[0:50],data[100:150]),axis=0)\n",
        "X_label = np.concatenate((label[0:50],label[100:150]),axis=0)\n",
        "print(X_train.shape)"
      ]
    },
    {
      "cell_type": "code",
      "execution_count": null,
      "metadata": {
        "colab": {
          "base_uri": "https://localhost:8080/"
        },
        "id": "KvnLB-_sJw1H",
        "outputId": "30b3602f-003c-4c71-fb7c-be11cfdf0d8c"
      },
      "outputs": [
        {
          "data": {
            "text/plain": [
              "(150, 4)"
            ]
          },
          "execution_count": 259,
          "metadata": {},
          "output_type": "execute_result"
        }
      ],
      "source": [
        "data.shape"
      ]
    },
    {
      "cell_type": "markdown",
      "metadata": {
        "id": "YXYCB9YxW4De"
      },
      "source": [
        "Your implementation starts here.\n",
        "\n",
        "Do not use already available implementation of fisher discriminant from libraries like scikit-learn.\n",
        "\n",
        "You can use numpy to perform computations and matplotlib for plotting."
      ]
    },
    {
      "cell_type": "code",
      "execution_count": null,
      "metadata": {
        "colab": {
          "base_uri": "https://localhost:8080/"
        },
        "id": "nTkkvLlcT5Q6",
        "outputId": "dcb82e60-608b-4b89-a49d-d879e8060655"
      },
      "outputs": [
        {
          "name": "stdout",
          "output_type": "stream",
          "text": [
            "[5.006 3.428 1.462 0.246] [6.588 2.974 5.552 2.026]\n",
            "[[0.12424898 0.09921633 0.0163551  0.01033061]\n",
            " [0.09921633 0.1436898  0.01169796 0.00929796]\n",
            " [0.0163551  0.01169796 0.03015918 0.00606939]\n",
            " [0.01033061 0.00929796 0.00606939 0.01110612]]\n",
            "[[0.40434286 0.09376327 0.3032898  0.04909388]\n",
            " [0.09376327 0.10400408 0.07137959 0.04762857]\n",
            " [0.3032898  0.07137959 0.30458776 0.04882449]\n",
            " [0.04909388 0.04762857 0.04882449 0.07543265]]\n"
          ]
        }
      ],
      "source": [
        "#Find the w to project the data to single dimension\n",
        "u_0 = np.mean(X_train[:50],axis=0)\n",
        "u_2 = np.mean(X_train[50:],axis=0)\n",
        "\n",
        "c_0 = np.cov(X_train[:50].T)\n",
        "c_2 = np.cov(X_train[50:].T)\n",
        "\n",
        "print(u_0,u_2)\n",
        "print(c_0)\n",
        "print(c_2)"
      ]
    },
    {
      "cell_type": "code",
      "execution_count": null,
      "metadata": {
        "colab": {
          "base_uri": "https://localhost:8080/"
        },
        "id": "XCZ7HDwBBSC4",
        "outputId": "9ed039de-08c2-47a2-e654-b6d43eba257f"
      },
      "outputs": [
        {
          "name": "stdout",
          "output_type": "stream",
          "text": [
            "[-0.28543316 -0.2165812   0.65799713  0.66231433]\n"
          ]
        }
      ],
      "source": [
        "w = np.dot(np.linalg.inv(c_0 + c_2),u_2 - u_0)\n",
        "w = w / np.linalg.norm(w)  # normalising\n",
        "print(w)"
      ]
    },
    {
      "cell_type": "code",
      "execution_count": null,
      "metadata": {
        "colab": {
          "base_uri": "https://localhost:8080/"
        },
        "id": "MgMgGq_4UMoY",
        "outputId": "e38198b1-97d4-483e-e2ad-5458acc98993"
      },
      "outputs": [
        {
          "name": "stdout",
          "output_type": "stream",
          "text": [
            "-0.7120525349911115\n",
            "0\n"
          ]
        }
      ],
      "source": [
        "#Project the data and find the threshold for classification with minimum error.\n",
        "b = -1*np.dot(w.T,0.5*(u_0 + u_2))  # midpoint\n",
        "print(b)\n",
        "\n",
        "def classifier(x,b):\n",
        "  f = np.dot(w,x) + b\n",
        "  if f > 0:\n",
        "    return 2\n",
        "  return 0\n",
        "\n",
        "error = 0\n",
        "for i in range(len(X_train)):\n",
        "  x = X_train[i]\n",
        "  if classifier(x,b) != X_label[i]:\n",
        "    error += 1\n",
        "\n",
        "print(error)  # no errors"
      ]
    },
    {
      "cell_type": "code",
      "execution_count": null,
      "metadata": {
        "colab": {
          "base_uri": "https://localhost:8080/",
          "height": 449
        },
        "id": "HEeWT3SZUHV8",
        "outputId": "e94dfcfc-a7ef-4ccc-d1bf-da61878a09d2"
      },
      "outputs": [
        {
          "data": {
            "image/png": "[encoded data removed]",
            "text/plain": [
              "<Figure size 640x480 with 1 Axes>"
            ]
          },
          "metadata": {},
          "output_type": "display_data"
        }
      ],
      "source": [
        "#Plot the histogram of the projected data and the classification boundary.\n",
        "#Use matplot lib for plotting.\n",
        "#while plotting histogram give different color for different classes and also add legend.\n",
        "#you can refer :- https://matplotlib.org/stable/gallery/text_labels_and_annotations/index.html\n",
        "\n",
        "import matplotlib.pyplot as plt\n",
        "\n",
        "data_0 = [np.dot(w.T,x) for x in X_train[:50]]\n",
        "data_2 = [np.dot(w.T,x) for x in X_train[50:]]\n",
        "\n",
        "plt.hist(data_0, color='red', label='Setosa')\n",
        "plt.hist(data_2, color='blue', label='Virginica')\n",
        "\n",
        "plt.axvline(x = -b, color='black', label='Decision Boundary')\n",
        "\n",
        "plt.xlabel('Projection')\n",
        "plt.ylabel('Frequency')\n",
        "plt.legend()\n",
        "plt.show()"
      ]
    },
    {
      "cell_type": "markdown",
      "metadata": {
        "id": "qvi-FELCKO-h"
      },
      "source": [
        "Part B: Fisher on custom Dataset"
      ]
    },
    {
      "cell_type": "code",
      "execution_count": null,
      "metadata": {
        "colab": {
          "base_uri": "https://localhost:8080/"
        },
        "id": "jvnhP1GeKR3B",
        "outputId": "d644a088-0a49-4731-fb4a-749a067698a3"
      },
      "outputs": [
        {
          "name": "stdout",
          "output_type": "stream",
          "text": [
            "[(array([-0.06892003,  0.36129145]), 1.0), (array([-0.72896863, -0.68454711]), 0.0), (array([-0.48175367,  0.87630668]), 0.0), (array([0.23444856, 0.28339963]), 1.0), (array([0.90482705, 0.42577929]), 0.0), (array([0.36780631, 0.        ]), 1.0), (array([-0.80901699,  0.58778525]), 0.0), (array([ 0.63742399, -0.77051324]), 0.0), (array([ 0.06279052, -0.99802673]), 0.0), (array([-0.24868989, -0.96858316]), 0.0), (array([-0.15660431, -0.3328011 ]), 1.0), (array([-0.99802673, -0.06279052]), 0.0), (array([-0.12533323, -0.9921147 ]), 0.0), (array([-0.96858316, -0.24868989]), 0.0), (array([-0.68454711, -0.72896863]), 0.0), (array([-0.68454711,  0.72896863]), 0.0), (array([ 0.18738131, -0.98228725]), 0.0), (array([ 0.80901699, -0.58778525]), 0.0), (array([-0.95105652,  0.30901699]), 0.0), (array([0.53582679, 0.84432793]), 0.0), (array([-0.32231113,  0.17719204]), 1.0), (array([-0.53582679, -0.84432793]), 0.0), (array([0.06279052, 0.99802673]), 0.0), (array([0.87630668, 0.48175367]), 0.0), (array([-0.36490605, -0.04609835]), 1.0), (array([0.18738131, 0.98228725]), 0.0), (array([-0.92977649,  0.36812455]), 0.0), (array([ 0.98228725, -0.18738131]), 0.0), (array([ 0.90482705, -0.42577929]), 0.0), (array([-0.06279052,  0.99802673]), 0.0), (array([-0.02309475, -0.36708053]), 1.0), (array([ 0.53582679, -0.84432793]), 0.0), (array([-0.12533323,  0.9921147 ]), 0.0), (array([-0.356251  , -0.09146971]), 1.0), (array([-0.23444856, -0.28339963]), 1.0), (array([-0.84432793, -0.53582679]), 0.0), (array([0.42577929, 0.90482705]), 0.0), (array([ 0.48175367, -0.87630668]), 0.0), (array([-0.77051324, -0.63742399]), 0.0), (array([ 0.87630668, -0.48175367]), 0.0), (array([0.02309475, 0.36708053]), 1.0), (array([0.9921147 , 0.12533323]), 0.0), (array([ 0.15660431, -0.3328011 ]), 1.0), (array([-0.90482705,  0.42577929]), 0.0), (array([0.80901699, 0.58778525]), 0.0), (array([-0.80901699, -0.58778525]), 0.0), (array([-0.15660431,  0.3328011 ]), 1.0), (array([ 0.26811926, -0.25178074]), 1.0), (array([-0.26811926,  0.25178074]), 1.0), (array([0.19708048, 0.31054914]), 1.0), (array([-0.36812455, -0.92977649]), 0.0), (array([-0.1136584 , -0.34980459]), 1.0), (array([-0.92977649, -0.36812455]), 0.0), (array([ 0.30901699, -0.95105652]), 0.0), (array([-0.356251  ,  0.09146971]), 1.0), (array([-0.19708048, -0.31054914]), 1.0), (array([0.26811926, 0.25178074]), 1.0), (array([ 0.32231113, -0.17719204]), 1.0), (array([-1.0000000e+00, -3.2162453e-16]), 0.0), (array([ 0.34197766, -0.13539853]), 1.0), (array([ 0.58778525, -0.80901699]), 0.0), (array([-0.30901699,  0.95105652]), 0.0), (array([0.36490605, 0.04609835]), 1.0), (array([ 0.92977649, -0.36812455]), 0.0), (array([-0.63742399, -0.77051324]), 0.0), (array([ 0.77051324, -0.63742399]), 0.0), (array([ 0.84432793, -0.53582679]), 0.0), (array([-3.67806309e-01, -1.18295531e-16]), 1.0), (array([-0.9921147 ,  0.12533323]), 0.0), (array([0.68454711, 0.72896863]), 0.0), (array([0.06892003, 0.36129145]), 1.0), (array([ 0.95105652, -0.30901699]), 0.0), (array([0.30901699, 0.95105652]), 0.0), (array([0.58778525, 0.80901699]), 0.0), (array([-0.9921147 , -0.12533323]), 0.0), (array([0.98228725, 0.18738131]), 0.0), (array([ 0.36490605, -0.04609835]), 1.0), (array([ 0.9921147 , -0.12533323]), 0.0), (array([0.92977649, 0.36812455]), 0.0), (array([-0.42577929, -0.90482705]), 0.0), (array([0.15660431, 0.3328011 ]), 1.0), (array([ 0.96858316, -0.24868989]), 0.0), (array([0.72896863, 0.68454711]), 0.0), (array([0.356251  , 0.09146971]), 1.0), (array([-0.29756155,  0.21619112]), 1.0), (array([0.32231113, 0.17719204]), 1.0), (array([-0.34197766, -0.13539853]), 1.0), (array([-0.96858316,  0.24868989]), 0.0), (array([0.77051324, 0.63742399]), 0.0), (array([0.1136584 , 0.34980459]), 1.0), (array([-0.36490605,  0.04609835]), 1.0), (array([-0.84432793,  0.53582679]), 0.0), (array([ 0.356251  , -0.09146971]), 1.0), (array([0.99802673, 0.06279052]), 0.0), (array([-0.02309475,  0.36708053]), 1.0), (array([ 0.06892003, -0.36129145]), 1.0), (array([-0.87630668,  0.48175367]), 0.0), (array([0.96858316, 0.24868989]), 0.0), (array([-0.32231113, -0.17719204]), 1.0), (array([0.48175367, 0.87630668]), 0.0), (array([-0.72896863,  0.68454711]), 0.0), (array([0.95105652, 0.30901699]), 0.0), (array([-0.98228725, -0.18738131]), 0.0), (array([ 0.23444856, -0.28339963]), 1.0), (array([0.29756155, 0.21619112]), 1.0), (array([1., 0.]), 0.0), (array([-0.53582679,  0.84432793]), 0.0), (array([-0.18738131,  0.98228725]), 0.0), (array([-0.95105652, -0.30901699]), 0.0), (array([-1.8369702e-16, -1.0000000e+00]), 0.0), (array([-0.58778525,  0.80901699]), 0.0), (array([0.12533323, 0.9921147 ]), 0.0), (array([-0.06279052, -0.99802673]), 0.0), (array([-0.36812455,  0.92977649]), 0.0), (array([-0.23444856,  0.28339963]), 1.0), (array([-0.90482705, -0.42577929]), 0.0), (array([-0.26811926, -0.25178074]), 1.0), (array([-0.58778525, -0.80901699]), 0.0), (array([-0.42577929,  0.90482705]), 0.0), (array([ 0.02309475, -0.36708053]), 1.0), (array([0.63742399, 0.77051324]), 0.0), (array([-0.34197766,  0.13539853]), 1.0), (array([0.36812455, 0.92977649]), 0.0), (array([-0.24868989,  0.96858316]), 0.0), (array([-0.29756155, -0.21619112]), 1.0), (array([-0.99802673,  0.06279052]), 0.0), (array([-0.06892003, -0.36129145]), 1.0), (array([ 0.99802673, -0.06279052]), 0.0), (array([ 0.42577929, -0.90482705]), 0.0), (array([ 0.24868989, -0.96858316]), 0.0), (array([-0.1136584 ,  0.34980459]), 1.0), (array([ 0.29756155, -0.21619112]), 1.0), (array([-0.18738131, -0.98228725]), 0.0), (array([ 0.12533323, -0.9921147 ]), 0.0), (array([-1.60812265e-16,  1.00000000e+00]), 0.0), (array([ 0.36812455, -0.92977649]), 0.0), (array([ 0.1136584 , -0.34980459]), 1.0), (array([ 0.19708048, -0.31054914]), 1.0), (array([-0.77051324,  0.63742399]), 0.0), (array([-0.87630668, -0.48175367]), 0.0), (array([ 0.72896863, -0.68454711]), 0.0), (array([-0.30901699, -0.95105652]), 0.0), (array([ 0.68454711, -0.72896863]), 0.0), (array([-0.63742399,  0.77051324]), 0.0), (array([0.24868989, 0.96858316]), 0.0), (array([0.84432793, 0.53582679]), 0.0), (array([0.34197766, 0.13539853]), 1.0), (array([-0.48175367, -0.87630668]), 0.0), (array([-0.19708048,  0.31054914]), 1.0), (array([-0.98228725,  0.18738131]), 0.0)]\n"
          ]
        }
      ],
      "source": [
        "#Load train Dataset\n",
        "# help(AIML_A1.q3_get_data)\n",
        "data_for_fisher = AIML_A1.q3_get_data(mysrn)\n",
        "print(data_for_fisher)"
      ]
    },
    {
      "cell_type": "code",
      "execution_count": null,
      "metadata": {
        "colab": {
          "base_uri": "https://localhost:8080/"
        },
        "id": "qNTxTekg2tFd",
        "outputId": "93ae0ec4-b843-416f-b7e5-f7639662fd1c"
      },
      "outputs": [
        {
          "name": "stdout",
          "output_type": "stream",
          "text": [
            "[4.99600361e-17 2.63677968e-17] [ 1.49880108e-17 -5.55111512e-18]\n",
            "[[5.05050505e-01 4.49180132e-18]\n",
            " [4.49180132e-18 5.05050505e-01]]\n",
            "[[6.90211637e-02 2.61041869e-18]\n",
            " [2.61041869e-18 6.90211637e-02]]\n"
          ]
        }
      ],
      "source": [
        "#Find Normalized Projection vestor w and check if the data is linealrly separable.\n",
        "\n",
        "data_0 = np.array([data_for_fisher[i][0] for i in range(len(data_for_fisher)) if data_for_fisher[i][1] == 0])\n",
        "data_1 = np.array([data_for_fisher[i][0] for i in range(len(data_for_fisher)) if data_for_fisher[i][1] == 1])\n",
        "\n",
        "u_0 = np.mean(data_0, axis=0)\n",
        "u_1 = np.mean(data_1, axis=0)\n",
        "\n",
        "c_0 = np.cov(data_0.T)\n",
        "c_1 = np.cov(data_1.T)\n",
        "\n",
        "print(u_0,u_1)\n",
        "print(c_0)\n",
        "print(c_1)"
      ]
    },
    {
      "cell_type": "code",
      "execution_count": null,
      "metadata": {
        "colab": {
          "base_uri": "https://localhost:8080/"
        },
        "id": "NXeLZqunIa1W",
        "outputId": "44ab54c5-8356-4f0e-b85a-32365c1cfb22"
      },
      "outputs": [
        {
          "name": "stdout",
          "output_type": "stream",
          "text": [
            "[-0.73861239 -0.67413036]\n"
          ]
        }
      ],
      "source": [
        "w = np.dot(np.linalg.inv(c_0 + c_1),u_1 - u_0)\n",
        "w = w / np.linalg.norm(w)  # normalising\n",
        "print(w)"
      ]
    },
    {
      "cell_type": "code",
      "execution_count": null,
      "metadata": {
        "colab": {
          "base_uri": "https://localhost:8080/",
          "height": 486
        },
        "id": "lEtaf-7kJUDK",
        "outputId": "1ba362d8-7fab-42ae-ec87-13b03a1f9604"
      },
      "outputs": [
        {
          "name": "stderr",
          "output_type": "stream",
          "text": [
            "WARNING:matplotlib.legend:No artists with labels found to put in legend.  Note that artists whose label start with an underscore are ignored when legend() is called with no argument.\n"
          ]
        },
        {
          "data": {
            "image/png": "[encoded data removed]",
            "text/plain": [
              "<Figure size 640x480 with 1 Axes>"
            ]
          },
          "metadata": {},
          "output_type": "display_data"
        }
      ],
      "source": [
        "data_0 = [np.dot(w.T,x) for x in data_0]\n",
        "data_1 = [np.dot(w.T,x) for x in data_1]\n",
        "\n",
        "plt.hist(data_0, color='red')\n",
        "plt.hist(data_1, color='blue')\n",
        "\n",
        "plt.xlabel('Projection')\n",
        "plt.ylabel('Frequency')\n",
        "plt.legend()\n",
        "plt.show()  # not linearly separable"
      ]
    },
    {
      "cell_type": "code",
      "execution_count": null,
      "metadata": {
        "id": "o8XqU54b21HR"
      },
      "outputs": [],
      "source": [
        "#Transform the data to \\phi(X) as explained and find w and b\n",
        "\n",
        "def phi(x):\n",
        "  transform = [x[0],x[1],x[0]**2,x[1]**2]\n",
        "  return np.array(transform)\n",
        "\n",
        "transformed_data = [[phi(x[0]),x[1]] for x in data_for_fisher]"
      ]
    },
    {
      "cell_type": "code",
      "execution_count": null,
      "metadata": {
        "colab": {
          "base_uri": "https://localhost:8080/"
        },
        "id": "hB2jkBmDK5lM",
        "outputId": "d6e0a413-288a-4fef-b1ad-5647845ca43a"
      },
      "outputs": [
        {
          "name": "stdout",
          "output_type": "stream",
          "text": [
            "[4.99600361e-17 2.63677968e-17 5.00000000e-01 5.00000000e-01] [ 1.49880108e-17 -5.55111512e-18  6.76407405e-02  6.76407405e-02]\n",
            "[[ 5.05050505e-01  4.49180132e-18  4.42012213e-17 -3.85940343e-17]\n",
            " [ 4.49180132e-18  5.05050505e-01 -1.14183654e-17  5.25045973e-18]\n",
            " [ 4.42012213e-17 -1.14183654e-17  1.26262626e-01 -1.26262626e-01]\n",
            " [-3.85940343e-17  5.25045973e-18 -1.26262626e-01  1.26262626e-01]]\n",
            "[[ 6.90211637e-02  2.61041869e-18  2.54151354e-18 -2.61981252e-18]\n",
            " [ 2.61041869e-18  6.90211637e-02  3.88525119e-19 -9.63539806e-19]\n",
            " [ 2.54151354e-18  3.88525119e-19  2.33432131e-03 -2.33432131e-03]\n",
            " [-2.61981252e-18 -9.63539806e-19 -2.33432131e-03  2.33432131e-03]]\n"
          ]
        }
      ],
      "source": [
        "data_0 = np.array([transformed_data[i][0] for i in range(len(transformed_data)) if transformed_data[i][1] == 0])\n",
        "data_1 = np.array([transformed_data[i][0] for i in range(len(transformed_data)) if transformed_data[i][1] == 1])\n",
        "\n",
        "u_0 = np.mean(data_0, axis=0)\n",
        "u_1 = np.mean(data_1, axis=0)\n",
        "\n",
        "c_0 = np.cov(data_0.T)\n",
        "c_1 = np.cov(data_1.T)\n",
        "\n",
        "print(u_0,u_1)\n",
        "print(c_0)\n",
        "print(c_1)"
      ]
    },
    {
      "cell_type": "code",
      "execution_count": null,
      "metadata": {
        "colab": {
          "base_uri": "https://localhost:8080/"
        },
        "id": "SCCL1kHfLWI_",
        "outputId": "d8066ea9-1557-4414-d9fe-b631f8d489a5"
      },
      "outputs": [
        {
          "name": "stdout",
          "output_type": "stream",
          "text": [
            "[ 0.      -0.      -0.70711 -0.70711]\n"
          ]
        }
      ],
      "source": [
        "w = np.dot(np.linalg.inv(c_0 + c_1 + np.diag([10**(-10)]*len(c_0))),u_1 - u_0)  # added a small offset since c_0 + c_1 is singular\n",
        "w = w / np.linalg.norm(w)  # normalising\n",
        "w = np.round(w,5)\n",
        "print(w)"
      ]
    },
    {
      "cell_type": "code",
      "execution_count": null,
      "metadata": {
        "colab": {
          "base_uri": "https://localhost:8080/"
        },
        "id": "O4Y8z-ExP3yJ",
        "outputId": "5a136860-a096-4ecc-e7df-e1be81c08b42"
      },
      "outputs": [
        {
          "name": "stdout",
          "output_type": "stream",
          "text": [
            "0.40138444398314743\n",
            "0\n"
          ]
        }
      ],
      "source": [
        "b = -1*np.dot(w.T,0.5*(u_0 + u_1))  # midpoint\n",
        "print(b)\n",
        "\n",
        "def classifier(x,b):\n",
        "  f = np.dot(w,x) + b\n",
        "  if f > 0:\n",
        "    return 1\n",
        "  return 0\n",
        "\n",
        "error = 0\n",
        "for i in range(len(transformed_data)):\n",
        "  x = transformed_data[i][0]\n",
        "  if classifier(x,b) != transformed_data[i][1]:\n",
        "    error += 1\n",
        "\n",
        "print(error)  # no errors"
      ]
    },
    {
      "cell_type": "code",
      "execution_count": null,
      "metadata": {
        "colab": {
          "base_uri": "https://localhost:8080/",
          "height": 504
        },
        "id": "tp3y7RmV3DR2",
        "outputId": "b24ff395-a8d1-4d11-9a45-b0c77cad1489"
      },
      "outputs": [
        {
          "name": "stdout",
          "output_type": "stream",
          "text": [
            "[-0.7071100000000001, -0.70711, -0.70711, -0.7071100000000001, -0.70711, -0.70711, -0.70711, -0.70711, -0.70711, -0.70711, -0.7071099999999999, -0.7071099999999999, -0.70711, -0.70711, -0.70711, -0.70711, -0.70711, -0.70711, -0.70711, -0.70711, -0.70711, -0.70711, -0.7071099999999999, -0.70711, -0.7071099999999999, -0.70711, -0.7071099999999999, -0.7071100000000001, -0.7071100000000001, -0.70711, -0.70711, -0.7071100000000001, -0.7071100000000001, -0.70711, -0.70711, -0.70711, -0.7071099999999999, -0.70711, -0.70711, -0.70711, -0.70711, -0.70711, -0.7071099999999999, -0.7071100000000001, -0.70711, -0.70711, -0.7071099999999999, -0.7071099999999999, -0.70711, -0.7071099999999999, -0.7071100000000001, -0.70711, -0.70711, -0.70711, -0.7071100000000001, -0.7071100000000001, -0.7071100000000001, -0.70711, -0.7071099999999999, -0.7071100000000001, -0.70711, -0.70711, -0.7071099999999999, -0.70711, -0.7071099999999999, -0.70711, -0.7071099999999999, -0.70711, -0.70711, -0.70711, -0.7071100000000001, -0.70711, -0.7071099999999999, -0.7071100000000001, -0.70711, -0.70711, -0.7071099999999999, -0.7071100000000001, -0.70711, -0.7071099999999999, -0.70711, -0.70711, -0.70711, -0.70711, -0.7071100000000001, -0.70711, -0.70711, -0.7071100000000001, -0.70711, -0.7071099999999999, -0.7071099999999999, -0.7071099999999999, -0.70711, -0.70711, -0.7071099999999999, -0.70711, -0.7071099999999999, -0.7071100000000001, -0.70711, -0.70711]\n",
            "[-0.09565888796629472, -0.09565888796629474, -0.09565888796629474, -0.09565888796629476, -0.09565888796629474, -0.09565888796629474, -0.09565888796629474, -0.09565888796629476, -0.09565888796629474, -0.09565888796629475, -0.09565888796629472, -0.09565888796629474, -0.09565888796629474, -0.09565888796629474, -0.09565888796629472, -0.09565888796629474, -0.09565888796629475, -0.09565888796629475, -0.09565888796629475, -0.09565888796629475, -0.09565888796629474, -0.09565888796629474, -0.09565888796629474, -0.09565888796629474, -0.09565888796629472, -0.09565888796629472, -0.09565888796629475, -0.09565888796629475, -0.09565888796629475, -0.09565888796629474, -0.09565888796629474, -0.09565888796629474, -0.09565888796629474, -0.09565888796629475, -0.09565888796629474, -0.09565888796629471, -0.09565888796629475, -0.09565888796629474, -0.09565888796629474, -0.09565888796629475, -0.09565888796629475, -0.09565888796629472, -0.09565888796629472, -0.09565888796629474, -0.09565888796629474, -0.09565888796629474, -0.09565888796629475, -0.09565888796629474, -0.09565888796629474, -0.09565888796629474]\n"
          ]
        },
        {
          "data": {
            "image/png": "[encoded data removed]",
            "text/plain": [
              "<Figure size 640x480 with 1 Axes>"
            ]
          },
          "metadata": {},
          "output_type": "display_data"
        }
      ],
      "source": [
        "#Plot original data along with classifier boundary\n",
        "\n",
        "new_data_0 = [np.dot(w.T,x) for x in data_0]\n",
        "new_data_1 = [np.dot(w.T,x) for x in data_1]\n",
        "\n",
        "print(new_data_0)  # points very close to each other\n",
        "print(new_data_1)  # histogram barely visible\n",
        "\n",
        "# plt.hist(data_0, color='red')\n",
        "# plt.hist(data_1, color='blue')\n",
        "\n",
        "v_0 = np.mean(new_data_0)\n",
        "v_1 = np.mean(new_data_1)\n",
        "plt.plot([v_0,v_0],[0,len(new_data_0)], color='red', label='0')\n",
        "plt.plot([v_1,v_1],[0,len(new_data_1)], color='blue', label='1')\n",
        "\n",
        "plt.axvline(x = -b, color = 'black', label = 'Decision Boundary')\n",
        "\n",
        "plt.xlabel('Projection')\n",
        "plt.ylabel('Frequency')\n",
        "plt.legend()\n",
        "plt.show()  # linearly separable"
      ]
    },
    {
      "cell_type": "code",
      "execution_count": null,
      "metadata": {
        "id": "2LkWuYPP3Jjy"
      },
      "outputs": [],
      "source": [
        "#Load Test dataset\n",
        "# help(AIML_A1.q3_get_test_data)\n",
        "test_data_for_fisher = AIML_A1.q3_get_test_data(mysrn)"
      ]
    },
    {
      "cell_type": "code",
      "execution_count": null,
      "metadata": {
        "colab": {
          "base_uri": "https://localhost:8080/"
        },
        "id": "-zaLHrKU3UnO",
        "outputId": "0d195545-2695-485c-f576-bef74fb05b5c"
      },
      "outputs": [
        {
          "name": "stdout",
          "output_type": "stream",
          "text": [
            "[0.7, 0.87, 0.94, 0.93, 0.93, 0.85, 0.8]\n"
          ]
        }
      ],
      "source": [
        "#Find Test Accuracy for various values of thresholds as explained.\n",
        "values = [b-0.3, b-0.2, b-0.1, b, b+0.1, b+0.2, b+0.3]\n",
        "results = []\n",
        "\n",
        "for i in range(len(values)):\n",
        "  error = 0\n",
        "  p = values[i]\n",
        "  for i in range(len(test_data_for_fisher)):\n",
        "    x = test_data_for_fisher[i][0]\n",
        "    if classifier(phi(x),p) != test_data_for_fisher[i][1]:\n",
        "      error += 1\n",
        "  results.append(np.round(1 - error/len(test_data_for_fisher),3))\n",
        "\n",
        "print(results)"
      ]
    },
    {
      "cell_type": "markdown",
      "metadata": {
        "id": "eJrDvi8eRA81"
      },
      "source": [
        "# Question 4 : Logistic Regression"
      ]
    },
    {
      "cell_type": "code",
      "execution_count": 4,
      "metadata": {
        "id": "1KHZutKmRFSt"
      },
      "outputs": [],
      "source": [
        "#Loading Dataset\n",
        "import numpy as np\n",
        "import csv\n",
        "\n",
        "#Loading Data\n",
        "with open('diabetes.csv', 'r') as f:\n",
        "    reader = csv.reader(f)\n",
        "    diabetes_data = list(reader)\n",
        "diabetes_data = np.array(diabetes_data)\n",
        "\n",
        "diabetes_data =  diabetes_data[1:,]"
      ]
    },
    {
      "cell_type": "code",
      "execution_count": 19,
      "metadata": {
        "id": "nCsNq6_4RRrt"
      },
      "outputs": [],
      "source": [
        "#Import required modules for logistic regression from scikit-learn\n",
        "from sklearn.linear_model import LogisticRegression"
      ]
    },
    {
      "cell_type": "code",
      "execution_count": 12,
      "metadata": {
        "id": "LpL0h9BeRXej"
      },
      "outputs": [],
      "source": [
        "# Implement K-Fold Cross Validation K=6\n",
        "x = np.array([i[0:len(i)-1] for i in diabetes_data],dtype=np.float64)\n",
        "y = np.array([i[-1] for i in diabetes_data],dtype=np.float64)\n",
        "\n",
        "def k_cross_validation(x,y,k):\n",
        "  x_folds = np.array_split(x, k)\n",
        "  y_folds = np.array_split(y, k)\n",
        "  accuracy = []\n",
        "\n",
        "  for i in range(k):\n",
        "    x_test = x_folds[i]\n",
        "    y_test = y_folds[i]\n",
        "    x_train = np.concatenate([x_folds[j] for j in range(k) if j != i])\n",
        "    y_train = np.concatenate([y_folds[j] for j in range(k) if j != i])\n",
        "    model = LogisticRegression()\n",
        "    model.fit(x_train, y_train)\n",
        "    accuracy.append(model.score(x_test, y_test))\n",
        "  return accuracy"
      ]
    },
    {
      "cell_type": "code",
      "execution_count": 13,
      "metadata": {
        "colab": {
          "base_uri": "https://localhost:8080/"
        },
        "id": "zqm5EU3qf6ts",
        "outputId": "dd612d1f-142d-4d29-ae11-1893a94309b0"
      },
      "outputs": [
        {
          "name": "stderr",
          "output_type": "stream",
          "text": [
            "/usr/local/lib/python3.10/dist-packages/sklearn/linear_model/_logistic.py:458: ConvergenceWarning: lbfgs failed to converge (status=1):\n",
            "STOP: TOTAL NO. of ITERATIONS REACHED LIMIT.\n",
            "\n",
            "Increase the number of iterations (max_iter) or scale the data as shown in:\n",
            "    https://scikit-learn.org/stable/modules/preprocessing.html\n",
            "Please also refer to the documentation for alternative solver options:\n",
            "    https://scikit-learn.org/stable/modules/linear_model.html#logistic-regression\n",
            "  n_iter_i = _check_optimize_result(\n",
            "/usr/local/lib/python3.10/dist-packages/sklearn/linear_model/_logistic.py:458: ConvergenceWarning: lbfgs failed to converge (status=1):\n",
            "STOP: TOTAL NO. of ITERATIONS REACHED LIMIT.\n",
            "\n",
            "Increase the number of iterations (max_iter) or scale the data as shown in:\n",
            "    https://scikit-learn.org/stable/modules/preprocessing.html\n",
            "Please also refer to the documentation for alternative solver options:\n",
            "    https://scikit-learn.org/stable/modules/linear_model.html#logistic-regression\n",
            "  n_iter_i = _check_optimize_result(\n",
            "/usr/local/lib/python3.10/dist-packages/sklearn/linear_model/_logistic.py:458: ConvergenceWarning: lbfgs failed to converge (status=1):\n",
            "STOP: TOTAL NO. of ITERATIONS REACHED LIMIT.\n",
            "\n",
            "Increase the number of iterations (max_iter) or scale the data as shown in:\n",
            "    https://scikit-learn.org/stable/modules/preprocessing.html\n",
            "Please also refer to the documentation for alternative solver options:\n",
            "    https://scikit-learn.org/stable/modules/linear_model.html#logistic-regression\n",
            "  n_iter_i = _check_optimize_result(\n",
            "/usr/local/lib/python3.10/dist-packages/sklearn/linear_model/_logistic.py:458: ConvergenceWarning: lbfgs failed to converge (status=1):\n",
            "STOP: TOTAL NO. of ITERATIONS REACHED LIMIT.\n",
            "\n",
            "Increase the number of iterations (max_iter) or scale the data as shown in:\n",
            "    https://scikit-learn.org/stable/modules/preprocessing.html\n",
            "Please also refer to the documentation for alternative solver options:\n",
            "    https://scikit-learn.org/stable/modules/linear_model.html#logistic-regression\n",
            "  n_iter_i = _check_optimize_result(\n",
            "/usr/local/lib/python3.10/dist-packages/sklearn/linear_model/_logistic.py:458: ConvergenceWarning: lbfgs failed to converge (status=1):\n",
            "STOP: TOTAL NO. of ITERATIONS REACHED LIMIT.\n",
            "\n",
            "Increase the number of iterations (max_iter) or scale the data as shown in:\n",
            "    https://scikit-learn.org/stable/modules/preprocessing.html\n",
            "Please also refer to the documentation for alternative solver options:\n",
            "    https://scikit-learn.org/stable/modules/linear_model.html#logistic-regression\n",
            "  n_iter_i = _check_optimize_result(\n",
            "/usr/local/lib/python3.10/dist-packages/sklearn/linear_model/_logistic.py:458: ConvergenceWarning: lbfgs failed to converge (status=1):\n",
            "STOP: TOTAL NO. of ITERATIONS REACHED LIMIT.\n",
            "\n",
            "Increase the number of iterations (max_iter) or scale the data as shown in:\n",
            "    https://scikit-learn.org/stable/modules/preprocessing.html\n",
            "Please also refer to the documentation for alternative solver options:\n",
            "    https://scikit-learn.org/stable/modules/linear_model.html#logistic-regression\n",
            "  n_iter_i = _check_optimize_result(\n",
            "/usr/local/lib/python3.10/dist-packages/sklearn/linear_model/_logistic.py:458: ConvergenceWarning: lbfgs failed to converge (status=1):\n",
            "STOP: TOTAL NO. of ITERATIONS REACHED LIMIT.\n",
            "\n",
            "Increase the number of iterations (max_iter) or scale the data as shown in:\n",
            "    https://scikit-learn.org/stable/modules/preprocessing.html\n",
            "Please also refer to the documentation for alternative solver options:\n",
            "    https://scikit-learn.org/stable/modules/linear_model.html#logistic-regression\n",
            "  n_iter_i = _check_optimize_result(\n"
          ]
        },
        {
          "name": "stdout",
          "output_type": "stream",
          "text": [
            "0.7783333333333333\n",
            "[0.74, 0.81, 0.72, 0.77, 0.75, 0.88]\n"
          ]
        },
        {
          "name": "stderr",
          "output_type": "stream",
          "text": [
            "/usr/local/lib/python3.10/dist-packages/sklearn/linear_model/_logistic.py:458: ConvergenceWarning: lbfgs failed to converge (status=1):\n",
            "STOP: TOTAL NO. of ITERATIONS REACHED LIMIT.\n",
            "\n",
            "Increase the number of iterations (max_iter) or scale the data as shown in:\n",
            "    https://scikit-learn.org/stable/modules/preprocessing.html\n",
            "Please also refer to the documentation for alternative solver options:\n",
            "    https://scikit-learn.org/stable/modules/linear_model.html#logistic-regression\n",
            "  n_iter_i = _check_optimize_result(\n",
            "/usr/local/lib/python3.10/dist-packages/sklearn/linear_model/_logistic.py:458: ConvergenceWarning: lbfgs failed to converge (status=1):\n",
            "STOP: TOTAL NO. of ITERATIONS REACHED LIMIT.\n",
            "\n",
            "Increase the number of iterations (max_iter) or scale the data as shown in:\n",
            "    https://scikit-learn.org/stable/modules/preprocessing.html\n",
            "Please also refer to the documentation for alternative solver options:\n",
            "    https://scikit-learn.org/stable/modules/linear_model.html#logistic-regression\n",
            "  n_iter_i = _check_optimize_result(\n",
            "/usr/local/lib/python3.10/dist-packages/sklearn/linear_model/_logistic.py:458: ConvergenceWarning: lbfgs failed to converge (status=1):\n",
            "STOP: TOTAL NO. of ITERATIONS REACHED LIMIT.\n",
            "\n",
            "Increase the number of iterations (max_iter) or scale the data as shown in:\n",
            "    https://scikit-learn.org/stable/modules/preprocessing.html\n",
            "Please also refer to the documentation for alternative solver options:\n",
            "    https://scikit-learn.org/stable/modules/linear_model.html#logistic-regression\n",
            "  n_iter_i = _check_optimize_result(\n",
            "/usr/local/lib/python3.10/dist-packages/sklearn/linear_model/_logistic.py:458: ConvergenceWarning: lbfgs failed to converge (status=1):\n",
            "STOP: TOTAL NO. of ITERATIONS REACHED LIMIT.\n",
            "\n",
            "Increase the number of iterations (max_iter) or scale the data as shown in:\n",
            "    https://scikit-learn.org/stable/modules/preprocessing.html\n",
            "Please also refer to the documentation for alternative solver options:\n",
            "    https://scikit-learn.org/stable/modules/linear_model.html#logistic-regression\n",
            "  n_iter_i = _check_optimize_result(\n",
            "/usr/local/lib/python3.10/dist-packages/sklearn/linear_model/_logistic.py:458: ConvergenceWarning: lbfgs failed to converge (status=1):\n",
            "STOP: TOTAL NO. of ITERATIONS REACHED LIMIT.\n",
            "\n",
            "Increase the number of iterations (max_iter) or scale the data as shown in:\n",
            "    https://scikit-learn.org/stable/modules/preprocessing.html\n",
            "Please also refer to the documentation for alternative solver options:\n",
            "    https://scikit-learn.org/stable/modules/linear_model.html#logistic-regression\n",
            "  n_iter_i = _check_optimize_result(\n"
          ]
        }
      ],
      "source": [
        "accuracy = []\n",
        "k = 6\n",
        "\n",
        "for i in range(k):\n",
        "  x_train = np.append(x[:len(x)//k*i], (x[len(x)//k*(i+1):]), axis=0)\n",
        "  y_train = np.append(y[:len(y)//k*i], (y[len(y)//k*(i+1):]))\n",
        "\n",
        "  x_test = x[len(x)//k*i:len(x)//k*(i+1)]\n",
        "  y_test = y[len(y)//k*i:len(y)//k*(i+1)]\n",
        "\n",
        "  model = LogisticRegression()\n",
        "  model.fit(x_train,y_train)\n",
        "  accuracy.append(model.score(x_test,y_test))\n",
        "\n",
        "accuracy = np.mean(accuracy)\n",
        "print(accuracy)\n",
        "\n",
        "print(k_cross_validation(x,y,k))"
      ]
    },
    {
      "cell_type": "code",
      "execution_count": 14,
      "metadata": {
        "id": "NrOZqGEDfRml"
      },
      "outputs": [],
      "source": [
        "# Evaluate Confusion Matrix for every K Model\n",
        "def confusion_matrix(y_test,y_pred):\n",
        "  matrix = np.zeros((2,2))\n",
        "  for i in range(len(y_test)):\n",
        "    matrix[int(y_test[i]), int(y_pred[i])] += 1\n",
        "  return matrix"
      ]
    },
    {
      "cell_type": "code",
      "execution_count": 15,
      "metadata": {
        "colab": {
          "base_uri": "https://localhost:8080/"
        },
        "id": "9vrCJJJ2oqhP",
        "outputId": "d7ef869f-6eda-441e-9457-f80860a24455"
      },
      "outputs": [
        {
          "name": "stdout",
          "output_type": "stream",
          "text": [
            "[[[54.  9.]\n",
            "  [17. 20.]]\n",
            "\n",
            " [[59.  3.]\n",
            "  [16. 22.]]\n",
            "\n",
            " [[48. 13.]\n",
            "  [15. 24.]]\n",
            "\n",
            " [[57.  5.]\n",
            "  [18. 20.]]\n",
            "\n",
            " [[59. 11.]\n",
            "  [14. 16.]]\n",
            "\n",
            " [[72.  2.]\n",
            "  [10. 16.]]]\n"
          ]
        },
        {
          "name": "stderr",
          "output_type": "stream",
          "text": [
            "/usr/local/lib/python3.10/dist-packages/sklearn/linear_model/_logistic.py:458: ConvergenceWarning: lbfgs failed to converge (status=1):\n",
            "STOP: TOTAL NO. of ITERATIONS REACHED LIMIT.\n",
            "\n",
            "Increase the number of iterations (max_iter) or scale the data as shown in:\n",
            "    https://scikit-learn.org/stable/modules/preprocessing.html\n",
            "Please also refer to the documentation for alternative solver options:\n",
            "    https://scikit-learn.org/stable/modules/linear_model.html#logistic-regression\n",
            "  n_iter_i = _check_optimize_result(\n",
            "/usr/local/lib/python3.10/dist-packages/sklearn/linear_model/_logistic.py:458: ConvergenceWarning: lbfgs failed to converge (status=1):\n",
            "STOP: TOTAL NO. of ITERATIONS REACHED LIMIT.\n",
            "\n",
            "Increase the number of iterations (max_iter) or scale the data as shown in:\n",
            "    https://scikit-learn.org/stable/modules/preprocessing.html\n",
            "Please also refer to the documentation for alternative solver options:\n",
            "    https://scikit-learn.org/stable/modules/linear_model.html#logistic-regression\n",
            "  n_iter_i = _check_optimize_result(\n",
            "/usr/local/lib/python3.10/dist-packages/sklearn/linear_model/_logistic.py:458: ConvergenceWarning: lbfgs failed to converge (status=1):\n",
            "STOP: TOTAL NO. of ITERATIONS REACHED LIMIT.\n",
            "\n",
            "Increase the number of iterations (max_iter) or scale the data as shown in:\n",
            "    https://scikit-learn.org/stable/modules/preprocessing.html\n",
            "Please also refer to the documentation for alternative solver options:\n",
            "    https://scikit-learn.org/stable/modules/linear_model.html#logistic-regression\n",
            "  n_iter_i = _check_optimize_result(\n",
            "/usr/local/lib/python3.10/dist-packages/sklearn/linear_model/_logistic.py:458: ConvergenceWarning: lbfgs failed to converge (status=1):\n",
            "STOP: TOTAL NO. of ITERATIONS REACHED LIMIT.\n",
            "\n",
            "Increase the number of iterations (max_iter) or scale the data as shown in:\n",
            "    https://scikit-learn.org/stable/modules/preprocessing.html\n",
            "Please also refer to the documentation for alternative solver options:\n",
            "    https://scikit-learn.org/stable/modules/linear_model.html#logistic-regression\n",
            "  n_iter_i = _check_optimize_result(\n",
            "/usr/local/lib/python3.10/dist-packages/sklearn/linear_model/_logistic.py:458: ConvergenceWarning: lbfgs failed to converge (status=1):\n",
            "STOP: TOTAL NO. of ITERATIONS REACHED LIMIT.\n",
            "\n",
            "Increase the number of iterations (max_iter) or scale the data as shown in:\n",
            "    https://scikit-learn.org/stable/modules/preprocessing.html\n",
            "Please also refer to the documentation for alternative solver options:\n",
            "    https://scikit-learn.org/stable/modules/linear_model.html#logistic-regression\n",
            "  n_iter_i = _check_optimize_result(\n",
            "/usr/local/lib/python3.10/dist-packages/sklearn/linear_model/_logistic.py:458: ConvergenceWarning: lbfgs failed to converge (status=1):\n",
            "STOP: TOTAL NO. of ITERATIONS REACHED LIMIT.\n",
            "\n",
            "Increase the number of iterations (max_iter) or scale the data as shown in:\n",
            "    https://scikit-learn.org/stable/modules/preprocessing.html\n",
            "Please also refer to the documentation for alternative solver options:\n",
            "    https://scikit-learn.org/stable/modules/linear_model.html#logistic-regression\n",
            "  n_iter_i = _check_optimize_result(\n"
          ]
        }
      ],
      "source": [
        "conf_matrix = np.zeros((k,2,2))\n",
        "\n",
        "for i in range(k):\n",
        "  x_train = np.append(x[:len(x)//k*i], (x[len(x)//k*(i+1):]), axis=0)\n",
        "  y_train = np.append(y[:len(y)//k*i], (y[len(y)//k*(i+1):]))\n",
        "\n",
        "  x_test = x[len(x)//k*i:len(x)//k*(i+1)]\n",
        "  y_test = y[len(y)//k*i:len(y)//k*(i+1)]\n",
        "\n",
        "  model = LogisticRegression()\n",
        "  model.fit(x_train,y_train)\n",
        "  y_pred = model.predict(x_test)\n",
        "  conf_matrix[i] = confusion_matrix(y_test,y_pred)\n",
        "\n",
        "print(conf_matrix)"
      ]
    },
    {
      "cell_type": "code",
      "execution_count": 16,
      "metadata": {
        "colab": {
          "base_uri": "https://localhost:8080/"
        },
        "id": "IbXxw1FFqgh1",
        "outputId": "b3c3e9b8-fdfa-48b2-e4e5-b22925d9acb4"
      },
      "outputs": [
        {
          "name": "stdout",
          "output_type": "stream",
          "text": [
            "[0.5405405405405406, 0.5789473684210527, 0.6153846153846154, 0.5263157894736842, 0.5333333333333333, 0.6153846153846154]\n",
            "[0.6896551724137931, 0.88, 0.6486486486486487, 0.8, 0.5925925925925926, 0.8888888888888888]\n",
            "[0.74, 0.81, 0.72, 0.77, 0.75, 0.88]\n",
            "[0.6060606060606061, 0.6984126984126985, 0.631578947368421, 0.6349206349206348, 0.5614035087719299, 0.7272727272727274]\n"
          ]
        },
        {
          "name": "stderr",
          "output_type": "stream",
          "text": [
            "/usr/local/lib/python3.10/dist-packages/sklearn/linear_model/_logistic.py:458: ConvergenceWarning: lbfgs failed to converge (status=1):\n",
            "STOP: TOTAL NO. of ITERATIONS REACHED LIMIT.\n",
            "\n",
            "Increase the number of iterations (max_iter) or scale the data as shown in:\n",
            "    https://scikit-learn.org/stable/modules/preprocessing.html\n",
            "Please also refer to the documentation for alternative solver options:\n",
            "    https://scikit-learn.org/stable/modules/linear_model.html#logistic-regression\n",
            "  n_iter_i = _check_optimize_result(\n",
            "/usr/local/lib/python3.10/dist-packages/sklearn/linear_model/_logistic.py:458: ConvergenceWarning: lbfgs failed to converge (status=1):\n",
            "STOP: TOTAL NO. of ITERATIONS REACHED LIMIT.\n",
            "\n",
            "Increase the number of iterations (max_iter) or scale the data as shown in:\n",
            "    https://scikit-learn.org/stable/modules/preprocessing.html\n",
            "Please also refer to the documentation for alternative solver options:\n",
            "    https://scikit-learn.org/stable/modules/linear_model.html#logistic-regression\n",
            "  n_iter_i = _check_optimize_result(\n",
            "/usr/local/lib/python3.10/dist-packages/sklearn/linear_model/_logistic.py:458: ConvergenceWarning: lbfgs failed to converge (status=1):\n",
            "STOP: TOTAL NO. of ITERATIONS REACHED LIMIT.\n",
            "\n",
            "Increase the number of iterations (max_iter) or scale the data as shown in:\n",
            "    https://scikit-learn.org/stable/modules/preprocessing.html\n",
            "Please also refer to the documentation for alternative solver options:\n",
            "    https://scikit-learn.org/stable/modules/linear_model.html#logistic-regression\n",
            "  n_iter_i = _check_optimize_result(\n",
            "/usr/local/lib/python3.10/dist-packages/sklearn/linear_model/_logistic.py:458: ConvergenceWarning: lbfgs failed to converge (status=1):\n",
            "STOP: TOTAL NO. of ITERATIONS REACHED LIMIT.\n",
            "\n",
            "Increase the number of iterations (max_iter) or scale the data as shown in:\n",
            "    https://scikit-learn.org/stable/modules/preprocessing.html\n",
            "Please also refer to the documentation for alternative solver options:\n",
            "    https://scikit-learn.org/stable/modules/linear_model.html#logistic-regression\n",
            "  n_iter_i = _check_optimize_result(\n",
            "/usr/local/lib/python3.10/dist-packages/sklearn/linear_model/_logistic.py:458: ConvergenceWarning: lbfgs failed to converge (status=1):\n",
            "STOP: TOTAL NO. of ITERATIONS REACHED LIMIT.\n",
            "\n",
            "Increase the number of iterations (max_iter) or scale the data as shown in:\n",
            "    https://scikit-learn.org/stable/modules/preprocessing.html\n",
            "Please also refer to the documentation for alternative solver options:\n",
            "    https://scikit-learn.org/stable/modules/linear_model.html#logistic-regression\n",
            "  n_iter_i = _check_optimize_result(\n",
            "/usr/local/lib/python3.10/dist-packages/sklearn/linear_model/_logistic.py:458: ConvergenceWarning: lbfgs failed to converge (status=1):\n",
            "STOP: TOTAL NO. of ITERATIONS REACHED LIMIT.\n",
            "\n",
            "Increase the number of iterations (max_iter) or scale the data as shown in:\n",
            "    https://scikit-learn.org/stable/modules/preprocessing.html\n",
            "Please also refer to the documentation for alternative solver options:\n",
            "    https://scikit-learn.org/stable/modules/linear_model.html#logistic-regression\n",
            "  n_iter_i = _check_optimize_result(\n"
          ]
        }
      ],
      "source": [
        "recall = []\n",
        "precision = []\n",
        "accuracy = []\n",
        "f1 = []\n",
        "\n",
        "for i in range(k):\n",
        "  x_train = np.append(x[:len(x)//k*i], (x[len(x)//k*(i+1):]), axis=0)\n",
        "  y_train = np.append(y[:len(y)//k*i], (y[len(y)//k*(i+1):]))\n",
        "\n",
        "  x_test = x[len(x)//k*i:len(x)//k*(i+1)]\n",
        "  y_test = y[len(y)//k*i:len(y)//k*(i+1)]\n",
        "  model = LogisticRegression()\n",
        "  model.fit(x_train,y_train)\n",
        "  y_pred = model.predict(x_test)\n",
        "\n",
        "  ap = model.score(x_test,y_test)\n",
        "  tp = np.sum(y_test * y_pred)\n",
        "  fp = np.sum((1-y_test) * y_pred)\n",
        "  fn = np.sum(y_test * (1-y_pred))\n",
        "\n",
        "  recall.append(tp/(tp + fn))\n",
        "  precision.append(tp/(tp + fp))\n",
        "  accuracy.append(ap)\n",
        "  f1.append(2*precision[i]*recall[i]/(precision[i] + recall[i]))\n",
        "\n",
        "print(recall)\n",
        "print(precision)\n",
        "print(accuracy)\n",
        "print(f1)"
      ]
    },
    {
      "cell_type": "code",
      "execution_count": 18,
      "metadata": {
        "colab": {
          "base_uri": "https://localhost:8080/",
          "height": 696
        },
        "id": "HX2LMpcORuz6",
        "outputId": "cf2c78a5-c1aa-489c-8765-b78347ad64c7"
      },
      "outputs": [
        {
          "data": {
            "image/png": "[encoded data removed]",
            "text/plain": [
              "<Figure size 1000x800 with 1 Axes>"
            ]
          },
          "metadata": {},
          "output_type": "display_data"
        }
      ],
      "source": [
        "# Plot barplot for all metrics using matplotlib\n",
        "import matplotlib.pyplot as plt\n",
        "\n",
        "barWidth = 0.20\n",
        "\n",
        "bar1 = np.arange(len(recall))\n",
        "bar2 = [x + barWidth for x in bar1]\n",
        "bar3 = [x + barWidth for x in bar2]\n",
        "bar4 = [x + barWidth for x in bar3]\n",
        "\n",
        "fig = plt.subplots(figsize =(10, 8))\n",
        "\n",
        "plt.bar(bar1, recall, color ='red', width = barWidth, label ='Recall')\n",
        "plt.bar(bar2, precision, color ='green', width = barWidth, label ='Precision')\n",
        "plt.bar(bar3, accuracy, color ='blue', width = barWidth, label ='Accuracy')\n",
        "plt.bar(bar4, f1, color ='purple', width = barWidth, label ='F1-Score')\n",
        "\n",
        "plt.xlabel('Model no.')\n",
        "plt.ylabel('Value')\n",
        "\n",
        "plt.xticks([i + barWidth for i in range(len(recall))], ['1','2','3','4','5','6'])\n",
        "plt.legend()\n",
        "plt.show()"
      ]
    },
    {
      "cell_type": "code",
      "execution_count": 22,
      "metadata": {
        "colab": {
          "base_uri": "https://localhost:8080/"
        },
        "id": "pbC5B8llR0m2",
        "outputId": "1564117e-2fa5-4fa4-d927-66186b71d30e"
      },
      "outputs": [
        {
          "name": "stdout",
          "output_type": "stream",
          "text": [
            "Drive already mounted at /content/drive; to attempt to forcibly remount, call drive.mount(\"/content/drive\", force_remount=True).\n"
          ]
        }
      ],
      "source": [
        "# Load testdata\n",
        "from google.colab import drive\n",
        "drive.mount('/content/drive')\n",
        "!cp /content/drive/MyDrive/q4testdata_999601410.csv .\n",
        "with open('q4testdata_999601410.csv', 'r') as f:\n",
        "    reader = csv.reader(f)\n",
        "    test_data = list(reader)\n",
        "test_data = np.array(test_data)\n",
        "\n",
        "test_data =  test_data[1:,]"
      ]
    },
    {
      "cell_type": "code",
      "execution_count": 32,
      "metadata": {
        "colab": {
          "base_uri": "https://localhost:8080/"
        },
        "id": "wDsduaMWR6Mb",
        "outputId": "ab19a115-a987-4405-e2cc-8cec679022c9"
      },
      "outputs": [
        {
          "name": "stderr",
          "output_type": "stream",
          "text": [
            "/usr/local/lib/python3.10/dist-packages/sklearn/linear_model/_logistic.py:458: ConvergenceWarning: lbfgs failed to converge (status=1):\n",
            "STOP: TOTAL NO. of ITERATIONS REACHED LIMIT.\n",
            "\n",
            "Increase the number of iterations (max_iter) or scale the data as shown in:\n",
            "    https://scikit-learn.org/stable/modules/preprocessing.html\n",
            "Please also refer to the documentation for alternative solver options:\n",
            "    https://scikit-learn.org/stable/modules/linear_model.html#logistic-regression\n",
            "  n_iter_i = _check_optimize_result(\n",
            "/usr/local/lib/python3.10/dist-packages/sklearn/linear_model/_logistic.py:458: ConvergenceWarning: lbfgs failed to converge (status=1):\n",
            "STOP: TOTAL NO. of ITERATIONS REACHED LIMIT.\n",
            "\n",
            "Increase the number of iterations (max_iter) or scale the data as shown in:\n",
            "    https://scikit-learn.org/stable/modules/preprocessing.html\n",
            "Please also refer to the documentation for alternative solver options:\n",
            "    https://scikit-learn.org/stable/modules/linear_model.html#logistic-regression\n",
            "  n_iter_i = _check_optimize_result(\n",
            "/usr/local/lib/python3.10/dist-packages/sklearn/linear_model/_logistic.py:458: ConvergenceWarning: lbfgs failed to converge (status=1):\n",
            "STOP: TOTAL NO. of ITERATIONS REACHED LIMIT.\n",
            "\n",
            "Increase the number of iterations (max_iter) or scale the data as shown in:\n",
            "    https://scikit-learn.org/stable/modules/preprocessing.html\n",
            "Please also refer to the documentation for alternative solver options:\n",
            "    https://scikit-learn.org/stable/modules/linear_model.html#logistic-regression\n",
            "  n_iter_i = _check_optimize_result(\n",
            "/usr/local/lib/python3.10/dist-packages/sklearn/linear_model/_logistic.py:458: ConvergenceWarning: lbfgs failed to converge (status=1):\n",
            "STOP: TOTAL NO. of ITERATIONS REACHED LIMIT.\n",
            "\n",
            "Increase the number of iterations (max_iter) or scale the data as shown in:\n",
            "    https://scikit-learn.org/stable/modules/preprocessing.html\n",
            "Please also refer to the documentation for alternative solver options:\n",
            "    https://scikit-learn.org/stable/modules/linear_model.html#logistic-regression\n",
            "  n_iter_i = _check_optimize_result(\n",
            "/usr/local/lib/python3.10/dist-packages/sklearn/linear_model/_logistic.py:458: ConvergenceWarning: lbfgs failed to converge (status=1):\n",
            "STOP: TOTAL NO. of ITERATIONS REACHED LIMIT.\n",
            "\n",
            "Increase the number of iterations (max_iter) or scale the data as shown in:\n",
            "    https://scikit-learn.org/stable/modules/preprocessing.html\n",
            "Please also refer to the documentation for alternative solver options:\n",
            "    https://scikit-learn.org/stable/modules/linear_model.html#logistic-regression\n",
            "  n_iter_i = _check_optimize_result(\n",
            "/usr/local/lib/python3.10/dist-packages/sklearn/linear_model/_logistic.py:458: ConvergenceWarning: lbfgs failed to converge (status=1):\n",
            "STOP: TOTAL NO. of ITERATIONS REACHED LIMIT.\n",
            "\n",
            "Increase the number of iterations (max_iter) or scale the data as shown in:\n",
            "    https://scikit-learn.org/stable/modules/preprocessing.html\n",
            "Please also refer to the documentation for alternative solver options:\n",
            "    https://scikit-learn.org/stable/modules/linear_model.html#logistic-regression\n",
            "  n_iter_i = _check_optimize_result(\n",
            "/usr/local/lib/python3.10/dist-packages/sklearn/linear_model/_logistic.py:458: ConvergenceWarning: lbfgs failed to converge (status=1):\n",
            "STOP: TOTAL NO. of ITERATIONS REACHED LIMIT.\n",
            "\n",
            "Increase the number of iterations (max_iter) or scale the data as shown in:\n",
            "    https://scikit-learn.org/stable/modules/preprocessing.html\n",
            "Please also refer to the documentation for alternative solver options:\n",
            "    https://scikit-learn.org/stable/modules/linear_model.html#logistic-regression\n",
            "  n_iter_i = _check_optimize_result(\n"
          ]
        }
      ],
      "source": [
        "#Predict testdata and save into test_result.csv\n",
        "x = np.array([i[0:len(i)-1] for i in test_data],dtype=np.float64)\n",
        "y = np.array([i[-1] for i in test_data],dtype=np.float64)\n",
        "\n",
        "k = 6\n",
        "y_pred = []\n",
        "\n",
        "for i in range(k):\n",
        "  x_train = np.append(x[:len(x)//k*i], (x[len(x)//k*(i+1):]), axis=0)\n",
        "  y_train = np.append(y[:len(y)//k*i], (y[len(y)//k*(i+1):]))\n",
        "\n",
        "  x_test = x[len(x)//k*i:len(x)//k*(i+1)]\n",
        "  y_test = y[len(y)//k*i:len(y)//k*(i+1)]\n",
        "\n",
        "  model = LogisticRegression()\n",
        "  model.fit(x_train,y_train)\n",
        "  y_pred.append(model.predict(x))\n",
        "\n",
        "model = LogisticRegression()\n",
        "model.fit(x,y)\n",
        "y_pred.append(model.predict(x))\n",
        "\n",
        "# y_pred is name for prediction data\n",
        "y_pred = np.array(y_pred)\n",
        "\n",
        "np.savetxt('test_result.csv', y_pred, delimiter = ',')"
      ]
    }
  ],
  "metadata": {
    "colab": {
      "provenance": []
    },
    "kernelspec": {
      "display_name": "Python 3",
      "name": "python3"
    },
    "language_info": {
      "name": "python",
      "version": "3.11.9"
    }
  },
  "nbformat": 4,
  "nbformat_minor": 0
}
