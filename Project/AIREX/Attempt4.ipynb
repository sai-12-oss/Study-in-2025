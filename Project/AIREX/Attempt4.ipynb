{
 "cells": [
  {
   "cell_type": "markdown",
   "metadata": {},
   "source": [
    "#### Implementing FNN from Scratch for a Regression task on sklearn dataset.\n",
    "        No of Hidden layers = 4\n",
    "        No of Hidden Units = 20\n",
    "        No of features = 5\n",
    "        No of epochs = 1000\n",
    "        Mini-batch size = 32 (if using mini batch S-Gradient descent)\n",
    "        Learning Algorithm = Gradient descent with backpropagation (Initial try)\n",
    "        Loss function = sum of squares fxn (Output Activation = Linear) ---> Regression\n",
    "        Loss function = cross-entropy (Output Actiavation = softmax) ----> Classification\n",
    "        Using Sigmoid(logistic function) for activation in between layers for classification\n",
    "        Using Relu for activation in between layers for regression"
   ]
  },
  {
   "cell_type": "markdown",
   "metadata": {},
   "source": [
    "Imports "
   ]
  },
  {
   "cell_type": "code",
   "execution_count": 58,
   "metadata": {},
   "outputs": [],
   "source": [
    "import tensorflow as tf\n",
    "from sklearn.datasets import make_regression\n",
    "from sklearn.model_selection import train_test_split\n",
    "import numpy as np\n",
    "import matplotlib.pyplot as plt\n",
    "from sklearn.preprocessing import StandardScaler"
   ]
  },
  {
   "cell_type": "markdown",
   "metadata": {},
   "source": [
    "Dataset"
   ]
  },
  {
   "cell_type": "code",
   "execution_count": 59,
   "metadata": {},
   "outputs": [],
   "source": [
    "X, y = make_regression(n_samples=1000, n_features=5, noise=0.1)\n",
    "y = y.reshape(-1, 1)  # Reshape y to be a column vector for tensorflow compatibility\n",
    "# \"\"\"Alternate way\"\"\"\n",
    "# from sklearn.datasets import fetch_california_housing\n",
    "# data = fetch_california_housing()\n",
    "# X = data.data[:, :5]  # Select first 5 features for simpicity(no GPU)\n",
    "# y = data.target.reshape(-1, 1)"
   ]
  },
  {
   "cell_type": "markdown",
   "metadata": {},
   "source": [
    "Split the Data"
   ]
  },
  {
   "cell_type": "code",
   "execution_count": 60,
   "metadata": {},
   "outputs": [],
   "source": [
    "X_train, X_temp, y_train, y_temp = train_test_split(X, y, test_size=0.3, random_state=42) # 30 for test 70 for train\n",
    "X_val, X_test, y_val, y_test = train_test_split(X_temp, y_temp, test_size=0.5, random_state=42) # 15 for val 15 for test"
   ]
  },
  {
   "cell_type": "markdown",
   "metadata": {},
   "source": [
    "Standardizing the features(common step)"
   ]
  },
  {
   "cell_type": "code",
   "execution_count": 61,
   "metadata": {},
   "outputs": [],
   "source": [
    "# Normalize target values\n",
    "y_scaler = StandardScaler()\n",
    "y_train = y_scaler.fit_transform(y_train)\n",
    "y_val = y_scaler.transform(y_val)\n",
    "y_test = y_scaler.transform(y_test)"
   ]
  },
  {
   "cell_type": "markdown",
   "metadata": {},
   "source": [
    "Defining the Model \n",
    "4 hidden layers, each 20 nodes, activation fxn = Relu(for Regression),Sigmoid(for Classification), Output layer activation fxn = linear, error fxn = MSE "
   ]
  },
  {
   "cell_type": "code",
   "execution_count": 62,
   "metadata": {},
   "outputs": [],
   "source": [
    "# Updated model with initializer\n",
    "class FeedForwardNN(tf.keras.Model):\n",
    "    def __init__(self):\n",
    "        super(FeedForwardNN, self).__init__()\n",
    "        self.hidden1 = tf.keras.layers.Dense(20, activation='relu', \n",
    "                                             kernel_initializer=tf.keras.initializers.GlorotUniform())\n",
    "        self.hidden2 = tf.keras.layers.Dense(20, activation='relu', \n",
    "                                             kernel_initializer=tf.keras.initializers.GlorotUniform())\n",
    "        self.hidden3 = tf.keras.layers.Dense(20, activation='relu', \n",
    "                                             kernel_initializer=tf.keras.initializers.GlorotUniform())\n",
    "        self.hidden4 = tf.keras.layers.Dense(20, activation='relu', \n",
    "                                             kernel_initializer=tf.keras.initializers.GlorotUniform())\n",
    "        self.output_layer = tf.keras.layers.Dense(1, activation=None)\n",
    "\n",
    "    def call(self, inputs):\n",
    "        x = self.hidden1(inputs)\n",
    "        x = self.hidden2(x)\n",
    "        x = self.hidden3(x)\n",
    "        x = self.hidden4(x)\n",
    "        return self.output_layer(x)"
   ]
  },
  {
   "cell_type": "markdown",
   "metadata": {},
   "source": [
    "From hereon instead of using the standard tf library opt's, writing the own types of Opt for better understanding along with thier drawbacks and why we need improvement"
   ]
  },
  {
   "cell_type": "code",
   "execution_count": 63,
   "metadata": {},
   "outputs": [],
   "source": [
    "import numpy as np\n",
    "import tensorflow as tf\n",
    "\n",
    "class Optimizers:\n",
    "    def __init__(self, method='vanilla', learning_rate=0.01, beta1=0.9, beta2=0.999, epsilon=1e-7, decay_rate=0.9,batch_size=None):\n",
    "        self.method = method\n",
    "        self.learning_rate = learning_rate\n",
    "        self.beta1 = beta1  # Momentum parameter for momentum-based optimizers\n",
    "        self.beta2 = beta2  # RMSProp/Adam parameter\n",
    "        self.epsilon = epsilon\n",
    "        self.decay_rate = decay_rate  # For exponential decay in RMSProp\n",
    "        self.momentum = None\n",
    "        self.velocity = None\n",
    "        self.squared_gradients = None\n",
    "        self.batch_size = batch_size # For mini-batch optimization\n",
    "        self.t = 0  # Time step for Adam\n",
    "\n",
    "    def apply_gradients(self, weights, gradients):\n",
    "        if self.method == 'vanilla':\n",
    "            # Vanilla Gradient Descent\n",
    "            for w, g in zip(weights, gradients):\n",
    "                w.assign_sub(self.learning_rate * g)\n",
    "\n",
    "        elif self.method == 'mini_batch': ## **** Doubt\n",
    "        # Mini-Batch Gradient Descent: Subset of dataset\n",
    "            if self.batch_size is None:\n",
    "                raise ValueError(\"Batch size must be specified for mini-batch optimization.\")\n",
    "            for w, g in zip(weights, gradients):\n",
    "                w.assign_sub(self.learning_rate * g / self.batch_size)  # Averaging gradients for the mini-batch\n",
    "        \n",
    "        elif self.method == 'sgd':\n",
    "            # Stochastic Gradient Descent: Single sample\n",
    "            for w, g in zip(weights, gradients):\n",
    "                w.assign_sub(self.learning_rate * g)\n",
    "\n",
    "        elif self.method == 'momentum':\n",
    "            # Momentum\n",
    "            if self.momentum is None:\n",
    "                self.momentum = [tf.zeros_like(w) for w in weights]\n",
    "            for i, (w, g) in enumerate(zip(weights, gradients)):\n",
    "                self.momentum[i] = self.beta1 * self.momentum[i] + (1 - self.beta1) * g\n",
    "                w.assign_sub(self.learning_rate * self.momentum[i])\n",
    "\n",
    "        elif self.method == 'nesterov':\n",
    "            # Nesterov Accelerated Gradient (NAG)\n",
    "            if self.momentum is None:\n",
    "                self.momentum = [tf.zeros_like(w) for w in weights]\n",
    "            for i, (w, g) in enumerate(zip(weights, gradients)):\n",
    "                prev_momentum = self.momentum[i]\n",
    "                self.momentum[i] = self.beta1 * self.momentum[i] + (1 - self.beta1) * g\n",
    "                w.assign_sub(self.learning_rate * (self.beta1 * prev_momentum + (1 - self.beta1) * g))\n",
    "\n",
    "        elif self.method == 'adagrad':\n",
    "            # Adagrad\n",
    "            if self.squared_gradients is None:\n",
    "                self.squared_gradients = [tf.zeros_like(w) for w in weights]\n",
    "            for i, (w, g) in enumerate(zip(weights, gradients)):\n",
    "                self.squared_gradients[i] += tf.square(g)\n",
    "                adjusted_lr = self.learning_rate / (tf.sqrt(self.squared_gradients[i]) + self.epsilon)\n",
    "                w.assign_sub(adjusted_lr * g)\n",
    "\n",
    "        elif self.method == 'rmsprop':\n",
    "            # RMSProp\n",
    "            if self.squared_gradients is None:\n",
    "                self.squared_gradients = [tf.zeros_like(w) for w in weights]\n",
    "            for i, (w, g) in enumerate(zip(weights, gradients)):\n",
    "                self.squared_gradients[i] = self.decay_rate * self.squared_gradients[i] + (1 - self.decay_rate) * tf.square(g)\n",
    "                adjusted_lr = self.learning_rate / (tf.sqrt(self.squared_gradients[i]) + self.epsilon)\n",
    "                w.assign_sub(adjusted_lr * g)\n",
    "\n",
    "        elif self.method == 'adadelta':\n",
    "            # Adadelta\n",
    "            if self.squared_gradients is None:\n",
    "                self.squared_gradients = [tf.zeros_like(w) for w in weights]\n",
    "            if self.velocity is None:\n",
    "                self.velocity = [tf.zeros_like(w) for w in weights]\n",
    "            for i, (w, g) in enumerate(zip(weights, gradients)):\n",
    "                self.squared_gradients[i] = self.decay_rate * self.squared_gradients[i] + (1 - self.decay_rate) * tf.square(g)\n",
    "                update = tf.sqrt(self.velocity[i] + self.epsilon) / (tf.sqrt(self.squared_gradients[i]) + self.epsilon) * g\n",
    "                self.velocity[i] = self.decay_rate * self.velocity[i] + (1 - self.decay_rate) * tf.square(update)\n",
    "                w.assign_sub(update)\n",
    "\n",
    "        elif self.method == 'adam':\n",
    "            # Adam\n",
    "            if self.momentum is None:\n",
    "                self.momentum = [tf.zeros_like(w) for w in weights]\n",
    "            if self.squared_gradients is None:\n",
    "                self.squared_gradients = [tf.zeros_like(w) for w in weights]\n",
    "            self.t += 1\n",
    "            for i, (w, g) in enumerate(zip(weights, gradients)):\n",
    "                self.momentum[i] = self.beta1 * self.momentum[i] + (1 - self.beta1) * g\n",
    "                self.squared_gradients[i] = self.beta2 * self.squared_gradients[i] + (1 - self.beta2) * tf.square(g)\n",
    "                m_hat = self.momentum[i] / (1 - tf.pow(self.beta1, self.t))\n",
    "                v_hat = self.squared_gradients[i] / (1 - tf.pow(self.beta2, self.t))\n",
    "                w.assign_sub(self.learning_rate * m_hat / (tf.sqrt(v_hat) + self.epsilon))\n",
    "\n",
    "        else:\n",
    "            raise ValueError(f\"Unknown optimization method: {self.method}\")\n"
   ]
  },
  {
   "cell_type": "markdown",
   "metadata": {},
   "source": [
    "Loss Function = MSE"
   ]
  },
  {
   "cell_type": "code",
   "execution_count": 64,
   "metadata": {},
   "outputs": [],
   "source": [
    "mse_loss = tf.keras.losses.MeanSquaredError()"
   ]
  },
  {
   "cell_type": "markdown",
   "metadata": {},
   "source": [
    "Training the model with custom Opt defined above"
   ]
  },
  {
   "cell_type": "code",
   "execution_count": 65,
   "metadata": {},
   "outputs": [
    {
     "name": "stdout",
     "output_type": "stream",
     "text": [
      "Epoch 25: Train Loss = 0.0172, Val Loss = 0.0213, Test Loss = 0.0234\n",
      "Epoch 50: Train Loss = 0.0031, Val Loss = 0.0034, Test Loss = 0.0050\n",
      "Epoch 75: Train Loss = 0.0017, Val Loss = 0.0023, Test Loss = 0.0034\n",
      "Epoch 100: Train Loss = 0.0012, Val Loss = 0.0017, Test Loss = 0.0027\n",
      "Epoch 125: Train Loss = 0.0009, Val Loss = 0.0015, Test Loss = 0.0023\n",
      "Epoch 150: Train Loss = 0.0017, Val Loss = 0.0014, Test Loss = 0.0021\n",
      "Epoch 175: Train Loss = 0.0007, Val Loss = 0.0012, Test Loss = 0.0017\n",
      "Epoch 200: Train Loss = 0.0006, Val Loss = 0.0011, Test Loss = 0.0015\n",
      "Epoch 225: Train Loss = 0.0005, Val Loss = 0.0010, Test Loss = 0.0013\n",
      "Epoch 250: Train Loss = 0.0015, Val Loss = 0.0009, Test Loss = 0.0012\n",
      "Epoch 275: Train Loss = 0.0004, Val Loss = 0.0008, Test Loss = 0.0011\n",
      "Epoch 300: Train Loss = 0.0003, Val Loss = 0.0008, Test Loss = 0.0010\n",
      "Epoch 325: Train Loss = 0.0003, Val Loss = 0.0007, Test Loss = 0.0009\n",
      "Epoch 350: Train Loss = 0.0002, Val Loss = 0.0006, Test Loss = 0.0008\n",
      "Epoch 375: Train Loss = 0.0002, Val Loss = 0.0006, Test Loss = 0.0008\n",
      "Epoch 400: Train Loss = 0.0051, Val Loss = 0.0052, Test Loss = 0.0046\n",
      "Epoch 425: Train Loss = 0.0004, Val Loss = 0.0006, Test Loss = 0.0008\n",
      "Epoch 450: Train Loss = 0.0002, Val Loss = 0.0005, Test Loss = 0.0006\n",
      "Epoch 475: Train Loss = 0.0001, Val Loss = 0.0005, Test Loss = 0.0006\n",
      "Epoch 500: Train Loss = 0.0001, Val Loss = 0.0005, Test Loss = 0.0006\n",
      "Epoch 525: Train Loss = 0.0001, Val Loss = 0.0004, Test Loss = 0.0005\n",
      "Epoch 550: Train Loss = 0.0001, Val Loss = 0.0004, Test Loss = 0.0005\n",
      "Epoch 575: Train Loss = 0.0001, Val Loss = 0.0004, Test Loss = 0.0005\n",
      "Epoch 600: Train Loss = 0.0001, Val Loss = 0.0004, Test Loss = 0.0005\n",
      "Epoch 625: Train Loss = 0.0001, Val Loss = 0.0013, Test Loss = 0.0011\n",
      "Epoch 650: Train Loss = 0.0002, Val Loss = 0.0005, Test Loss = 0.0006\n",
      "Epoch 675: Train Loss = 0.0001, Val Loss = 0.0004, Test Loss = 0.0005\n",
      "Epoch 700: Train Loss = 0.0001, Val Loss = 0.0004, Test Loss = 0.0004\n",
      "Epoch 725: Train Loss = 0.0001, Val Loss = 0.0003, Test Loss = 0.0004\n",
      "Epoch 750: Train Loss = 0.0001, Val Loss = 0.0003, Test Loss = 0.0004\n",
      "Epoch 775: Train Loss = 0.0001, Val Loss = 0.0003, Test Loss = 0.0004\n",
      "Epoch 800: Train Loss = 0.0001, Val Loss = 0.0003, Test Loss = 0.0004\n",
      "Epoch 825: Train Loss = 0.0001, Val Loss = 0.0003, Test Loss = 0.0004\n",
      "Epoch 850: Train Loss = 0.0001, Val Loss = 0.0004, Test Loss = 0.0004\n",
      "Epoch 875: Train Loss = 0.0002, Val Loss = 0.0006, Test Loss = 0.0010\n",
      "Epoch 900: Train Loss = 0.0001, Val Loss = 0.0003, Test Loss = 0.0004\n",
      "Epoch 925: Train Loss = 0.0001, Val Loss = 0.0003, Test Loss = 0.0003\n",
      "Epoch 950: Train Loss = 0.0001, Val Loss = 0.0003, Test Loss = 0.0003\n",
      "Epoch 975: Train Loss = 0.0000, Val Loss = 0.0003, Test Loss = 0.0003\n",
      "Epoch 1000: Train Loss = 0.0000, Val Loss = 0.0003, Test Loss = 0.0003\n"
     ]
    }
   ],
   "source": [
    "epochs = 1000\n",
    "train_losses, val_losses, test_losses = [], [], []\n",
    "\n",
    "# Initialize the model\n",
    "model = FeedForwardNN()\n",
    "# batch_size = 32 # For mini-batch optimization\n",
    "# Initialize the optimizer\n",
    "optimizer = Optimizers(method='adam', learning_rate=0.01)  # Replace 'adam' with your desired method\n",
    "\n",
    "for epoch in range(epochs):\n",
    "    # Training step\n",
    "    with tf.GradientTape() as tape:\n",
    "        predictions = model(X_train)\n",
    "        train_loss = mse_loss(y_train, predictions)\n",
    "    gradients = tape.gradient(train_loss, model.trainable_variables)\n",
    "    optimizer.apply_gradients(model.trainable_variables, gradients)\n",
    "    val_predictions = model(X_val) #validation step\n",
    "    val_loss = mse_loss(y_val, val_predictions)\n",
    "\n",
    "    test_predictions = model(X_test)\n",
    "    test_loss = mse_loss(y_test, test_predictions)\n",
    "\n",
    "    train_losses.append(train_loss.numpy())\n",
    "    val_losses.append(val_loss.numpy())\n",
    "    test_losses.append(test_loss.numpy())\n",
    "    if (epoch + 1) % 25 == 0:\n",
    "        print(f\"Epoch {epoch + 1}: Train Loss = {train_loss.numpy():.4f}, Val Loss = {val_loss.numpy():.4f}, Test Loss = {test_loss.numpy():.4f}\")"
   ]
  },
  {
   "cell_type": "markdown",
   "metadata": {},
   "source": [
    "Evaluate"
   ]
  },
  {
   "cell_type": "code",
   "execution_count": 66,
   "metadata": {},
   "outputs": [
    {
     "data": {
      "image/png": "[encoded data removed]",
      "text/plain": [
       "<Figure size 1000x600 with 1 Axes>"
      ]
     },
     "metadata": {},
     "output_type": "display_data"
    }
   ],
   "source": [
    "plt.figure(figsize=(10, 6))\n",
    "plt.plot(range(epochs), train_losses, label='Train Loss')\n",
    "plt.plot(range(epochs), val_losses, label='Validation Loss')\n",
    "plt.plot(range(epochs), test_losses, label='Test Loss')\n",
    "plt.xlabel('Epochs')\n",
    "plt.ylabel('Loss')\n",
    "plt.title('Loss Curves')\n",
    "plt.legend()\n",
    "plt.grid()\n",
    "plt.show()"
   ]
  }
 ],
 "metadata": {
  "kernelspec": {
   "display_name": "shoyo",
   "language": "python",
   "name": "python3"
  },
  "language_info": {
   "codemirror_mode": {
    "name": "ipython",
    "version": 3
   },
   "file_extension": ".py",
   "mimetype": "text/x-python",
   "name": "python",
   "nbconvert_exporter": "python",
   "pygments_lexer": "ipython3",
   "version": "3.10.16"
  }
 },
 "nbformat": 4,
 "nbformat_minor": 2
}
