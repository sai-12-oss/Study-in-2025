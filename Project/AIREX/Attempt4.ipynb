{
 "cells": [
  {
   "cell_type": "markdown",
   "metadata": {},
   "source": [
    "#### Implementing FNN from Scratch for a Regression task on sklearn dataset.\n",
    "        No of Hidden layers = 4\n",
    "        No of Hidden Units = 20\n",
    "        No of features = 5\n",
    "        No of epochs = 1000\n",
    "        Mini-batch size = 32 (if using mini batch S-Gradient descent)\n",
    "        Learning Algorithm = Gradient descent with backpropagation (Initial try)\n",
    "        Loss function = sum of squares fxn (Output Activation = Linear) ---> Regression\n",
    "        Loss function = cross-entropy (Output Actiavation = softmax) ----> Classification\n",
    "        Using Sigmoid(logistic function) for activation in between layers for classification\n",
    "        Using Relu for activation in between layers for regression"
   ]
  },
  {
   "cell_type": "markdown",
   "metadata": {},
   "source": [
    "Imports "
   ]
  },
  {
   "cell_type": "code",
   "execution_count": 19,
   "metadata": {},
   "outputs": [],
   "source": [
    "import tensorflow as tf\n",
    "from sklearn.datasets import make_regression\n",
    "from sklearn.model_selection import train_test_split\n",
    "import numpy as np\n",
    "import matplotlib.pyplot as plt\n",
    "from sklearn.preprocessing import StandardScaler"
   ]
  },
  {
   "cell_type": "markdown",
   "metadata": {},
   "source": [
    "Dataset"
   ]
  },
  {
   "cell_type": "code",
   "execution_count": 20,
   "metadata": {},
   "outputs": [
    {
     "data": {
      "text/plain": [
       "'X = 2D array of shape(1000,5) containing the input features \\ny = 2D array of shape(1000,1) containing the target values'"
      ]
     },
     "execution_count": 20,
     "metadata": {},
     "output_type": "execute_result"
    }
   ],
   "source": [
    "X, y = make_regression(n_samples=1000, n_features=5, noise=0.1) # Adding a small amount ot gaussian noise to make the data more realistic\n",
    "y = y.reshape(-1, 1)  # Reshape y to be a column vector for tensorflow compatibility\n",
    "\"\"\"X = 2D array of shape(1000,5) containing the input features \n",
    "y = 2D array of shape(1000,1) containing the target values\"\"\"\n",
    "# \"\"\"Alternate way\"\"\"\n",
    "# from sklearn.datasets import fetch_california_housing\n",
    "# data = fetch_california_housing()\n",
    "# X = data.data[:, :5]  # Select first 5 features for simpicity(no GPU)\n",
    "# y = data.target.reshape(-1, 1)"
   ]
  },
  {
   "cell_type": "markdown",
   "metadata": {},
   "source": [
    "Split the Data"
   ]
  },
  {
   "cell_type": "code",
   "execution_count": 21,
   "metadata": {},
   "outputs": [
    {
     "data": {
      "text/plain": [
       "'random state = 42 implies that the data is shuffled in the same way every time the code is run'"
      ]
     },
     "execution_count": 21,
     "metadata": {},
     "output_type": "execute_result"
    }
   ],
   "source": [
    "X_train, X_temp, y_train, y_temp = train_test_split(X, y, test_size=0.3, random_state=42) # 30 for test 70 for train\n",
    "X_val, X_test, y_val, y_test = train_test_split(X_temp, y_temp, test_size=0.5, random_state=42) # 15 for val 15 for test\n",
    "\"\"\"random state = 42 implies that the data is shuffled in the same way every time the code is run\"\"\""
   ]
  },
  {
   "cell_type": "code",
   "execution_count": 22,
   "metadata": {},
   "outputs": [
    {
     "data": {
      "text/plain": [
       "((700, 5), (150, 5), (150, 5))"
      ]
     },
     "execution_count": 22,
     "metadata": {},
     "output_type": "execute_result"
    }
   ],
   "source": [
    "X_train.shape, X_val.shape, X_test.shape"
   ]
  },
  {
   "cell_type": "markdown",
   "metadata": {},
   "source": [
    "Standardizing the features(common step)"
   ]
  },
  {
   "cell_type": "code",
   "execution_count": 23,
   "metadata": {},
   "outputs": [],
   "source": [
    "# Normalize target values\n",
    "y_scaler = StandardScaler()\n",
    "y_train = y_scaler.fit_transform(y_train) # scakes the data to have zero mean and unit variance \n",
    "y_val = y_scaler.transform(y_val) # scales the validation target values using the mean and standard deviation computed from the training data\n",
    "y_test = y_scaler.transform(y_test)"
   ]
  },
  {
   "cell_type": "markdown",
   "metadata": {},
   "source": [
    "Defining the Model \n",
    "4 hidden layers, each 20 nodes, activation fxn = Relu(for Regression),Sigmoid(for Classification), Output layer activation fxn = linear, error fxn = MSE "
   ]
  },
  {
   "cell_type": "code",
   "execution_count": 24,
   "metadata": {},
   "outputs": [],
   "source": [
    "# Updated model with initializer\n",
    "\"\"\"Advantage of using GlorotUniform initializer is that it helps in maintain the variance of the weights\"\"\"\n",
    "class FeedForwardNN(tf.keras.Model):\n",
    "    def __init__(self):\n",
    "        super(FeedForwardNN, self).__init__()\n",
    "        self.hidden1 = tf.keras.layers.Dense(20, activation='relu', \n",
    "                                             kernel_initializer=tf.keras.initializers.GlorotUniform()) # this initalizer for initializing the weights\n",
    "        self.hidden2 = tf.keras.layers.Dense(20, activation='relu', \n",
    "                                             kernel_initializer=tf.keras.initializers.GlorotUniform())\n",
    "        self.hidden3 = tf.keras.layers.Dense(20, activation='relu', \n",
    "                                             kernel_initializer=tf.keras.initializers.GlorotUniform())\n",
    "        self.hidden4 = tf.keras.layers.Dense(20, activation='relu', \n",
    "                                             kernel_initializer=tf.keras.initializers.GlorotUniform())\n",
    "        self.output_layer = tf.keras.layers.Dense(1, activation=None) # inear activation function for regression\"\"\"\n",
    "    # takes inputs and passes them through the each hidden layer sequntially\n",
    "    def call(self, inputs):\n",
    "        x = self.hidden1(inputs)\n",
    "        x = self.hidden2(x)\n",
    "        x = self.hidden3(x)\n",
    "        x = self.hidden4(x)\n",
    "        return self.output_layer(x)"
   ]
  },
  {
   "cell_type": "markdown",
   "metadata": {},
   "source": [
    "From hereon instead of using the standard tf library opt's, writing the own types of Opt for better understanding along with thier drawbacks and why we need improvement"
   ]
  },
  {
   "cell_type": "code",
   "execution_count": 25,
   "metadata": {},
   "outputs": [],
   "source": [
    "import numpy as np\n",
    "import tensorflow as tf\n",
    "\n",
    "class Optimizers:\n",
    "    def __init__(self, method='vanilla', learning_rate=0.01, beta1=0.9, beta2=0.999, epsilon=1e-7, decay_rate=0.9,batch_size=None):\n",
    "        self.method = method\n",
    "        self.learning_rate = learning_rate\n",
    "        self.beta1 = beta1  # Momentum parameter for momentum-based optimizers\n",
    "        self.beta2 = beta2  # RMSProp/Adam parameter\n",
    "        self.epsilon = epsilon\n",
    "        self.decay_rate = decay_rate  # For exponential decay in RMSProp\n",
    "        self.momentum = None\n",
    "        self.velocity = None\n",
    "        self.squared_gradients = None\n",
    "        self.batch_size = batch_size # For mini-batch optimization\n",
    "        self.t = 0  # Time step for Adam\n",
    "    \"\"\"Parameter Updation rules : \n",
    "        Vanilla GD: w_t+1 = w_t - learning_rate * gradient wrt w, where w_t is the weight at time t[similarly for bias]\n",
    "        Gradient wrt w = dl(w,b)/dw, where l is the loss function and w,b are weights and biases respectively\n",
    "        Disadaavantages of Vanilla Gradient Descent:\n",
    "        1)It makes very small movements even in the area with more loss --> gentle(gradient is small) region so even after many steps we may not be able to converge\n",
    "        2)In areas where curve is gentle updates are small , where as where curve is steep updates are large\n",
    "        3)If we hit a gentle region slow progress\n",
    "        Mini-Batch Gradient Descent: w_t+1 = w_t - learning_rate * (1/batch_size) * sum(gradient wrt w), where w_t is the weight at time t[similarly for bias]\n",
    "        Advantages:\n",
    "        1)Just a bit faster thats it,bcz we are making a movement after a batch of samples\n",
    "        Disadvantages:\n",
    "        Same as above\n",
    "        Momentum based GD: Moving repeatedly in the same drxn --> take bigger steps and move faster\n",
    "        Update Rule : u_t = beta*u_t-1 + gradient,u_-1 = 0; w_t+1 = w_t - learning_rate * u_t , 0 <= beta < 1 (storing history of updates)\n",
    "        Disadvantages:\n",
    "        1)Momentum may carry it out,like it cant stop when auctually required to---many oscillations\n",
    "        Nestrov Accelerated Gradient: NAG--> Look ahead before making a step\n",
    "        Update Rule : u_t = beta*u_t-1 + gradient(w_t-beta*u_t-1),u_-1 = 0; w_t+1 = w_t - learning_rate * u_t , 0 <= beta < 1 (storing history of updates)\n",
    "        Advantages:\n",
    "        1) Looking ahead makes less oscillations and thus chances of escaping a minima valley is more\n",
    "        Disadvantages:\n",
    "        1) Still may oscillate\n",
    "        SGD : in GD we are going over the entire data before updating once, but in SGD we are updating parameters for every single point(useful if n is too large)\n",
    "        Disadvantages:\n",
    "        1) Its approximate not exact\n",
    "        2) Many oscillations because we make greedy decisions--> a parameter update which is locally good may disappoint other points in the future\n",
    "        Instead of estimating one point at a time, we can do in batches ---> Mini-Batch Gradient Descent\n",
    "        NAG and Mom are still much faster than SGD\n",
    "        -----Learning rate Improvemnt -----\n",
    "        Methods : \n",
    "        Step dacay: Half the learning rate after an epoch if the validation error is more than that of the previous epoch\n",
    "        Exponential decay: learning_rate = eta_0 ^ kt where eta_0 and k are hyperparameters,t is a step parameter\n",
    "        1/t decay : n = n_0/1+kt\n",
    "        AdaGrad: Adaptive learning rate,learning rate is different for each parameter---more updates == more decay\n",
    "        rule : v_t= v_t+1 + (gradient)**2 and w_t+1 = w_t - (learning_rate/sqrt(v_t+epsilon)) * gradient\n",
    "        if a feature is sparse/rare we are just wasting a lot of time computing it because the gradient term is 0 for most of the values\n",
    "        Assuming w is sparse:\n",
    "        All 3 algo : Momentum,SGD,Nestrov moves first in the drxn of dense b and if no updates are not possible anymore then it moves in the drxn of sparse w\n",
    "        but this is not ideal behaviour\n",
    "        Adagrad slows down near minimum because of deacaying LR\n",
    "        Disadvantages:\n",
    "        over time the effective learning rate for b will decay to an extent that there will be no further updates to b\n",
    "        As a result, after a while, the frequent parameters will start receiving very small updates because of the decayed learning rate\n",
    "        To avoid this why not decay the denominator and prevent its rapid growth\n",
    "        RMSProp: Lr may inc or dec or remain constant ---> means oscillations can be stuck in a loop forver , fix == chosing n_0 appropiately \n",
    "        ---NOT COMPLETED--\n",
    "        \"\"\"\n",
    "    def apply_gradients(self, weights, gradients):\n",
    "        if self.method == 'vanilla':\n",
    "            # Vanilla Gradient Descent\n",
    "            for w, g in zip(weights, gradients):\n",
    "                w.assign_sub(self.learning_rate * g)\n",
    "        elif self.method == 'mini_batch': ## **** Doubt\n",
    "        # Mini-Batch Gradient Descent: Subset of dataset\n",
    "            if self.batch_size is None:\n",
    "                raise ValueError(\"Batch size must be specified for mini-batch optimization.\")\n",
    "            for w, g in zip(weights, gradients):\n",
    "                w.assign_sub(self.learning_rate * g / self.batch_size)  # Averaging gradients for the mini-batch\n",
    "        \n",
    "        elif self.method == 'sgd': # wrong code \n",
    "            # Stochastic Gradient Descent: Single sample\n",
    "            for w, g in zip(weights, gradients):\n",
    "                w.assign_sub(self.learning_rate * g)\n",
    "\n",
    "        elif self.method == 'momentum':\n",
    "            # Momentum\n",
    "            if self.momentum is None:\n",
    "                self.momentum = [tf.zeros_like(w) for w in weights]\n",
    "            for i, (w, g) in enumerate(zip(weights, gradients)):\n",
    "                self.momentum[i] = self.beta1 * self.momentum[i] + (1 - self.beta1) * g\n",
    "                w.assign_sub(self.learning_rate * self.momentum[i])\n",
    "\n",
    "        elif self.method == 'nesterov':\n",
    "            # Nesterov Accelerated Gradient (NAG)\n",
    "            if self.momentum is None:\n",
    "                self.momentum = [tf.zeros_like(w) for w in weights]\n",
    "            for i, (w, g) in enumerate(zip(weights, gradients)):\n",
    "                prev_momentum = self.momentum[i]\n",
    "                self.momentum[i] = self.beta1 * self.momentum[i] + (1 - self.beta1) * g\n",
    "                w.assign_sub(self.learning_rate * (self.beta1 * prev_momentum + (1 - self.beta1) * g))\n",
    "\n",
    "        elif self.method == 'adagrad':\n",
    "            # Adagrad\n",
    "            if self.squared_gradients is None:\n",
    "                self.squared_gradients = [tf.zeros_like(w) for w in weights]\n",
    "            for i, (w, g) in enumerate(zip(weights, gradients)):\n",
    "                self.squared_gradients[i] += tf.square(g)\n",
    "                adjusted_lr = self.learning_rate / (tf.sqrt(self.squared_gradients[i]) + self.epsilon)\n",
    "                w.assign_sub(adjusted_lr * g)\n",
    "\n",
    "        elif self.method == 'rmsprop':\n",
    "            # RMSProp\n",
    "            if self.squared_gradients is None:\n",
    "                self.squared_gradients = [tf.zeros_like(w) for w in weights]\n",
    "            for i, (w, g) in enumerate(zip(weights, gradients)):\n",
    "                self.squared_gradients[i] = self.decay_rate * self.squared_gradients[i] + (1 - self.decay_rate) * tf.square(g)\n",
    "                adjusted_lr = self.learning_rate / (tf.sqrt(self.squared_gradients[i]) + self.epsilon)\n",
    "                w.assign_sub(adjusted_lr * g)\n",
    "\n",
    "        elif self.method == 'adadelta':\n",
    "            # Adadelta\n",
    "            if self.squared_gradients is None:\n",
    "                self.squared_gradients = [tf.zeros_like(w) for w in weights]\n",
    "            if self.velocity is None:\n",
    "                self.velocity = [tf.zeros_like(w) for w in weights]\n",
    "            for i, (w, g) in enumerate(zip(weights, gradients)):\n",
    "                self.squared_gradients[i] = self.decay_rate * self.squared_gradients[i] + (1 - self.decay_rate) * tf.square(g)\n",
    "                update = tf.sqrt(self.velocity[i] + self.epsilon) / (tf.sqrt(self.squared_gradients[i]) + self.epsilon) * g\n",
    "                self.velocity[i] = self.decay_rate * self.velocity[i] + (1 - self.decay_rate) * tf.square(update)\n",
    "                w.assign_sub(update)\n",
    "\n",
    "        elif self.method == 'adam':\n",
    "            # Adam\n",
    "            if self.momentum is None:\n",
    "                self.momentum = [tf.zeros_like(w) for w in weights]\n",
    "            if self.squared_gradients is None:\n",
    "                self.squared_gradients = [tf.zeros_like(w) for w in weights]\n",
    "            self.t += 1\n",
    "            for i, (w, g) in enumerate(zip(weights, gradients)):\n",
    "                self.momentum[i] = self.beta1 * self.momentum[i] + (1 - self.beta1) * g\n",
    "                self.squared_gradients[i] = self.beta2 * self.squared_gradients[i] + (1 - self.beta2) * tf.square(g)\n",
    "                m_hat = self.momentum[i] / (1 - tf.pow(self.beta1, self.t))\n",
    "                v_hat = self.squared_gradients[i] / (1 - tf.pow(self.beta2, self.t))\n",
    "                w.assign_sub(self.learning_rate * m_hat / (tf.sqrt(v_hat) + self.epsilon))\n",
    "\n",
    "        else:\n",
    "            raise ValueError(f\"Unknown optimization method: {self.method}\")\n"
   ]
  },
  {
   "cell_type": "markdown",
   "metadata": {},
   "source": [
    "Loss Function = MSE"
   ]
  },
  {
   "cell_type": "code",
   "execution_count": 26,
   "metadata": {},
   "outputs": [],
   "source": [
    "mse_loss = tf.keras.losses.MeanSquaredError()"
   ]
  },
  {
   "cell_type": "markdown",
   "metadata": {},
   "source": [
    "Training the model with custom Opt defined above"
   ]
  },
  {
   "cell_type": "code",
   "execution_count": null,
   "metadata": {},
   "outputs": [
    {
     "name": "stdout",
     "output_type": "stream",
     "text": [
      "Starting training with optimizer: vanilla\n",
      "Optimizer: vanilla\n",
      "  Final Train Loss: 0.0057\n",
      "  Final Validation Loss: 0.0076\n",
      "  Final Test Loss: 0.0068\n",
      "Finished training with optimizer: vanilla\n",
      "\n",
      "Starting training with optimizer: sgd\n",
      "Optimizer: sgd\n",
      "  Final Train Loss: 0.0058\n",
      "  Final Validation Loss: 0.0060\n",
      "  Final Test Loss: 0.0082\n",
      "Finished training with optimizer: sgd\n",
      "\n",
      "Starting training with optimizer: momentum\n",
      "Optimizer: momentum\n",
      "  Final Train Loss: 0.0068\n",
      "  Final Validation Loss: 0.0075\n",
      "  Final Test Loss: 0.0070\n",
      "Finished training with optimizer: momentum\n",
      "\n",
      "Starting training with optimizer: nesterov\n",
      "Optimizer: nesterov\n",
      "  Final Train Loss: 0.0090\n",
      "  Final Validation Loss: 0.0144\n",
      "  Final Test Loss: 0.0099\n",
      "Finished training with optimizer: nesterov\n",
      "\n",
      "Starting training with optimizer: adagrad\n",
      "Optimizer: adagrad\n",
      "  Final Train Loss: 0.0009\n",
      "  Final Validation Loss: 0.0028\n",
      "  Final Test Loss: 0.0025\n",
      "Finished training with optimizer: adagrad\n",
      "\n",
      "Starting training with optimizer: rmsprop\n",
      "Optimizer: rmsprop\n",
      "  Final Train Loss: 0.0078\n",
      "  Final Validation Loss: 0.0080\n",
      "  Final Test Loss: 0.0083\n",
      "Finished training with optimizer: rmsprop\n",
      "\n",
      "Starting training with optimizer: adadelta\n",
      "Optimizer: adadelta\n",
      "  Final Train Loss: 0.0054\n",
      "  Final Validation Loss: 0.0062\n",
      "  Final Test Loss: 0.0062\n",
      "Finished training with optimizer: adadelta\n",
      "\n",
      "Starting training with optimizer: adam\n",
      "Optimizer: adam\n",
      "  Final Train Loss: 0.0006\n",
      "  Final Validation Loss: 0.0006\n",
      "  Final Test Loss: 0.0007\n",
      "Finished training with optimizer: adam\n",
      "\n"
     ]
    }
   ],
   "source": [
    "epochs = 1000\n",
    "\n",
    "# Initialize the model\n",
    "model = FeedForwardNN()\n",
    "# batch_size = 32 # For mini-batch optimization\n",
    "# Initialize the optimizer\n",
    "import matplotlib.pyplot as plt\n",
    "\n",
    "# List of optimizer methods (excluding mini_batch)\n",
    "optimizer_methods = ['vanilla', 'sgd', 'momentum', 'nesterov', 'adagrad', 'rmsprop', 'adadelta', 'adam']\n",
    "\n",
    "# Dictionary to store test losses for each optimizer\n",
    "test_loss_curves = {}\n",
    "\n",
    "# Iterate through each optimizer method\n",
    "for method in optimizer_methods:\n",
    "    print(f\"Starting training with optimizer: {method}\")\n",
    "    \n",
    "    # Reinitialize the model and optimizer\n",
    "    model = FeedForwardNN()\n",
    "    optimizer = Optimizers(method=method, learning_rate=0.01)\n",
    "    \n",
    "    train_losses = []  \n",
    "    val_losses = []    \n",
    "    test_losses = []  \n",
    "\n",
    "    for epoch in range(1000): # using Gradient tape for easier computation of gradients(\"Stack Overflow)\n",
    "        # Gradient tape is like a recording mechanism that watches the operations excecuted inside its contents\n",
    "        # During the forward pass, it records all the operations to a tape\n",
    "        # Once the forward pass is done, we can calculate the gradients of any function with respect to any tensor\n",
    "        with tf.GradientTape() as tape:\n",
    "            predictions = model(X_train)\n",
    "            train_loss = mse_loss(y_train, predictions)\n",
    "        gradients = tape.gradient(train_loss, model.trainable_variables)\n",
    "        optimizer.apply_gradients(model.trainable_variables, gradients)\n",
    "        val_predictions = model(X_val)\n",
    "        val_loss = mse_loss(y_val, val_predictions)\n",
    "\n",
    "        test_predictions = model(X_test)\n",
    "        test_loss = mse_loss(y_test, test_predictions)\n",
    "\n",
    "        train_losses.append(train_loss.numpy())\n",
    "        val_losses.append(val_loss.numpy())\n",
    "        test_losses.append(test_loss.numpy())\n",
    "    test_loss_curves[method] = test_losses\n",
    "    # Print final losses after 1000 epochs\n",
    "    print(f\"Optimizer: {method}\")\n",
    "    print(f\"  Final Train Loss: {train_losses[-1]:.4f}\")\n",
    "    print(f\"  Final Validation Loss: {val_losses[-1]:.4f}\")\n",
    "    print(f\"  Final Test Loss: {test_losses[-1]:.4f}\")\n",
    "    print(f\"Finished training with optimizer: {method}\\n\")\n"
   ]
  },
  {
   "cell_type": "markdown",
   "metadata": {},
   "source": [
    "Evaluate"
   ]
  },
  {
   "cell_type": "code",
   "execution_count": 28,
   "metadata": {},
   "outputs": [
    {
     "data": {
      "image/png": "[encoded data removed]",
      "text/plain": [
       "<Figure size 1000x600 with 1 Axes>"
      ]
     },
     "metadata": {},
     "output_type": "display_data"
    }
   ],
   "source": [
    "# Plot test loss curves\n",
    "plt.figure(figsize=(10, 6))\n",
    "for method, losses in test_loss_curves.items():\n",
    "    plt.plot(losses, label=method)\n",
    "\n",
    "plt.title(\"Test Loss Curves for Different Optimizers\")\n",
    "plt.xlabel(\"Epochs\")\n",
    "plt.ylabel(\"Test Loss\")\n",
    "plt.legend()\n",
    "plt.grid()\n",
    "plt.show()"
   ]
  }
 ],
 "metadata": {
  "kernelspec": {
   "display_name": "shoyo",
   "language": "python",
   "name": "python3"
  },
  "language_info": {
   "codemirror_mode": {
    "name": "ipython",
    "version": 3
   },
   "file_extension": ".py",
   "mimetype": "text/x-python",
   "name": "python",
   "nbconvert_exporter": "python",
   "pygments_lexer": "ipython3",
   "version": "3.10.16"
  }
 },
 "nbformat": 4,
 "nbformat_minor": 2
}
