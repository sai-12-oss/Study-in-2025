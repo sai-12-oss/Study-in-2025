{
  "cells": [
    {
      "cell_type": "markdown",
      "metadata": {
        "id": "-xqMjCyDbYwU"
      },
      "source": [
        "# Assignment 4: Evaluation Metrics + Manipulating Attention Heads in Transformers (TA: Karan Raj Bagri)\n",
        "\n",
        "The goal of this assignment is to show how different attention heads have varying significance for transformers trained on multiple tasks by computing gradient-based importance scores, selectively pruning less critical heads, and evaluating the impact on performance.\n",
        "\n",
        "Please make a copy of this notebook (locally or on Colab). Ensure you adhere to the guidelines and submission instructions (mentioned below) for attempting and submitting the assignment.\n",
        "\n",
        "Given that the class has 150+ students, we will **NOT** entertain any requests for changing your notebooks after the submission deadline (especially in cases when the notebook fails to compile or run because you did not follow the instructions)."
      ]
    },
    {
      "cell_type": "markdown",
      "metadata": {
        "id": "g5QBQ3NEbYwY"
      },
      "source": [
        "### Guidelines for Attempting the Assignment\n",
        "\n",
        "1. Write your logic in the cells **ONLY** which have the comment `# ADD YOUR CODE HERE`, between the `# BEGIN CODE` and `# END CODE` comments. These cells are also demarcated by the special start (`## ==== BEGIN EVALUATION PORTION`) and end (`## ==== END EVALUATION PORTION`) comments. Do **NOT** remove any of these comments from the designated cells, otherwise your assignment will not be evaluated correctly.\n",
        "\n",
        "2. All imports that should be necessary are already provided as part of the notebook. You should **NOT** import any new libraries, otherwise your assignment will not be graded.\n",
        "\n",
        "3. You need to install the libraries/imports used in this notebook yourself. Its recommended to use python version between 3.9 and 3.11 to attempt this assignment.\n",
        "\n",
        "4. Only write your code in the cells designated for auto-evaluation. If you encounter any errors in the supporting cells during execution, contact the respective TAs.\n",
        "\n",
        "5. **Please read the function docs and comments carefully**. They provide specific instructions and examples for implementing each function. Follow these instructions precisely - neither oversimplify nor overcomplicate your implementations. Deviating from the provided implementation guidelines may result in lost marks.\n",
        "\n",
        "6. **Important**: Use of AI-assistive technologies such as ChatGPT or GitHub CoPilot is not permitted for this assignment. Ensure that all attempts are solely your own. Not following this rule can incur a large penalty, including but not limited to scoring a zero for this assignment."
      ]
    },
    {
      "cell_type": "markdown",
      "metadata": {
        "id": "rh6ttp-ibYwZ"
      },
      "source": [
        "### Submission Instructions\n",
        "\n",
        "1. Ensure your code follows all guidelines mentioned above before submission.\n",
        "\n",
        "2. Ensure you only add code in designated areas, otherwise your assignment will not evaluated.\n",
        "\n",
        "3. When you have completely attempted the assignment, export the current notebook as a `.py` file, with the following name: `SAPName_SRNo_assignment4.py`, where `SAPName` would be your name as per SAP record, and `SRNo` will be the last 5 digits of your IISc SR number. For example, IISc student with SAP name Twyla Linda (SR no - 04-03-00-10-22-20-1-15329) would use `Twyla_Linda_15329_assignment4.py`.\n",
        "\n",
        "4. You should put your assignment file `SAPName_SRNo_assignment4.py` inside a folder `SAPName_SRNo`. The folder structure looks as follows:\n",
        "\n",
        "``` python\n",
        "└─── SAPName_SRNo\n",
        "     ├─── SAPName_SRNo_assignment4.py\n",
        "```\n",
        "\n",
        "5. When you run the assignment code, it may download certain datasets and other artifacts. These should **NOT** be part of the above folder.\n",
        "\n",
        "6. Once you have validated the folder structure as above, zip the folder and name it as `SAPName_SRNo_assignment4.zip` and submit this ZIP archive.\n",
        "\n",
        "7. Please ensure that your notebook finishes execution of all the cells within 30 minutes."
      ]
    },
    {
      "cell_type": "markdown",
      "metadata": {
        "id": "qJmJkxFsbYwa"
      },
      "source": [
        "### Marks Distribution\n",
        "\n",
        "- Evaluation Metrics: 30 marks\n",
        "- Head Importance Analysis: 20 marks\n",
        "- Pruning: 50 marks"
      ]
    },
    {
      "cell_type": "markdown",
      "metadata": {
        "id": "R8d5Up6ZbYwa"
      },
      "source": [
        "# Imports"
      ]
    },
    {
      "cell_type": "code",
      "execution_count": null,
      "metadata": {
        "id": "KBnct7cIbYwa"
      },
      "outputs": [],
      "source": [
        "!pip install datasets"
      ]
    },
    {
      "cell_type": "code",
      "execution_count": null,
      "metadata": {
        "id": "aha0k1sWbYwc"
      },
      "outputs": [],
      "source": [
        "import math\n",
        "from typing import List\n",
        "from transformers import T5ForConditionalGeneration, T5Tokenizer\n",
        "from datasets import load_dataset\n",
        "import torch\n",
        "from torch.utils.data import DataLoader\n",
        "import matplotlib.pyplot as plt\n",
        "import seaborn as sns\n",
        "from PIL import Image, ImageDraw, ImageFont\n",
        "import IPython.display as display"
      ]
    },
    {
      "cell_type": "markdown",
      "metadata": {
        "id": "cC_XmcfubYwc"
      },
      "source": [
        "## Evaluation Metrics"
      ]
    },
    {
      "cell_type": "markdown",
      "metadata": {
        "id": "zBA1oxb2bYwc"
      },
      "source": [
        "### ROUGE-L\n",
        "\n",
        "The ROUGE-L metric evaluates text summarization quality by measuring the Longest Common Subsequence (LCS) between a machine-generated summary and a reference summary.\n",
        "\n",
        "ROUGE-L is particularly useful for assessing how well a summary captures the main ideas while maintaining sentence-level structure similarity. It doesn't require consecutive matches, making it more flexible than strict n-gram methods.\n",
        "\n",
        "You may look at section 3.1 of the [original ROUGE paper by Lin (2004)](https://aclanthology.org/W04-1013/) and implement sentence-level LCS."
      ]
    },
    {
      "cell_type": "code",
      "execution_count": null,
      "metadata": {
        "id": "5-hcieIfbYwc"
      },
      "outputs": [],
      "source": [
        "## ==== BEGIN EVALUATION PORTION\n",
        "def rouge_l(prediction: str, reference: str, beta=1) -> float:\n",
        "    \"\"\"\n",
        "    Computes the ROUGE-L F measure based on the Longest Common Subsequence (LCS).\n",
        "\n",
        "    ROUGE-L measures the similarity between summaries by finding the longest sequence\n",
        "    of words that appear in the same relative order in both texts. It computes precision\n",
        "    (the proportion of words in the prediction that are part of the LCS) and recall\n",
        "    (the proportion of words in the reference that are part of the LCS), and then combines\n",
        "    them using an F measure.\n",
        "\n",
        "    The F measure is computed as:\n",
        "        F_beta = ((1 + beta^2) * Precision * Recall) / (beta^2 * Precision + Recall)\n",
        "    where beta determines the weight of recall relative to precision.\n",
        "    - A beta of 1.0 (default) gives equal weight to precision and recall (the F1 score).\n",
        "    - A beta greater than 1 emphasizes recall, while a beta less than 1 emphasizes precision.\n",
        "\n",
        "    Parameters:\n",
        "        prediction (str): The machine-generated or candidate summary text.\n",
        "        reference (str): The human-written or ground truth summary text.\n",
        "        beta (float): The weight factor for recall relative to precision. Default is 1.0.\n",
        "\n",
        "    Returns:\n",
        "        float: The ROUGE-L F measure between 0.0 and 1.0, where higher values indicate\n",
        "               greater similarity between the prediction and reference.\n",
        "\n",
        "    Example:\n",
        "        >>> rouge_l(\"The cat is on the mat\", \"The cat sat on the mat\")\n",
        "        0.83  # (approximately)\n",
        "\n",
        "    Notes:\n",
        "        - The function tokenizes inputs by splitting on whitespace and converting to lowercase.\n",
        "        - Returns 0.0 if either input is empty.\n",
        "        - No external libraries (e.g., NLTK) should be used to compute the result.\n",
        "    \"\"\"\n",
        "\n",
        "    # BEGIN CODE : eval1.rouge_l\n",
        "    # ADD YOUR CODE HERE\n",
        "    # END CODE\n",
        "## ==== END EVALUATION PORTION"
      ]
    },
    {
      "cell_type": "markdown",
      "metadata": {
        "id": "OSoO3UW2bYwd"
      },
      "source": [
        "### BLEU\n",
        "\n",
        "BLEU (Bilingual Evaluation Understudy) is a standard metric for evaluating machine translation quality by comparing the similarity between machine-generated translations and reference translations using n-gram precision.\n",
        "\n",
        "It was developed at IBM in 2001 and remains one of the most popular automated metrics for translation evaluation due to its correlation with human judgments.\n",
        "\n",
        "Your implementation should follow the original BLEU formulation as described by [Papineni et al. (2002)](https://aclanthology.org/P02-1040/) and summarized on [Wikipedia](https://en.wikipedia.org/wiki/BLEU), with the addition of a smoothing component (as described below)."
      ]
    },
    {
      "cell_type": "code",
      "execution_count": null,
      "metadata": {
        "id": "bq_OCWZBbYwd"
      },
      "outputs": [],
      "source": [
        "## ==== BEGIN EVALUTAION PORTION\n",
        "def bleu_score(candidate: str, reference: str) -> float:\n",
        "    \"\"\"\n",
        "    Computes the BLEU score for a candidate translation given a reference translation\n",
        "    using modified n-gram precision up to 4-grams, without applying any smoothing.\n",
        "\n",
        "    It proceeds as follows:\n",
        "\n",
        "    1. Tokenize the candidate and reference by converting them to lowercase and splitting on whitespace.\n",
        "    2. For each n in {1, 2, 3, 4}:\n",
        "       - Generate n-grams for both the candidate and reference.\n",
        "       - Count candidate n-grams and clip each count by the maximum count of that n-gram in the reference.\n",
        "       - If len(candidate n-grams) == 0, set precision_n to 0.\n",
        "       - Otherwise compute the modified precision:\n",
        "             If no n-gram matches are found (match_count == 0), use add-1 smoothing:\n",
        "                 precision_n = (match_count + 1) / (total candidate n-grams + 1)\n",
        "             Otherwise:\n",
        "                 precision_n = match_count / total candidate n-grams\n",
        "    3. Compute the geometric mean of these four precisions. (If any precision is zero after smoothing, the geometric mean will be 0.)\n",
        "    4. Calculate the brevity penalty (BP):\n",
        "         - BP = 1 if the candidate’s length is greater than or equal to the reference’s length.\n",
        "         - Otherwise, BP = exp(1 - (reference_length / candidate_length)).\n",
        "    5. The final BLEU score is the product of the brevity penalty and the geometric mean of the precisions.\n",
        "\n",
        "\n",
        "    Parameters:\n",
        "        candidate (str): The machine-generated translation to evaluate.\n",
        "        reference (str): The human-created reference translation.\n",
        "\n",
        "    Returns:\n",
        "        float: The BLEU score between 0.0 (no match) and 1.0 (perfect match).\n",
        "\n",
        "    Examples:\n",
        "        >>> bleu_score(\"the cat is on the mat\", \"the cat is on the mat\")\n",
        "        1.0\n",
        "        >>> bleu_score(\"the cat is on mat\", \"the cat is on the mat\")\n",
        "        0.5789  # (approximately)\n",
        "\n",
        "    Notes:\n",
        "        - No external libraries (e.g., NLTK) should be used to compute the BLEU score.\n",
        "    \"\"\"\n",
        "    # BEGIN CODE : eval2.bleu_score\n",
        "    # ADD YOUR CODE HERE\n",
        "    # END CODE\n",
        "## ==== END EVALUATION PORTION"
      ]
    },
    {
      "cell_type": "markdown",
      "metadata": {
        "id": "O-Fu42EAbYwd"
      },
      "source": [
        "## Attention Head Importance Analysis"
      ]
    },
    {
      "cell_type": "markdown",
      "metadata": {
        "id": "06uPMnw3bYwe"
      },
      "source": [
        "In this section, you'll analyze the importance of attention heads in T5 transformer models across different NLP tasks. The AttentionHeadImportance class provides tools to:\n",
        "- Load and preprocess datasets for various NLP tasks (summarization with CNN/DailyMail and translation with WMT16)\n",
        "- Compute the importance of attention heads in the T5 model\n",
        "- Visualize the importance scores as heatmaps\n",
        "\n",
        "The core of this section is implementing the compute_head_importance method, which measures how much each attention head contributes to the model's performance. This method:\n",
        "- Takes a dataloader and optional head masks as input\n",
        "- Returns importance scores for encoder, decoder, and cross-attention heads\n",
        "\n",
        "Your implementation should be flexible enough to work with different T5 variants (t5-small, t5-base, t5-large, etc.) without hardcoding model-specific parameters.\n",
        "\n",
        "After computing the head importance scores, you'll visualize them using heatmaps to compare which heads are most critical for different NLP tasks. These insights can be valuable for understanding how transformer models process different types of language tasks, how different attention heads may be important for different tasks and potentially for pruning less important heads to improve efficiency.\n",
        "\n",
        "The head importance scores you calculate will be useful for the next part of the assignment, where you'll explore head pruning techniques.\n"
      ]
    },
    {
      "cell_type": "markdown",
      "metadata": {
        "id": "gDXwFLSrkZ30"
      },
      "source": [
        "You can implement the `compute_head_importance` method using any one of the following approaches—or even propose your own method.\n",
        "\n",
        "1. **Gradient-based scoring**:  \n",
        "   Compute the gradients of the loss with respect to the head masks (as in [Michel et al. (2019)](https://arxiv.org/abs/1905.10650)). Larger gradient magnitudes indicate that a head has a larger impact on the loss, and hence is more important.\n",
        "\n",
        "2. **Simple ablation**:  \n",
        "   Systematically mask (disable) each attention head one at a time and measure the performance drop (e.g., in terms of loss). Heads whose removal causes larger performance degradation are deemed more important.\n",
        "\n",
        "3. **Attention weight magnitude**:  \n",
        "   Average the attention weights for each head across samples and time steps. Heads with higher average attention weights might be considered more influential.\n",
        "\n",
        "4. **Confidence analysis**:  \n",
        "   Evaluate the sharpness or concentration of each head's attention distribution. Heads that produce less uniform (more confident) distributions may be more specialized and important.\n",
        "\n",
        "5. **Layer-wise relevance propagation (LRP)**:  \n",
        "   Use relevance propagation techniques (as in [Voita et al. (2019)](https://arxiv.org/abs/1905.09418)) to trace how much each head contributes to the final output.\n"
      ]
    },
    {
      "cell_type": "code",
      "execution_count": null,
      "metadata": {
        "id": "B5gFbXfLxTQY"
      },
      "outputs": [],
      "source": [
        "## ==== BEGIN EVALUATION PORTION\n",
        "class AttentionHeadImportance:\n",
        "    def __init__(self, model_name=\"t5-base\", device=None):\n",
        "        self.device = torch.device(\"cuda\" if torch.cuda.is_available() else \"cpu\") if device is None else device\n",
        "        self.model = T5ForConditionalGeneration.from_pretrained(model_name).to(self.device)\n",
        "        self.tokenizer = T5Tokenizer.from_pretrained(model_name)\n",
        "\n",
        "        # BEGIN CODE : ahi.__init__\n",
        "        # ADD YOUR CODE HERE\n",
        "        # END CODE\n",
        "\n",
        "    def get_dataloader(self, path, name=None, split=\"validation\", batch_size=8, shuffle=False):\n",
        "        dataset = load_dataset(path, name, split=split)\n",
        "        dataset = self._preprocess_dataset(path, dataset)\n",
        "        dataset.set_format(type=\"torch\", columns=[\"input_ids\", \"labels\"])\n",
        "        return DataLoader(dataset, batch_size=batch_size, shuffle=shuffle)\n",
        "\n",
        "    def _preprocess_dataset(self, path, dataset):\n",
        "        if path == \"glue\":\n",
        "            return self._preprocess_sst2(dataset)\n",
        "        elif path == \"squad\":\n",
        "            return self._preprocess_squad(dataset)\n",
        "        elif path == \"cnn_dailymail\":\n",
        "            return self._preprocess_cnn_dailymail(dataset)\n",
        "        elif path == \"wmt16\":\n",
        "            return self._preprocess_wmt16(dataset)\n",
        "        else:\n",
        "            raise ValueError(f\"Preprocessing for dataset {path} is not implemented.\")\n",
        "\n",
        "    def _preprocess_sst2(self, dataset):\n",
        "        def preprocess(batch):\n",
        "            source_texts = [\"sst2 sentence: \" + ex for ex in batch[\"sentence\"]]\n",
        "            target_texts = [\"positive\" if label == 1 else \"negative\" for label in batch[\"label\"]]\n",
        "            inputs = self.tokenizer(source_texts, padding=\"max_length\", truncation=True, max_length=128)\n",
        "            labels = self.tokenizer(target_texts, padding=\"max_length\", truncation=True, max_length=10)\n",
        "            return {\"input_ids\": inputs[\"input_ids\"], \"labels\": labels[\"input_ids\"]}\n",
        "\n",
        "        dataset = dataset.map(preprocess, batched=True, remove_columns=[\"sentence\", \"label\", \"idx\"])\n",
        "        return dataset\n",
        "\n",
        "    def _preprocess_squad(self, dataset):\n",
        "        def preprocess(batch):\n",
        "            source_texts = [\"question: \" + q + \" context: \" + c for q, c in zip(batch[\"question\"], batch[\"context\"])]\n",
        "            target_texts = [ans[\"text\"][0] if len(ans[\"text\"]) > 0 else \"\" for ans in batch[\"answers\"]]\n",
        "            inputs = self.tokenizer(source_texts, padding=\"max_length\", truncation=True, max_length=128)\n",
        "            labels = self.tokenizer(target_texts, padding=\"max_length\", truncation=True, max_length=32)\n",
        "            return {\"input_ids\": inputs[\"input_ids\"], \"labels\": labels[\"input_ids\"]}\n",
        "\n",
        "        dataset = dataset.map(preprocess, batched=True, remove_columns=[\"id\", \"title\", \"context\", \"question\", \"answers\"])\n",
        "        return dataset\n",
        "\n",
        "    def _preprocess_cnn_dailymail(self, dataset):\n",
        "        def preprocess(batch):\n",
        "            source_texts = [\"summarize: \" + text for text in batch[\"article\"]]\n",
        "            target_texts = batch[\"highlights\"]\n",
        "            inputs = self.tokenizer(source_texts, padding=\"max_length\", truncation=True, max_length=512)\n",
        "            labels = self.tokenizer(target_texts, padding=\"max_length\", truncation=True, max_length=128)\n",
        "            return {\"input_ids\": inputs[\"input_ids\"], \"labels\": labels[\"input_ids\"]}\n",
        "\n",
        "        dataset = dataset.map(preprocess, batched=True, remove_columns=[\"article\", \"highlights\", \"id\"])\n",
        "        return dataset\n",
        "\n",
        "    def _preprocess_wmt16(self, dataset):\n",
        "        def preprocess(batch):\n",
        "            source_texts = [\"translate English to German: \" + ex[\"en\"] for ex in batch[\"translation\"]]\n",
        "            target_texts = [ex[\"de\"] for ex in batch[\"translation\"]]\n",
        "            inputs = self.tokenizer(source_texts, padding=\"max_length\", truncation=True, max_length=128)\n",
        "            labels = self.tokenizer(target_texts, padding=\"max_length\", truncation=True, max_length=128)\n",
        "            return {\"input_ids\": inputs[\"input_ids\"], \"labels\": labels[\"input_ids\"]}\n",
        "\n",
        "        dataset = dataset.map(preprocess, batched=True, remove_columns=[\"translation\"])\n",
        "        return dataset\n",
        "\n",
        "    def compute_head_importance(self, dataloader, encoder_head_mask=None, decoder_head_mask=None, cross_attn_head_mask=None):\n",
        "        \"\"\"\n",
        "        Computes the importance of attention heads in the T5 model by measuring their influence on model predictions.\n",
        "\n",
        "        Head importance quantifies how much each attention head contributes to the model's performance/loss.\n",
        "        Higher importance values indicate heads that have greater impact on the model's predictions.\n",
        "\n",
        "        Parameters:\n",
        "        -----------\n",
        "        dataloader : torch.utils.data.DataLoader\n",
        "            A DataLoader containing batches of input data for evaluation.\n",
        "            Each batch should contain 'input_ids' and 'labels' for the model.\n",
        "\n",
        "        encoder_head_mask : torch.Tensor or None, optional\n",
        "            Initial mask for encoder self-attention heads of shape (num_layers, num_heads).\n",
        "            Contains 0s and 1s, where 1 indicates the head is active and 0 indicates the head is masked/pruned.\n",
        "            If None, initialized with all heads active (all ones).\n",
        "\n",
        "        decoder_head_mask : torch.Tensor or None, optional\n",
        "            Initial mask for decoder self-attention heads of shape (num_layers, num_heads).\n",
        "            Contains 0s and 1s, where 1 indicates the head is active and 0 indicates the head is masked/pruned.\n",
        "            If None, initialized with all heads active (all ones).\n",
        "\n",
        "        cross_attn_head_mask : torch.Tensor or None, optional\n",
        "            Initial mask for cross-attention heads of shape (num_layers, num_heads).\n",
        "            Contains 0s and 1s, where 1 indicates the head is active and 0 indicates the head is masked/pruned.\n",
        "            If None, initialized with all heads active (all ones).\n",
        "\n",
        "        Returns:\n",
        "        --------\n",
        "        tuple of (torch.Tensor, torch.Tensor, torch.Tensor)\n",
        "            A tuple containing three tensors with normalized importance scores:\n",
        "            1. encoder_head_importance : torch.Tensor of shape (num_layers, num_heads)\n",
        "            Importance scores for the self-attention heads in the encoder.\n",
        "            2. decoder_head_importance : torch.Tensor of shape (num_layers, num_heads)\n",
        "            Importance scores for the self-attention heads in the decoder.\n",
        "            3. cross_attn_head_importance : torch.Tensor of shape (num_layers, num_heads)\n",
        "            Importance scores for the cross-attention heads that connect encoder to decoder.\n",
        "\n",
        "        Notes:\n",
        "        ------\n",
        "        - Head importance is typically measured by examining how each head affects the model's loss.\n",
        "        - These importance scores can be used for pruning less important heads in the next part of the assignment.\n",
        "        - The masks, being supplied as additional inputs to this method may make it useful for the pruning task in the next part of the assignment, in case you choose to prune incrementally.\n",
        "        - Normalize the importance scores to a range of [0, 1] for better visualization and comparison.\n",
        "        \"\"\"\n",
        "\n",
        "        # BEGIN CODE : ahi.compute_head_importance\n",
        "        # ADD YOUR CODE HERE\n",
        "        # END CODE\n",
        "\n",
        "    def visualize_head_importance(self, encoder_head_importance, decoder_head_importance, cross_attn_head_importance, save_path=\"fig.png\"):\n",
        "        fig, axes = plt.subplots(3, 1, figsize=(self.model.config.num_layers, self.model.config.num_heads))\n",
        "\n",
        "        sns.heatmap(encoder_head_importance.cpu().numpy(), ax=axes[0], cmap=\"Blues\", annot=True, fmt=\".2f\")\n",
        "        axes[0].set_title(\"Encoder Head Importance\")\n",
        "        axes[0].set_xlabel(\"Heads\")\n",
        "        axes[0].set_ylabel(\"Layers\")\n",
        "\n",
        "        sns.heatmap(decoder_head_importance.cpu().numpy(), ax=axes[1], cmap=\"Greens\", annot=True, fmt=\".2f\")\n",
        "        axes[1].set_title(\"Decoder Head Importance\")\n",
        "        axes[1].set_xlabel(\"Heads\")\n",
        "        axes[1].set_ylabel(\"Layers\")\n",
        "\n",
        "        sns.heatmap(cross_attn_head_importance.cpu().numpy(), ax=axes[2], cmap=\"Reds\", annot=True, fmt=\".2f\")\n",
        "        axes[2].set_title(\"Cross-Attention Head Importance\")\n",
        "        axes[2].set_xlabel(\"Heads\")\n",
        "        axes[2].set_ylabel(\"Layers\")\n",
        "\n",
        "        plt.tight_layout()\n",
        "        plt.savefig(save_path)\n",
        "\n",
        "    # BEGIN CODE : ahi.additional_methods\n",
        "    # ADD YOUR CODE HERE\n",
        "    # You may add additional methods here if needed.\n",
        "    # END CODE\n",
        "\n",
        "## ==== END EVALUATION PORTION\n"
      ]
    },
    {
      "cell_type": "code",
      "execution_count": null,
      "metadata": {
        "id": "sEpuqc3EbYwf"
      },
      "outputs": [],
      "source": [
        "## ==== BEGIN EVALUATION PORTION\n",
        "# BEGIN CODE : eval_ahi.config\n",
        "# ADD YOUR CODE HERE\n",
        "# You are free to change these values to suit your needs\n",
        "split_cnn_dailymail = \"validation[:5%]\" # subset of the CNN/DailyMail dataset used for evaluation. \"validation[:5%]\" uses 5% of the validation set.\n",
        "batch_size_cnn_dailymail = 4\n",
        "split_wmt16 = \"validation[:5%]\"\n",
        "batch_size_wmt16 = 8\n",
        "# END CODE\n",
        "## ==== END EVALUATION PORTION"
      ]
    },
    {
      "cell_type": "markdown",
      "metadata": {
        "id": "QJeiVvQBbYwf"
      },
      "source": [
        "### Evaluate Head Importance on Summarization task."
      ]
    },
    {
      "cell_type": "code",
      "execution_count": null,
      "metadata": {
        "id": "QYiNw8ydbYwf"
      },
      "outputs": [],
      "source": [
        "# Instantiate the class\n",
        "ahi = AttentionHeadImportance()\n",
        "\n",
        "# Load dataset and get dataloader\n",
        "dataloader = ahi.get_dataloader(\"cnn_dailymail\", \"3.0.0\", split=split_cnn_dailymail, batch_size=batch_size_cnn_dailymail)\n",
        "\n",
        "# Compute head importance\n",
        "encoder_importance, decoder_importance, cross_attn_importance = ahi.compute_head_importance(dataloader)\n",
        "\n",
        "# Visualize\n",
        "ahi.visualize_head_importance(encoder_importance, decoder_importance, cross_attn_importance, save_path=\"head_imp_cnn.png\")\n"
      ]
    },
    {
      "cell_type": "markdown",
      "metadata": {
        "id": "taHjET5jbYwf"
      },
      "source": [
        "### Evaluate Head Importance on Translation task."
      ]
    },
    {
      "cell_type": "code",
      "execution_count": null,
      "metadata": {
        "id": "Gv5xOL_dbYwg"
      },
      "outputs": [],
      "source": [
        "# Load dataset and get dataloader\n",
        "dataloader = ahi.get_dataloader(\"wmt16\", \"de-en\", split=split_wmt16, batch_size=batch_size_wmt16)\n",
        "# Compute head importance\n",
        "encoder_importance, decoder_importance, cross_attn_importance = ahi.compute_head_importance(dataloader)\n",
        "# Visualize\n",
        "ahi.visualize_head_importance(encoder_importance, decoder_importance, cross_attn_importance, save_path=\"head_imp_wmt.png\")"
      ]
    },
    {
      "cell_type": "code",
      "execution_count": null,
      "metadata": {
        "id": "FACP7klcbYwg"
      },
      "outputs": [],
      "source": [
        "# Load the saved images\n",
        "img1 = Image.open(\"head_imp_cnn.png\")\n",
        "img2 = Image.open(\"head_imp_wmt.png\")\n",
        "\n",
        "# Get dimensions\n",
        "combined_width = img1.width + img2.width\n",
        "max_height = max(img1.height, img2.height)\n",
        "\n",
        "# Create a blank image with the combined width and extra space for labels\n",
        "combined_img = Image.new(\"RGB\", (combined_width, max_height + 30), (255, 255, 255))  # White background with space for labels\n",
        "\n",
        "# Paste the images side by side\n",
        "combined_img.paste(img1, (0, 30))  # Add 30px padding at top for labels\n",
        "combined_img.paste(img2, (img1.width, 30))\n",
        "\n",
        "# Add labels\n",
        "draw = ImageDraw.Draw(combined_img)\n",
        "font = ImageFont.load_default(size=30)\n",
        "\n",
        "# Add titles centered above each image\n",
        "draw.text((img1.width//2, 5), \"Summarization (CNN/DailyMail)\", fill=(0, 0, 0), font=font, anchor=\"mt\")\n",
        "draw.text((img1.width + img2.width//2, 5), \"Translation (WMT16)\", fill=(0, 0, 0), font=font, anchor=\"mt\")\n",
        "\n",
        "# Draw a subtle separator line\n",
        "draw.line([(img1.width, 0), (img1.width, max_height + 30)], fill=(200, 200, 200), width=1)\n",
        "\n",
        "# Show the combined image\n",
        "display.display(combined_img)"
      ]
    },
    {
      "cell_type": "markdown",
      "metadata": {
        "id": "ExwQiAi3bYwg"
      },
      "source": [
        "### Expected Observations\n",
        "\n",
        "When analyzing the attention head importance scores across different tasks like summarization (CNN/DailyMail) and translation (WMT16), you should observe several interesting patterns:\n",
        "\n",
        "1. **Task-Specific Heads**: Some attention heads will show dramatically different importance scores between tasks. For example, certain encoder heads might be crucial for capturing the document structure in summarization but less important for the sentence-level processing in translation. This task-specific specialization suggests that different heads learn to focus on linguistic features relevant to particular tasks.\n",
        "\n",
        "2. **Universally Important Heads**: You'll likely identify a subset of heads with consistently high importance scores across both tasks. These \"universal\" heads may be responsible for fundamental language understanding capabilities like syntactic parsing or semantic relationship modeling that benefit multiple NLP tasks.\n"
      ]
    },
    {
      "cell_type": "markdown",
      "metadata": {
        "id": "1ZkT7WiVbYwg"
      },
      "source": [
        "## Pruning (Masking) Heads"
      ]
    },
    {
      "cell_type": "code",
      "execution_count": null,
      "metadata": {
        "id": "wh2pQz4DbYwg"
      },
      "outputs": [],
      "source": [
        "## ==== BEGIN EVALUATION PORTION\n",
        "class Pruner(AttentionHeadImportance):\n",
        "    def get_mask(self, dataloader, sparsity_to_introduce, remove_from=\"any\", existing_encoder_head_mask=None, existing_decoder_head_mask=None, existing_cross_attn_head_mask=None):\n",
        "        \"\"\"\n",
        "        Creates attention head masks for pruning by removing/masking less important heads based on their importance scores.\n",
        "\n",
        "        This method identifies which attention heads to prune based on their relative importance\n",
        "        to the model's performance. Heads with lower importance scores are pruned first.\n",
        "\n",
        "        Parameters:\n",
        "        -----------\n",
        "        dataloader : torch.utils.data.DataLoader\n",
        "            A DataLoader containing batches of input data for evaluating head importance.\n",
        "            Each batch should contain 'input_ids' and 'labels' for the model.\n",
        "\n",
        "        sparsity_to_introduce : float\n",
        "            The fraction of total heads to prune (e.g., 0.2 for 20% of heads).\n",
        "            Must be between 0.0 and 1.0.\n",
        "\n",
        "        remove_from : str, optional (default=\"any\")\n",
        "            Which component(s) to prune heads from. Must be one of:\n",
        "            - \"encoder\": Only prune encoder self-attention heads\n",
        "            - \"decoder\": Only prune decoder self-attention heads\n",
        "            - \"cross\": Only prune cross-attention heads\n",
        "            - \"any\": Prune from any component based on lowest importance scores\n",
        "\n",
        "        existing_encoder_head_mask : torch.Tensor or None, optional\n",
        "            Existing mask for encoder self-attention heads of shape (num_layers, num_heads).\n",
        "            Contains 0s and 1s, where 1 indicates the head is active and 0 indicates the head is masked/pruned.\n",
        "            If None, initialized with all heads active (all ones).\n",
        "\n",
        "        existing_decoder_head_mask : torch.Tensor or None, optional\n",
        "            Existing mask for decoder self-attention heads of shape (num_layers, num_heads).\n",
        "            Contains 0s and 1s, where 1 indicates the head is active and 0 indicates the head is masked/pruned.\n",
        "            If None, initialized with all heads active (all ones).\n",
        "\n",
        "        existing_cross_attn_head_mask : torch.Tensor or None, optional\n",
        "            Existing mask for cross-attention heads of shape (num_layers, num_heads).\n",
        "            Contains 0s and 1s, where 1 indicates the head is active and 0 indicates the head is masked/pruned.\n",
        "            If None, initialized with all heads active (all ones).\n",
        "\n",
        "        Returns:\n",
        "        --------\n",
        "        tuple of (torch.Tensor, torch.Tensor, torch.Tensor)\n",
        "            A tuple containing three binary mask tensors (0s and 1s):\n",
        "            1. encoder_head_mask : torch.Tensor of shape (num_layers, num_heads)\n",
        "            Binary mask for encoder self-attention heads, where 0 indicates pruned heads.\n",
        "            2. decoder_head_mask : torch.Tensor of shape (num_layers, num_heads)\n",
        "            Binary mask for decoder self-attention heads, where 0 indicates pruned heads.\n",
        "            3. cross_attn_head_mask : torch.Tensor of shape (num_layers, num_heads)\n",
        "            Binary mask for cross-attention heads, where 0 indicates pruned heads.\n",
        "\n",
        "        Notes:\n",
        "        ------\n",
        "        - Utilise compute_head_importance().\n",
        "        - The resulting masks will be used with the model to evaluate performance with pruned heads.\n",
        "        - When remove_from=\"any\", remove heads with the lowest importance scores across all components. For example, if sparsity_to_introduce=0.2, then our intention is to remove 20% of the total heads across from any part of the model, from amongst the active heads.\n",
        "        - If our model has 100 heads in total, and 10 of those are already pruned (as per existing masks), and sparsity_to_introduce=0.2, then we will remove 20% of the original number of heads (i.e., 20% of 100 heads) in the current method call. Hence, the returned masks will have a sparsity of 30% (10 existing + 20 new).\n",
        "        - When remove_from=\"encoder\", \"decoder\", or \"cross\", remove heads only from the specified component. A sparsity of 0.2 means 20% of the heads in that component will be pruned.\n",
        "\n",
        "        \"\"\"\n",
        "        # BEGIN CODE : pruner.get_mask\n",
        "        # ADD YOUR CODE HERE\n",
        "        # END CODE\n",
        "## ==== END EVALUATION PORTION"
      ]
    },
    {
      "cell_type": "markdown",
      "metadata": {
        "id": "JjmQn7LTbYwi"
      },
      "source": [
        "### EVALUATION OF THE PRUNING STRATEGY"
      ]
    },
    {
      "cell_type": "code",
      "execution_count": null,
      "metadata": {
        "id": "NzdWvyuUclb6"
      },
      "outputs": [],
      "source": [
        "\n",
        "def evaluate_at_different_sparsities(pruner, train_dataloader, test_dataloader, sparsities=[0, 0.2, 0.4, 0.6, 0.8, 1.0], remove_from=\"any\"):\n",
        "\n",
        "    encoder_mask = torch.ones((pruner.model.config.num_layers, pruner.model.config.num_heads),\n",
        "                                         device=pruner.device)\n",
        "    decoder_mask = torch.ones((pruner.model.config.num_layers, pruner.model.config.num_heads),\n",
        "                                         device=pruner.device)\n",
        "    cross_mask = torch.ones((pruner.model.config.num_layers, pruner.model.config.num_heads),\n",
        "                                         device=pruner.device)\n",
        "\n",
        "    bleu_scores = []\n",
        "    cur_sparsity = 0\n",
        "\n",
        "    for sparsity in sparsities:\n",
        "\n",
        "        sparsity_to_introduce = sparsity - cur_sparsity\n",
        "        encoder_mask, decoder_mask, cross_mask = pruner.get_mask(train_dataloader, sparsity_to_introduce, remove_from=remove_from, existing_encoder_head_mask=encoder_mask, existing_decoder_head_mask=decoder_mask, existing_cross_attn_head_mask=cross_mask)\n",
        "\n",
        "        cur_sparsity = sparsity\n",
        "        print(f\"Performing evaluation when sparsity={sparsity}\")\n",
        "        cur_bleu_scores = []\n",
        "\n",
        "        for batch in test_dataloader:\n",
        "            input_ids = batch[\"input_ids\"].to(pruner.device)\n",
        "            labels = batch[\"labels\"].to(pruner.device)\n",
        "\n",
        "            output_ids = pruner.model.generate(\n",
        "                input_ids,\n",
        "                head_mask=encoder_mask,\n",
        "                decoder_head_mask=decoder_mask,\n",
        "                cross_attn_head_mask=cross_mask,\n",
        "                max_length=50,\n",
        "                num_beams=5,\n",
        "                early_stopping=True\n",
        "            )\n",
        "\n",
        "            for i in range(len(input_ids)):\n",
        "                prompt = pruner.tokenizer.decode(input_ids[i], skip_special_tokens=True)\n",
        "                reference = pruner.tokenizer.decode(labels[i], skip_special_tokens=True)\n",
        "                candidate = pruner.tokenizer.decode(output_ids[i], skip_special_tokens=True)\n",
        "                cur_bleu_scores.append(bleu_score(candidate, reference))\n",
        "\n",
        "        average_bleu = sum(cur_bleu_scores) / len(cur_bleu_scores)\n",
        "        bleu_scores.append(average_bleu)\n",
        "    return bleu_scores"
      ]
    },
    {
      "cell_type": "code",
      "execution_count": null,
      "metadata": {
        "id": "hWB442d4blOu"
      },
      "outputs": [],
      "source": [
        "torch.manual_seed(42)\n",
        "\n",
        "pruner = Pruner(model_name=\"t5-base\")\n",
        "dataloader_wmt = pruner.get_dataloader(\"wmt16\", \"de-en\", split=\"validation[:5%]\", batch_size=8) # this dataloader will be used for calculating the masks\n",
        "dataloader_wmt_test = pruner.get_dataloader(\"wmt16\", \"de-en\", split=\"test[:5%]\", batch_size=8)"
      ]
    },
    {
      "cell_type": "markdown",
      "metadata": {
        "id": "uhyDGx6RbYwi"
      },
      "source": [
        "#### Pruning heads from any part of the model"
      ]
    },
    {
      "cell_type": "code",
      "execution_count": null,
      "metadata": {
        "id": "EAcPTKntqjnC"
      },
      "outputs": [],
      "source": [
        "torch.manual_seed(42)\n",
        "\n",
        "sparsities = [0, 0.2, 0.4, 0.6, 0.8, 1]\n",
        "\n",
        "bleu_scores = evaluate_at_different_sparsities(pruner, dataloader_wmt, dataloader_wmt_test, sparsities, remove_from=\"any\")\n",
        "\n",
        "# Print results in a formatted table\n",
        "print(\"\\nSparsity vs BLEU Score\")\n",
        "print(\"=\" * 30)\n",
        "for sparsity, score in zip(sparsities, bleu_scores):\n",
        "    print(f\"Sparsity: {sparsity:.1f}  |  BLEU Score: {score:.4f}\")\n",
        "\n",
        "# Plot BLEU Score vs Sparsity\n",
        "plt.figure(figsize=(7, 5))\n",
        "plt.plot(sparsities, bleu_scores, marker='o', linestyle='-', color='orange', label=\"Pruning heads from any part of the model\")\n",
        "plt.xlabel(\"Sparsity Level\")\n",
        "plt.ylabel(\"BLEU Score\")\n",
        "plt.title(\"BLEU Score vs Sparsity\")\n",
        "plt.ylim(0, 0.40)\n",
        "plt.legend()\n",
        "plt.grid(True, linestyle=\"--\", alpha=0.7)\n",
        "plt.xticks(sparsities)\n",
        "plt.savefig('prune_any.png')\n",
        "\n",
        "score_no_sparsity = bleu_scores[0]"
      ]
    },
    {
      "cell_type": "markdown",
      "metadata": {
        "id": "UixBHe3OkZ34"
      },
      "source": [
        "### Expected Observations\n",
        "\n",
        "The bleu score will decrease as the sparsity increases but you should observe that using carefully curated masks would result in atleast 20-30% better bleu scores than random masking for 50% sparsity. As the degree of sparsity increases, the relative performance improvement should increase significantly."
      ]
    },
    {
      "cell_type": "markdown",
      "metadata": {
        "id": "6rxNj4bEbYwj"
      },
      "source": [
        "#### Pruning heads from individual components"
      ]
    },
    {
      "cell_type": "code",
      "execution_count": null,
      "metadata": {
        "id": "A7kKnJQz3mLU"
      },
      "outputs": [],
      "source": [
        "torch.manual_seed(42)\n",
        "sparsities = [0.2, 0.4, 0.6, 0.8, 1.0]\n",
        "\n",
        "print(\"Masking heads in the encoder layers only...\\n\")\n",
        "encoder_bleu_scores = evaluate_at_different_sparsities(pruner, dataloader_wmt, dataloader_wmt_test, sparsities, remove_from=\"encoder\")\n",
        "\n",
        "print(\"\\nEncoder Sparsity vs BLEU Score\")\n",
        "print(\"=\" * 30)\n",
        "\n",
        "for sparsity, score in zip(sparsities, encoder_bleu_scores):\n",
        "    print(f\"Sparsity: {sparsity:.1f}  |  BLEU Score: {score:.4f}\")\n",
        "\n",
        "torch.manual_seed(42)\n",
        "\n",
        "print(\"\\nMasking heads in the decoder layers only...\\n\")\n",
        "decoder_bleu_scores = evaluate_at_different_sparsities(pruner, dataloader_wmt, dataloader_wmt_test, sparsities, remove_from=\"decoder\")\n",
        "\n",
        "print(\"\\nDecoder Sparsity vs BLEU Score\")\n",
        "print(\"=\" * 30)\n",
        "\n",
        "for sparsity, score in zip(sparsities, decoder_bleu_scores):\n",
        "    print(f\"Sparsity: {sparsity:.1f}  |  BLEU Score: {score:.4f}\")\n",
        "\n",
        "torch.manual_seed(42)\n",
        "\n",
        "print(\"\\nMasking cross-attention heads only...\\n\")\n",
        "cross_bleu_scores = evaluate_at_different_sparsities(pruner, dataloader_wmt, dataloader_wmt_test, sparsities, remove_from=\"cross\")\n",
        "\n",
        "print(\"\\nCross-Attention Sparsity vs BLEU Score\")\n",
        "print(\"=\" * 30)\n",
        "for sparsity, score in zip(sparsities, cross_bleu_scores):\n",
        "    print(f\"Sparsity: {sparsity:.1f}  |  BLEU Score: {score:.4f}\")\n",
        "\n",
        "# Prepend and append the scores for no sparsity and total sparsity\n",
        "encoder_bleu_scores.insert(0, score_no_sparsity)\n",
        "\n",
        "decoder_bleu_scores.insert(0, score_no_sparsity)\n",
        "\n",
        "cross_bleu_scores.insert(0, score_no_sparsity)\n",
        "\n",
        "sparsities.insert(0, 0)\n",
        "\n",
        "plt.figure(figsize=(7, 5))\n",
        "plt.plot(sparsities, encoder_bleu_scores,\n",
        "         marker='o', linestyle='-', color='blue', label=\"Pruning Encoder Heads\")\n",
        "plt.plot(sparsities, decoder_bleu_scores,\n",
        "         marker='o', linestyle='-', color='green', label=\"Pruning Decoder Heads\")\n",
        "plt.plot(sparsities, cross_bleu_scores,\n",
        "         marker='o', linestyle='-', color='orange', label=\"Pruning Cross-Attention Heads\")\n",
        "plt.xlabel(\"Sparsity Level\")\n",
        "plt.ylabel(\"BLEU Score\")\n",
        "plt.title(\"BLEU Score vs Sparsity (Encoder only, Decoder only, Cross-Attention only)\")\n",
        "plt.ylim(0, 0.40)\n",
        "plt.legend()\n",
        "plt.grid(True, linestyle=\"--\", alpha=0.7)\n",
        "plt.xticks(sparsities)\n",
        "plt.savefig('prune_encoder_decoder_cross.png')"
      ]
    },
    {
      "cell_type": "markdown",
      "metadata": {
        "id": "shPhR6bRkZ34"
      },
      "source": [
        "### Expected Observations\n",
        "\n",
        "You should see that the impact of pruning to different sparsity levels in different components (encoder, decoder, cross-attention) is not the same. Pruning a certain percentage from some component may result in a much larger performance degradation compared to pruning the same percentage from another component. Moreover, you might observe that when you prune carefully, the performance degradation from component A might be worse than that for component B. But when you prune randomly, the trend might switch. This may mean that certain components contain a higher concentration of critical heads whilst other components have their importance more evenly distributed across heads, making them more resilient to targeted pruning but potentially more vulnerable to random pruning."
      ]
    },
    {
      "cell_type": "markdown",
      "metadata": {
        "id": "KY2-mMK6kZ34"
      },
      "source": [
        "# Congratulations!\n",
        "\n",
        "You've reached the end of the assignment. Hope this was a pleasant and fun exercise!\n",
        "\n",
        "Check the submission instructions mentioned at the beginning of the notebook in order to submit your homework.\n"
      ]
    }
  ],
  "metadata": {
    "accelerator": "GPU",
    "colab": {
      "gpuType": "T4",
      "provenance": [],
      "toc_visible": true
    },
    "kernelspec": {
      "display_name": "Python 3",
      "name": "python3"
    },
    "language_info": {
      "name": "python"
    }
  },
  "nbformat": 4,
  "nbformat_minor": 0
}