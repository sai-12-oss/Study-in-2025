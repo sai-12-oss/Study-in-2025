{
  "cells": [
    {
      "cell_type": "markdown",
      "metadata": {
        "id": "TZ39Vxvm7S0a"
      },
      "source": [
        "# Assignment 3: Sequence-to-Sequence Modeling (TA: Shivashish Naithani)\n",
        "\n",
        "In this assignment, you will perform the task of translating Indian Names to English, a sequence-to-sequence modeling task, using character-level conditional language models.\n",
        "\n",
        "As before, please make a copy of this notebook (locally or on Colab). Ensure you adhere to the guidelines and submission instructions (mentioned below) for attempting and submitting the assignment."
      ]
    },
    {
      "cell_type": "markdown",
      "metadata": {
        "id": "uysmp8X-7S0i"
      },
      "source": [
        "### Guidelines for Attempting the Assignment"
      ]
    },
    {
      "cell_type": "markdown",
      "metadata": {
        "id": "E_vklna37S0j"
      },
      "source": [
        "1. Write your logic in the cells which have the comment `# ADD YOUR CODE HERE`, between the `# BEGIN CODE` and `# END CODE` comments. These cells are also demarcated by the special start (`## ==== BEGIN EVALUATION PORTION`) and end (`## ==== END EVALUATION PORTION`) comments. Do **NOT** remove any of these comments from the designated cells, otherwise your assigment may not be evaluated correctly.\n",
        "\n",
        "2. All imports that should be necessary are already provided as part of the notebook. Should you require additional imports, add them in the cells to be graded, but outside the `# BEGIN CODE` and `# END CODE` block. For example, if you need to import a package called `mypackage`, add it as follows in a graded cell:\n",
        "\n",
        "``` python\n",
        "## ==== BEGIN EVALUATION PORTION\n",
        "\n",
        "import mypackage # <===\n",
        "\n",
        "def function_to_be_implemented(*args, **kwargs):\n",
        "\n",
        "    ...\n",
        "\n",
        "    # ADD YOUR CODE HERE\n",
        "    # BEGIN CODE\n",
        "\n",
        "    # END CODE\n",
        "\n",
        "    ...\n",
        "\n",
        "## ==== END EVALUATION PORTION\n",
        "\n",
        "```\n",
        "4. Do not modify anything in the cells which start with `# Please do not change anything in the following cell`.\n",
        "\n",
        "5. Only write your code in the cells designated for auto-evaluation. If you encounter any errors in the supporting cells during execution, contact the respective TAs.\n",
        "\n",
        "6. **Important**: Use of AI-assistive technologies such as ChatGPT or GitHub CoPilot is not permitted for this assignment. Ensure that all attempts are solely your own. Not following this rule can incur heavy penalty, including getting NO GRADE for this assignment, which will affect your grade significantly."
      ]
    },
    {
      "cell_type": "markdown",
      "metadata": {
        "id": "sK3moP9d7S0l"
      },
      "source": [
        "### Submission Instructions"
      ]
    },
    {
      "cell_type": "markdown",
      "metadata": {
        "id": "g1Y-T9hT7S0m"
      },
      "source": [
        "1. Ensure your code follows all guidelines mentioned above before submission.\n",
        "\n",
        "2. Try to avoid any unnecessary print statements across the code. We will evaluate specific output lines which begin with the phrase `EVALUATION`. Ensure you do not modify these print statements howsoever, as they are used for auto-evaluation.\n",
        "\n",
        "3. When you have completely attempted the assignment, export the current notebook as a `.py` file, with the following name: `SAPName_SRNo_assignment3.py`, where `SAPName` would be your name as per SAP record, and `SRNo` will be the last 5 digits of your IISc SR number. For example, IISc student with SAP name Twyla Linda (SR no - 04-03-00-10-22-20-1-15329) would use `Twyla_Linda_15329_assignment3.py`.\n",
        "\n",
        "4. Once you have executed the code, certain additional files will be created. Once you are done executing all associated cells, ensure the folder structure looks as follows:\n",
        "\n",
        "``` python\n",
        "└─── SAPName_SRNo\n",
        "     ├─── SAPName_SRNo_assignment3.py\n",
        "     ├─── src-tokenizer\n",
        "     │    └─── tokenizer.pkl\n",
        "     ├─── tgt-tokenizer\n",
        "     │    └─── tokenizer.pkl\n",
        "     ├─── rnn.enc-dec\n",
        "     │    ├─── model.pt\n",
        "     │    ├─── loss.json\n",
        "     │    ├─── outputs.csv\n",
        "     │    └─── metadata.json\n",
        "     └─── rnn.enc-dec.attn\n",
        "          ├─── model.pt\n",
        "          ├─── loss.json\n",
        "          ├─── outputs.csv\n",
        "          └─── metadata.json\n",
        "```\n",
        "\n",
        "5. Once you have validated the folder structure as above, add the exported `.py` file to the folder and submit the folder as a ZIP archive."
      ]
    },
    {
      "cell_type": "markdown",
      "metadata": {
        "id": "JWNGKx3C7S0n"
      },
      "source": [
        "In the cell below, replace `SAPName` with your name as per SAP record, and `SRNo` with the last 5 digits of your IISc SR number. For example, IISc student with SAP name Twyla Linda (SR no - 04-03-00-10-22-20-1-15329) would use:\n",
        "\n",
        "```python\n",
        "STUDENT_SAP_NAME  = \"Twyla Linda\"\n",
        "STUDENT_SR_NUMBER = \"15329\"\n",
        "```"
      ]
    },
    {
      "cell_type": "code",
      "execution_count": null,
      "metadata": {
        "id": "juYQICX47S0p"
      },
      "outputs": [],
      "source": [
        "STUDENT_SAP_NAME  = \"Kanthala Sai Sandesh Reddy\"\n",
        "STUDENT_SR_NUMBER = \"23637\""
      ]
    },
    {
      "cell_type": "markdown",
      "metadata": {
        "id": "9JmPFqkT7S0r"
      },
      "source": [
        "**Important Notes**:\n",
        "\n",
        "- Some of the tasks in this assignment are compute intensive, and are better performed on an accelerator device (GPU, etc.). Unless you have one locally, prefer using a GPU instance on Colab for execution.\n",
        "- Due to resource restrictions on Colab, training some models may not finish in time. In such a case, ensure you store checkpoints to a persistent directory so that you may resume training once your resource limits are restored."
      ]
    },
    {
      "cell_type": "markdown",
      "metadata": {
        "id": "TbZjfBWF7S0t"
      },
      "source": [
        "## Outline"
      ]
    },
    {
      "cell_type": "markdown",
      "metadata": {
        "id": "lQVZHQIJ7S0t"
      },
      "source": [
        "Through the last assignment, you have seen that neural language models are able to successfully capture patterns across Indian names. In this assignment, you will extend upon that idea to learn conditional language models for the task of transliteration: converting Indian names in the English alphabet to Hindi."
      ]
    },
    {
      "cell_type": "markdown",
      "metadata": {
        "id": "ElSrTdBy7S0u"
      },
      "source": [
        "### Marks Distribution\n",
        "\n",
        "- Agnostic Task-Specific Training: 5 marks\n",
        "- Seq-2-Seq via RNN: 40 marks\n",
        "- Seq-2-Seq via RNN with Attention: 35 marks\n",
        "- Evaluation\n",
        "- Decoding Strategy: 20 marks"
      ]
    },
    {
      "cell_type": "markdown",
      "metadata": {
        "id": "oeose21P7S0v"
      },
      "source": [
        "## Setup"
      ]
    },
    {
      "cell_type": "markdown",
      "metadata": {
        "id": "w1ApHWVd7S0v"
      },
      "source": [
        "The following cells perform the basic setup such as importing the necessary packages. You will not require any additional libraries, so importing any additional libraries is not allowed."
      ]
    },
    {
      "cell_type": "code",
      "execution_count": 372,
      "metadata": {
        "id": "m1rW15no7S0w"
      },
      "outputs": [
        {
          "name": "stdout",
          "output_type": "stream",
          "text": [
            "Requirement already satisfied: tqdm in /home/manojkumark/Desktop/.venv/lib/python3.10/site-packages (4.67.1)\n",
            "Requirement already satisfied: nltk in /home/manojkumark/Desktop/.venv/lib/python3.10/site-packages (3.9.1)\n",
            "Requirement already satisfied: matplotlib in /home/manojkumark/Desktop/.venv/lib/python3.10/site-packages (3.10.1)\n",
            "Requirement already satisfied: numpy in /home/manojkumark/Desktop/.venv/lib/python3.10/site-packages (2.2.4)\n",
            "Requirement already satisfied: pandas in /home/manojkumark/Desktop/.venv/lib/python3.10/site-packages (2.2.3)\n",
            "Requirement already satisfied: click in /home/manojkumark/Desktop/.venv/lib/python3.10/site-packages (from nltk) (8.1.8)\n",
            "Requirement already satisfied: joblib in /home/manojkumark/Desktop/.venv/lib/python3.10/site-packages (from nltk) (1.4.2)\n",
            "Requirement already satisfied: regex>=2021.8.3 in /home/manojkumark/Desktop/.venv/lib/python3.10/site-packages (from nltk) (2024.11.6)\n",
            "Requirement already satisfied: contourpy>=1.0.1 in /home/manojkumark/Desktop/.venv/lib/python3.10/site-packages (from matplotlib) (1.3.1)\n",
            "Requirement already satisfied: cycler>=0.10 in /home/manojkumark/Desktop/.venv/lib/python3.10/site-packages (from matplotlib) (0.12.1)\n",
            "Requirement already satisfied: fonttools>=4.22.0 in /home/manojkumark/Desktop/.venv/lib/python3.10/site-packages (from matplotlib) (4.56.0)\n",
            "Requirement already satisfied: kiwisolver>=1.3.1 in /home/manojkumark/Desktop/.venv/lib/python3.10/site-packages (from matplotlib) (1.4.8)\n",
            "Requirement already satisfied: packaging>=20.0 in /home/manojkumark/Desktop/.venv/lib/python3.10/site-packages (from matplotlib) (24.2)\n",
            "Requirement already satisfied: pillow>=8 in /home/manojkumark/Desktop/.venv/lib/python3.10/site-packages (from matplotlib) (11.1.0)\n",
            "Requirement already satisfied: pyparsing>=2.3.1 in /home/manojkumark/Desktop/.venv/lib/python3.10/site-packages (from matplotlib) (3.2.3)\n",
            "Requirement already satisfied: python-dateutil>=2.7 in /home/manojkumark/Desktop/.venv/lib/python3.10/site-packages (from matplotlib) (2.9.0.post0)\n",
            "Requirement already satisfied: pytz>=2020.1 in /home/manojkumark/Desktop/.venv/lib/python3.10/site-packages (from pandas) (2025.2)\n",
            "Requirement already satisfied: tzdata>=2022.7 in /home/manojkumark/Desktop/.venv/lib/python3.10/site-packages (from pandas) (2025.2)\n",
            "Requirement already satisfied: six>=1.5 in /home/manojkumark/Desktop/.venv/lib/python3.10/site-packages (from python-dateutil>=2.7->matplotlib) (1.17.0)\n",
            "Note: you may need to restart the kernel to use updated packages.\n"
          ]
        }
      ],
      "source": [
        "# Installs packages, if using locally. Feel free to add other missing packages as required.\n",
        "\n",
        "%pip install tqdm nltk matplotlib numpy pandas"
      ]
    },
    {
      "cell_type": "code",
      "execution_count": 373,
      "metadata": {
        "id": "NijuBljo7S0w"
      },
      "outputs": [],
      "source": [
        "# Built-in imports, no installations required.\n",
        "\n",
        "import os\n",
        "import gc\n",
        "import json\n",
        "import math\n",
        "import pickle\n",
        "import subprocess\n",
        "import collections\n",
        "import unicodedata"
      ]
    },
    {
      "cell_type": "code",
      "execution_count": 374,
      "metadata": {
        "id": "Z2liLT4Y7S0x"
      },
      "outputs": [],
      "source": [
        "# 3rd-party package imports, may require installation if not on a platform such as Colab.\n",
        "\n",
        "import numpy\n",
        "import torch\n",
        "import pandas as pd\n",
        "import tqdm.auto as tqdm\n",
        "\n",
        "import matplotlib\n",
        "from matplotlib import pyplot\n",
        "from nltk.translate import bleu_score\n",
        "from torch.utils.data import TensorDataset, DataLoader"
      ]
    },
    {
      "cell_type": "code",
      "execution_count": 375,
      "metadata": {
        "id": "m3XUKaQ37S0x"
      },
      "outputs": [],
      "source": [
        "# Please do not change anything in the following cell\n",
        "\n",
        "# Find and load fonts that can display Hindi characters, for Matplotlib\n",
        "result = subprocess.run([ 'fc-list', ':lang=hi', 'family' ], capture_output=True)\n",
        "found_hindi_fonts = result.stdout.decode('utf-8').strip().split('\\n')\n",
        "\n",
        "matplotlib.rcParams['font.sans-serif'] = [\n",
        "    'Source Han Sans TW', 'sans-serif', 'Arial Unicode MS',\n",
        "    *found_hindi_fonts\n",
        "]"
      ]
    },
    {
      "cell_type": "code",
      "execution_count": 376,
      "metadata": {
        "id": "x2X96lFz7S0y"
      },
      "outputs": [],
      "source": [
        "# Please do not change anything in the following cell\n",
        "\n",
        "DIRECTORY_NAME = f\"{STUDENT_SAP_NAME.replace(' ', '_')}_{STUDENT_SR_NUMBER}\"\n",
        "\n",
        "os.makedirs(DIRECTORY_NAME, exist_ok=True)"
      ]
    },
    {
      "cell_type": "code",
      "execution_count": 377,
      "metadata": {
        "id": "bw94_afp7S0y"
      },
      "outputs": [],
      "source": [
        "def sync_vram():\n",
        "    \"\"\" Synchronizes the VRAM across the GPUs, reclaiming unused memory. \"\"\"\n",
        "    gc.collect()\n",
        "    torch.cuda.empty_cache()\n",
        "    torch.cuda.synchronize()"
      ]
    },
    {
      "cell_type": "markdown",
      "metadata": {
        "id": "CEg1ZOP17S0y"
      },
      "source": [
        "## Data Preparation"
      ]
    },
    {
      "cell_type": "markdown",
      "metadata": {
        "id": "m_lcFfUf7S0y"
      },
      "source": [
        "We'll load the data for the task, which comprises of a parallel corpus of Indian Names and their Hindi equivalents."
      ]
    },
    {
      "cell_type": "code",
      "execution_count": 378,
      "metadata": {
        "id": "gFbB8qWx7S0z"
      },
      "outputs": [
        {
          "name": "stdout",
          "output_type": "stream",
          "text": [
            "--2025-03-31 00:15:41--  https://docs.google.com/spreadsheets/d/e/2PACX-1vQOYe_Oy8eMzVFYq6hBSyPLslqA1PeMeK8S5nPs2-viuCNzx0i3Fl_ptFmD0YD3kTA_olYdOIx7iPOh/pub?gid=1482240395&single=true&output=csv\n",
            "Resolving docs.google.com (docs.google.com)... 2404:6800:4007:82e::200e, 142.250.207.78\n",
            "Connecting to docs.google.com (docs.google.com)|2404:6800:4007:82e::200e|:443... connected.\n",
            "HTTP request sent, awaiting response... 307 Temporary Redirect\n",
            "Location: https://doc-08-6c-sheets.googleusercontent.com/pub/54bogvaave6cua4cdnls17ksc4/56gbrf78087c3k2ube2400hb7c/1743360340000/118252164104506406045/*/e@2PACX-1vQOYe_Oy8eMzVFYq6hBSyPLslqA1PeMeK8S5nPs2-viuCNzx0i3Fl_ptFmD0YD3kTA_olYdOIx7iPOh?gid=1482240395&single=true&output=csv [following]\n",
            "Warning: wildcards not supported in HTTP.\n",
            "--2025-03-31 00:15:42--  https://doc-08-6c-sheets.googleusercontent.com/pub/54bogvaave6cua4cdnls17ksc4/56gbrf78087c3k2ube2400hb7c/1743360340000/118252164104506406045/*/e@2PACX-1vQOYe_Oy8eMzVFYq6hBSyPLslqA1PeMeK8S5nPs2-viuCNzx0i3Fl_ptFmD0YD3kTA_olYdOIx7iPOh?gid=1482240395&single=true&output=csv\n",
            "Resolving doc-08-6c-sheets.googleusercontent.com (doc-08-6c-sheets.googleusercontent.com)... 2404:6800:4007:82d::2001, 142.250.205.129\n",
            "Connecting to doc-08-6c-sheets.googleusercontent.com (doc-08-6c-sheets.googleusercontent.com)|2404:6800:4007:82d::2001|:443... connected.\n",
            "HTTP request sent, awaiting response... 200 OK\n",
            "Length: unspecified [text/csv]\n",
            "Saving to: ‘data.train.csv’\n",
            "\n",
            "data.train.csv          [ <=>                ] 113.10K   691KB/s    in 0.2s    \n",
            "\n",
            "2025-03-31 00:15:43 (691 KB/s) - ‘data.train.csv’ saved [115815]\n",
            "\n",
            "--2025-03-31 00:15:43--  https://docs.google.com/spreadsheets/d/e/2PACX-1vTKa_jeysYhx869fmTb7VUchlSiChUq0vqotWRGMmnTXWZ8H2PkF8s6hRr2vdo6v54JJx8CEuVo8MZ3/pub?gid=1579594041&single=true&output=csv\n",
            "Resolving docs.google.com (docs.google.com)... 2404:6800:4007:82e::200e, 142.250.207.78\n",
            "Connecting to docs.google.com (docs.google.com)|2404:6800:4007:82e::200e|:443... connected.\n",
            "HTTP request sent, awaiting response... 307 Temporary Redirect\n",
            "Location: https://doc-08-6c-sheets.googleusercontent.com/pub/54bogvaave6cua4cdnls17ksc4/753sju76vqlseosvk5qkffbrng/1743360340000/118252164104506406045/*/e@2PACX-1vTKa_jeysYhx869fmTb7VUchlSiChUq0vqotWRGMmnTXWZ8H2PkF8s6hRr2vdo6v54JJx8CEuVo8MZ3?gid=1579594041&single=true&output=csv [following]\n",
            "Warning: wildcards not supported in HTTP.\n",
            "--2025-03-31 00:15:43--  https://doc-08-6c-sheets.googleusercontent.com/pub/54bogvaave6cua4cdnls17ksc4/753sju76vqlseosvk5qkffbrng/1743360340000/118252164104506406045/*/e@2PACX-1vTKa_jeysYhx869fmTb7VUchlSiChUq0vqotWRGMmnTXWZ8H2PkF8s6hRr2vdo6v54JJx8CEuVo8MZ3?gid=1579594041&single=true&output=csv\n",
            "Resolving doc-08-6c-sheets.googleusercontent.com (doc-08-6c-sheets.googleusercontent.com)... 2404:6800:4007:82d::2001, 142.250.205.129\n",
            "Connecting to doc-08-6c-sheets.googleusercontent.com (doc-08-6c-sheets.googleusercontent.com)|2404:6800:4007:82d::2001|:443... connected.\n",
            "HTTP request sent, awaiting response... 200 OK\n",
            "Length: unspecified [text/csv]\n",
            "Saving to: ‘data.valid.csv’\n",
            "\n",
            "data.valid.csv          [ <=>                ]  10.10K  --.-KB/s    in 0.005s  \n",
            "\n",
            "2025-03-31 00:15:44 (1.91 MB/s) - ‘data.valid.csv’ saved [10342]\n",
            "\n"
          ]
        }
      ],
      "source": [
        "# Make sure your code is not dependent on any of the file names as below.\n",
        "\n",
        "# Download the training and validation datasets\n",
        "!wget -O data.train.csv \"https://docs.google.com/spreadsheets/d/e/2PACX-1vQOYe_Oy8eMzVFYq6hBSyPLslqA1PeMeK8S5nPs2-viuCNzx0i3Fl_ptFmD0YD3kTA_olYdOIx7iPOh/pub?gid=1482240395&single=true&output=csv\"\n",
        "!wget -O data.valid.csv \"https://docs.google.com/spreadsheets/d/e/2PACX-1vTKa_jeysYhx869fmTb7VUchlSiChUq0vqotWRGMmnTXWZ8H2PkF8s6hRr2vdo6v54JJx8CEuVo8MZ3/pub?gid=1579594041&single=true&output=csv\""
      ]
    },
    {
      "cell_type": "code",
      "execution_count": 379,
      "metadata": {
        "id": "1L8ZDlFm7S0z"
      },
      "outputs": [
        {
          "name": "stdout",
          "output_type": "stream",
          "text": [
            "Length of training data: 4484\n",
            "Length of validation data: 400\n"
          ]
        }
      ],
      "source": [
        "# Please do not change anything in the following cell\n",
        "\n",
        "def read_dataframe(ds_type):\n",
        "    \"\"\" Loads a dataframe based on the given partition type.\n",
        "\n",
        "    Args:\n",
        "        ds_type (str): Dataset type: train (train) or validation (valid)\n",
        "\n",
        "    Returns:\n",
        "        pd.DataFrame: Pandas Dataframe for the specified partition.\n",
        "    \"\"\"\n",
        "\n",
        "    df = pd.read_csv(f\"data.{ds_type}.csv\", header=0)\n",
        "    df = df[~df.isna()]\n",
        "    df['Name'] = df['Name'].astype(str)\n",
        "    df['Translation'] = df['Translation'].astype(str)\n",
        "    return df\n",
        "\n",
        "# Load the training and validation datasets\n",
        "train_data      = read_dataframe(\"train\")\n",
        "validation_data = read_dataframe(\"valid\")\n",
        "\n",
        "print(f\"Length of training data: {len(train_data)}\\nLength of validation data: {len(validation_data)}\")"
      ]
    },
    {
      "cell_type": "markdown",
      "metadata": {
        "id": "LE8sRvHo7S00"
      },
      "source": [
        "Here are some examples from the training dataset. Note that the dataset may be noisy so some examples may not be perfect:"
      ]
    },
    {
      "cell_type": "code",
      "execution_count": 380,
      "metadata": {
        "id": "kZH2EVyE7S00"
      },
      "outputs": [
        {
          "data": {
            "text/html": [
              "<div>\n",
              "<style scoped>\n",
              "    .dataframe tbody tr th:only-of-type {\n",
              "        vertical-align: middle;\n",
              "    }\n",
              "\n",
              "    .dataframe tbody tr th {\n",
              "        vertical-align: top;\n",
              "    }\n",
              "\n",
              "    .dataframe thead th {\n",
              "        text-align: right;\n",
              "    }\n",
              "</style>\n",
              "<table border=\"1\" class=\"dataframe\">\n",
              "  <thead>\n",
              "    <tr style=\"text-align: right;\">\n",
              "      <th></th>\n",
              "      <th>Name</th>\n",
              "      <th>Translation</th>\n",
              "    </tr>\n",
              "  </thead>\n",
              "  <tbody>\n",
              "    <tr>\n",
              "      <th>220</th>\n",
              "      <td>आनिक</td>\n",
              "      <td>aanik</td>\n",
              "    </tr>\n",
              "    <tr>\n",
              "      <th>1821</th>\n",
              "      <td>वाधव</td>\n",
              "      <td>wadhwa</td>\n",
              "    </tr>\n",
              "    <tr>\n",
              "      <th>2890</th>\n",
              "      <td>श्यामसुंदर</td>\n",
              "      <td>syamsunder</td>\n",
              "    </tr>\n",
              "    <tr>\n",
              "      <th>864</th>\n",
              "      <td>रिहान</td>\n",
              "      <td>rihaan</td>\n",
              "    </tr>\n",
              "    <tr>\n",
              "      <th>2749</th>\n",
              "      <td>ओमप्रकाश</td>\n",
              "      <td>omprkash</td>\n",
              "    </tr>\n",
              "  </tbody>\n",
              "</table>\n",
              "</div>"
            ],
            "text/plain": [
              "            Name Translation\n",
              "220         आनिक       aanik\n",
              "1821        वाधव      wadhwa\n",
              "2890  श्यामसुंदर  syamsunder\n",
              "864        रिहान      rihaan\n",
              "2749    ओमप्रकाश    omprkash"
            ]
          },
          "execution_count": 380,
          "metadata": {},
          "output_type": "execute_result"
        }
      ],
      "source": [
        "train_data.sample(n=5)"
      ]
    },
    {
      "cell_type": "markdown",
      "metadata": {
        "id": "D0B5XhUx7S01"
      },
      "source": [
        "## Tokenization"
      ]
    },
    {
      "cell_type": "markdown",
      "metadata": {
        "id": "wizKxo-j7S01"
      },
      "source": [
        "An implementation of tokenization is already in place. Do not modify it, as it can affect your evaluation."
      ]
    },
    {
      "cell_type": "code",
      "execution_count": 381,
      "metadata": {
        "id": "8Y3ri4PD7S02"
      },
      "outputs": [],
      "source": [
        "# Please do not change anything in the following cell\n",
        "\n",
        "class Tokenizer:\n",
        "    \"\"\" Represents the tokenizer for text data.\n",
        "        Provides methods to encode and decode strings (as instance or as a batch). \"\"\"\n",
        "\n",
        "    def __init__(self):\n",
        "        \"\"\" Initializes a new tokenizer.\n",
        "\n",
        "            Any variables required in intermediate operations are declared here.\n",
        "            You will also need to define things like special tokens and other things here.\n",
        "\n",
        "            All variables declared in this function will be serialized\n",
        "                and deserialized when loading and saving the Tokenizer.\n",
        "            \"\"\"\n",
        "\n",
        "        self.special_tokens = { '[BOS]': 1, '[EOS]': 2, '[PAD]': 0 }\n",
        "        self.vocab = { bytes([ i ]): i+len(self.special_tokens) for i in range(256)  }\n",
        "        self.merge_rules = {  }\n",
        "        self.inv_vocab = { _id: token for token, _id in self.vocab.items() }\n",
        "        self.inv_vocab.update({ _id: token.encode() for token, _id in self.special_tokens.items() })\n",
        "\n",
        "    @classmethod\n",
        "    def load(cls, path):\n",
        "        \"\"\" Loads a pre-trained tokenizer from the given directory.\n",
        "           This directory will have a tokenizer.pkl file that contains all the tokenizer variables.\n",
        "\n",
        "        Args:\n",
        "            path (str): Path to load the tokenizer from.\n",
        "        \"\"\"\n",
        "        tokenizer_file = os.path.join(path, \"tokenizer.pkl\")\n",
        "\n",
        "        if not os.path.exists(path) or not os.path.exists(os.path.join(path, \"tokenizer.pkl\")):\n",
        "            raise ValueError(cls.load.__name__ + \": No tokenizer found at the specified directory\")\n",
        "\n",
        "        with open(tokenizer_file, \"rb\") as ifile:\n",
        "            return pickle.load(ifile)\n",
        "\n",
        "    def save(self, path):\n",
        "        \"\"\" Saves a trained tokenizer to a given directory, inside a tokenizer.pkl file.\n",
        "\n",
        "        Args:\n",
        "            path (str): Directory to save the tokenizer in.\n",
        "        \"\"\"\n",
        "\n",
        "        os.makedirs(path, exist_ok=True)\n",
        "        with open(os.path.join(path, \"tokenizer.pkl\"), 'wb') as ofile:\n",
        "            pickle.dump(self, ofile)\n",
        "\n",
        "    def train(self, data, vocab_size):\n",
        "        \"\"\" Trains a tokenizer to learn meaningful representations from input data.\n",
        "            In the end, learns a vocabulary of a fixed size over the given data.\n",
        "            Special tokens, if any, must not be counted towards this vocabulary.\n",
        "\n",
        "        Args:\n",
        "            data (list[str]): List of input strings from a text corpus.\n",
        "            vocab_size (int): Final desired size of the vocab to be learnt.\n",
        "        \"\"\"\n",
        "\n",
        "        self.vocab = { bytes([ i ]): i+len(self.special_tokens) for i in range(256)  }\n",
        "        self.vocab.update({ token.encode('utf-8'): _id for token, _id in self.special_tokens.items() })\n",
        "\n",
        "        self.merge_rules = {  }\n",
        "        self.inv_vocab   = { _id: token for token, _id in self.vocab.items() }\n",
        "\n",
        "        data = [ [ i+len(self.special_tokens) for i in instance.encode('utf-8') ] for instance in data ]\n",
        "\n",
        "        while len(self.vocab) < len(self.special_tokens) + vocab_size:\n",
        "            # Compute stats\n",
        "            counts = collections.defaultdict(int)\n",
        "            for tok_str in data:\n",
        "                for tok, next_tok in zip(tok_str, tok_str[1:]):\n",
        "                    counts[(tok, next_tok)] += 1\n",
        "\n",
        "            # Learn a new merge rule\n",
        "            best_pair = max(counts, key=counts.get)\n",
        "            new_token, new_id = self.inv_vocab[best_pair[0]] + self.inv_vocab[best_pair[1]], len(self.vocab)\n",
        "            self.merge_rules[best_pair] = new_id\n",
        "            self.inv_vocab[new_id] = new_token\n",
        "            self.vocab[new_token]  = new_id\n",
        "\n",
        "            # Update tokens\n",
        "            new_data = []\n",
        "            for tok_str in data:\n",
        "                i, new_tok_str = 0, []\n",
        "                while i < len(tok_str):\n",
        "                    if i < len(tok_str) - 1 and (tok_str[i], tok_str[i+1]) == best_pair:\n",
        "                        new_tok_str.append(new_id)\n",
        "                        i += 2\n",
        "                    else:\n",
        "                        new_tok_str.append(tok_str[i])\n",
        "                        i += 1\n",
        "                new_data.append(new_tok_str)\n",
        "            data = new_data\n",
        "\n",
        "    def pad(self, tokens, length):\n",
        "        \"\"\" Pads a tokenized string to a specified length, for batch processing.\n",
        "\n",
        "        Args:\n",
        "            tokens (list[int]): Encoded token string to be padded.\n",
        "            length (int): Length of tokens to pad to.\n",
        "\n",
        "        Returns:\n",
        "            list[int]: Token string padded to desired length.\n",
        "        \"\"\"\n",
        "\n",
        "\n",
        "        if len(tokens) < length:\n",
        "            tokens = [ *tokens ]\n",
        "            tokens += ([ self.special_tokens['[PAD]'] ] * (length - len(tokens)))\n",
        "\n",
        "        return tokens\n",
        "\n",
        "\n",
        "    def unpad(self, tokens):\n",
        "        \"\"\" Removes padding from a token string.\n",
        "\n",
        "        Args:\n",
        "            tokens (list[int]): Encoded token string with padding.\n",
        "\n",
        "        Returns:\n",
        "            list[int]: Token string with padding removed.\n",
        "        \"\"\"\n",
        "\n",
        "        no_pad_len = len(tokens)\n",
        "        while tokens[no_pad_len-1] == self.special_tokens['[PAD]']: no_pad_len -= 1\n",
        "\n",
        "        return tokens[:no_pad_len]\n",
        "\n",
        "    def get_special_tokens(self):\n",
        "        \"\"\" Returns the associated special tokens.\n",
        "\n",
        "            Returns:\n",
        "                dict[str, int]: Mapping describing the special tokens, if any.\n",
        "                    This is a mapping between a string segment (token) and its associated id (token_id).\n",
        "        \"\"\"\n",
        "\n",
        "        return self.special_tokens\n",
        "\n",
        "    def get_vocabulary(self):\n",
        "        \"\"\" Returns the learnt vocabulary post the training process.\n",
        "\n",
        "            Returns:\n",
        "                dict[str, int]: Mapping describing the vocabulary and special tokens, if any.\n",
        "                    This is a mapping between a string segment (token) and its associated id (token_id).\n",
        "        \"\"\"\n",
        "\n",
        "        return self.vocab\n",
        "\n",
        "    def encode(self, string, add_start=True, add_end=True):\n",
        "        \"\"\" Encodes a string into a list of tokens.\n",
        "\n",
        "        Args:\n",
        "            string (str): Input string to be tokenized.\n",
        "            add_start (bool): If true, adds the start of sequence token.\n",
        "            add_end (bool): If true, adds the end of sequence token.\n",
        "        Returns:\n",
        "            list[int]: List of tokens (unpadded).\n",
        "        \"\"\"\n",
        "\n",
        "        string = unicodedata.normalize('NFKC', string)\n",
        "\n",
        "        tokens = [ i+len(self.special_tokens) for i in string.encode('utf-8') ]\n",
        "\n",
        "        while len(tokens) > 1:\n",
        "            pairs = set()\n",
        "            for tok, next_tok in zip(tokens, tokens[1:]):\n",
        "                pairs.add((tok, next_tok))\n",
        "\n",
        "            merge_pair = min(pairs, key=lambda x: self.merge_rules.get(x, float(\"inf\")))\n",
        "            if merge_pair not in self.merge_rules: break\n",
        "\n",
        "            i, new_tokens = 0, []\n",
        "            while i < len(tokens):\n",
        "                if i < len(tokens) - 1 and (tokens[i], tokens[i+1]) == merge_pair:\n",
        "                    new_tokens.append(self.merge_rules[merge_pair])\n",
        "                    i += 2\n",
        "                else:\n",
        "                    new_tokens.append(tokens[i])\n",
        "                    i += 1\n",
        "            tokens = new_tokens\n",
        "\n",
        "        if add_start: tokens = [ self.special_tokens['[BOS]'] ] + tokens\n",
        "        if add_end  : tokens = tokens + [ self.special_tokens['[EOS]'] ]\n",
        "\n",
        "        return tokens\n",
        "\n",
        "\n",
        "    def decode(self, tokens, strip_special=True):\n",
        "        \"\"\" Decodes a string from a list of tokens.\n",
        "            Undoes the tokenization, returning back the input string.\n",
        "\n",
        "        Args:\n",
        "            tokens (list[int]): List of encoded tokens to be decoded. No padding is assumed.\n",
        "            strip_special (bool): Whether to remove special tokens or not.\n",
        "\n",
        "        Returns:\n",
        "            str: Decoded string.\n",
        "        \"\"\"\n",
        "\n",
        "        if strip_special:\n",
        "            special_tokens = set(self.special_tokens.values())\n",
        "            tokens = [ token for token in tokens if token not in special_tokens ]\n",
        "\n",
        "        return (b''.join(self.inv_vocab[tok_id] for tok_id in tokens)).decode('utf-8', errors='replace')\n",
        "\n",
        "    def batch_encode(self, batch, padding=None, add_start=True, add_end=True):\n",
        "        \"\"\"Encodes multiple strings in a batch to list of tokens padded to a given size.\n",
        "\n",
        "        Args:\n",
        "            batch (list[str]): List of strings to be tokenized.\n",
        "            padding (int, optional): Optional, desired tokenized length. Outputs will be padded to fit this length.\n",
        "            add_start (bool): If true, adds the start of sequence token.\n",
        "            add_end (bool): If true, adds the end of sequence token.\n",
        "\n",
        "        Returns:\n",
        "            list[list[int]]: List of tokenized outputs, padded to the same length.\n",
        "        \"\"\"\n",
        "\n",
        "        batch_output = [ self.encode(string, add_start, add_end) for string in batch ]\n",
        "        if padding:\n",
        "            for i, tokens in enumerate(batch_output):\n",
        "                if len(tokens) < padding:\n",
        "                    batch_output[i] = self.pad(tokens, padding)\n",
        "        return batch_output\n",
        "\n",
        "    def batch_decode(self, batch, strip_special=True):\n",
        "        \"\"\" Decodes a batch of encoded tokens to normal strings.\n",
        "\n",
        "        Args:\n",
        "            batch (list[list[int]]): List of encoded token strings, optionally padded.\n",
        "            strip_special (bool): Whether to remove special tokens or not.\n",
        "\n",
        "        Returns:\n",
        "            list[str]: Decoded strings after padding is removed.\n",
        "        \"\"\"\n",
        "        return [ self.decode(self.unpad(tokens), strip_special=strip_special) for tokens in batch ]"
      ]
    },
    {
      "cell_type": "markdown",
      "metadata": {
        "id": "2__Tts8p7S04"
      },
      "source": [
        "Now with the tokenizer class, initialize and train the tokenizers for processing the parallel corpus:"
      ]
    },
    {
      "cell_type": "code",
      "execution_count": 382,
      "metadata": {
        "id": "4A_U8cl_7S04"
      },
      "outputs": [],
      "source": [
        "# Please do not change anything in the following cell\n",
        "\n",
        "# Initialize the tokenizers as per the desired strategy.\n",
        "src_tokenizer = Tokenizer()\n",
        "tgt_tokenizer = Tokenizer()\n"
      ]
    },
    {
      "cell_type": "code",
      "execution_count": 383,
      "metadata": {
        "id": "OBYyr0Es7S04"
      },
      "outputs": [],
      "source": [
        "# Please do not change anything in the following cell\n",
        "\n",
        "# Edit the hyperparameters below as desired.\n",
        "SRC_VOCAB_SIZE = 300\n",
        "TGT_VOCAB_SIZE = 400\n",
        "\n",
        "\n",
        "# Train your tokenizer(s)\n",
        "src_tokenizer.train(train_data['Name']       , vocab_size=SRC_VOCAB_SIZE)\n",
        "tgt_tokenizer.train(train_data['Translation'], vocab_size=TGT_VOCAB_SIZE)"
      ]
    },
    {
      "cell_type": "code",
      "execution_count": 384,
      "metadata": {
        "id": "a2vmqRKH7S05"
      },
      "outputs": [],
      "source": [
        "# Please do not change anything in the following cell\n",
        "\n",
        "# Save the trained tokenizers\n",
        "src_tokenizer.save(os.path.join(DIRECTORY_NAME, \"src-tokenizer\"))\n",
        "tgt_tokenizer.save(os.path.join(DIRECTORY_NAME, \"tgt-tokenizer\"))"
      ]
    },
    {
      "cell_type": "code",
      "execution_count": 385,
      "metadata": {
        "id": "s1O2qJYg7S06"
      },
      "outputs": [],
      "source": [
        "# Please do not change anything in the following cell\n",
        "\n",
        "def render_glyph(token):\n",
        "    \"\"\" Renders a token, handling invalid bytes in a safe, error-proof manner. \"\"\"\n",
        "\n",
        "    token = token.decode('utf-8', errors='replace') if isinstance(token, bytes) else token\n",
        "    return \"\".join([ c if unicodedata.category(c)[0] != \"C\" else f\"\\\\u{ord(c):04x}\" for c in token ])\n",
        "\n",
        "def inverse_vocabulary(tokenizer):\n",
        "    \"\"\" Generates an inverse vocabulary with rendered tokens.\n",
        "\n",
        "    Args:\n",
        "        tokenizer (Tokenizer): Tokenizer whose vocabulary must be used.\n",
        "    \"\"\"\n",
        "\n",
        "    return { id: render_glyph(token) for token, id in tokenizer.get_vocabulary().items() }\n",
        "\n",
        "def apply_inverse_vocab(tokens, inv_vocab):\n",
        "    \"\"\" Decodes using the given inverse vocabulary.\n",
        "\n",
        "    Args:\n",
        "        tokens (list[int]): Tokens to process.\n",
        "        inv_vocab (dict[int, str]): Inverse vocabulary for mapping ids to tokens.\n",
        "\n",
        "    Returns:\n",
        "        list[str]: Mapped token glyphs.\n",
        "    \"\"\"\n",
        "\n",
        "    return [ inv_vocab[id] for id in tokens ]"
      ]
    },
    {
      "cell_type": "markdown",
      "metadata": {
        "id": "q3VKC9YY7S06"
      },
      "source": [
        "We visualize a few outputs of the learnt tokenizers to assess their working:"
      ]
    },
    {
      "cell_type": "code",
      "execution_count": 386,
      "metadata": {
        "id": "75gjtCVW7S07"
      },
      "outputs": [
        {
          "name": "stdout",
          "output_type": "stream",
          "text": [
            "Name           : दीपक\n",
            "Tokens         : [1, 274, 265, 278, 273, 2]\n",
            "Tokens (glyphs): ['[BOS]', 'द', 'ी', 'प', 'क', '[EOS]']\n",
            "Decoded        : दीपक\n",
            "\n",
            "Name           : दामोदर\n",
            "Tokens         : [1, 274, 261, 264, 282, 274, 262, 2]\n",
            "Tokens (glyphs): ['[BOS]', 'द', 'ा', 'म', 'ो', 'द', 'र', '[EOS]']\n",
            "Decoded        : दामोदर\n",
            "\n",
            "Name           : आमरिन\n",
            "Tokens         : [1, 300, 264, 262, 267, 263, 2]\n",
            "Tokens (glyphs): ['[BOS]', 'आ', 'म', 'र', 'ि', 'न', '[EOS]']\n",
            "Decoded        : आमरिन\n",
            "\n",
            "Name           : बनिता\n",
            "Tokens         : [1, 279, 263, 267, 297, 2]\n",
            "Tokens (glyphs): ['[BOS]', 'ब', 'न', 'ि', 'ता', '[EOS]']\n",
            "Decoded        : बनिता\n",
            "\n",
            "Name           : घन्स्याम\n",
            "Tokens         : [1, 259, 155, 263, 266, 268, 266, 291, 264, 2]\n",
            "Tokens (glyphs): ['[BOS]', '�', '�', 'न', '्', 'स', '्', 'या', 'म', '[EOS]']\n",
            "Decoded        : घन्स्याम\n",
            "\n"
          ]
        }
      ],
      "source": [
        "# Please do not change anything in the following cell\n",
        "\n",
        "src_id_to_token = inverse_vocabulary(src_tokenizer)\n",
        "\n",
        "for example in train_data['Name'].sample(n=5, random_state=20240227):\n",
        "    print(\"Name           :\", example)\n",
        "    tokens = src_tokenizer.encode(example)\n",
        "    print(\"Tokens         :\", tokens)\n",
        "    print(\"Tokens (glyphs):\", apply_inverse_vocab(tokens, src_id_to_token))\n",
        "    print(\"Decoded        :\", src_tokenizer.decode(tokens), end='\\n\\n')"
      ]
    },
    {
      "cell_type": "code",
      "execution_count": 387,
      "metadata": {
        "id": "MJT2frJu7S08"
      },
      "outputs": [
        {
          "name": "stdout",
          "output_type": "stream",
          "text": [
            "Name           : deepak\n",
            "Tokens         : [1, 332, 318, 110, 2]\n",
            "Tokens (glyphs): ['[BOS]', 'dee', 'pa', 'k', '[EOS]']\n",
            "Decoded        : deepak\n",
            "\n",
            "Name           : damodar\n",
            "Tokens         : [1, 103, 264, 114, 103, 261, 2]\n",
            "Tokens (glyphs): ['[BOS]', 'd', 'am', 'o', 'd', 'ar', '[EOS]']\n",
            "Decoded        : damodar\n",
            "\n",
            "Name           : aamrin\n",
            "Tokens         : [1, 100, 264, 117, 265, 2]\n",
            "Tokens (glyphs): ['[BOS]', 'a', 'am', 'r', 'in', '[EOS]']\n",
            "Decoded        : aamrin\n",
            "\n",
            "Name           : banita\n",
            "Tokens         : [1, 101, 259, 327, 2]\n",
            "Tokens (glyphs): ['[BOS]', 'b', 'an', 'ita', '[EOS]']\n",
            "Decoded        : banita\n",
            "\n",
            "Name           : ghansyam\n",
            "Tokens         : [1, 106, 345, 118, 375, 2]\n",
            "Tokens (glyphs): ['[BOS]', 'g', 'han', 's', 'yam', '[EOS]']\n",
            "Decoded        : ghansyam\n",
            "\n"
          ]
        }
      ],
      "source": [
        "# Please do not change anything in the following cell\n",
        "\n",
        "tgt_id_to_token = inverse_vocabulary(tgt_tokenizer)\n",
        "\n",
        "for example in train_data['Translation'].sample(n=5, random_state=20240227):\n",
        "    print(\"Name           :\", example)\n",
        "    tokens = tgt_tokenizer.encode(example)\n",
        "    print(\"Tokens         :\", tokens)\n",
        "    print(\"Tokens (glyphs):\", apply_inverse_vocab(tokens, tgt_id_to_token))\n",
        "    print(\"Decoded        :\", tgt_tokenizer.decode(tokens), end='\\n\\n')"
      ]
    },
    {
      "cell_type": "markdown",
      "metadata": {
        "id": "dUOLUDqy7S09"
      },
      "source": [
        "We now abstract away the tokenizer into a pytorch compatible TokenizedDataset that will handle the tokenization internally:"
      ]
    },
    {
      "cell_type": "code",
      "execution_count": 388,
      "metadata": {
        "id": "0BFaB2Nr7S09"
      },
      "outputs": [],
      "source": [
        "# Please do not change anything in the following cell\n",
        "\n",
        "class TokenizerDataset(TensorDataset):\n",
        "    \"\"\" Abstraction of the tokenizer functions as a pytorch dataset. \"\"\"\n",
        "\n",
        "    def __init__(self, data, src_tokenizer, tgt_tokenizer, src_padding=None, tgt_padding=None):\n",
        "        \"\"\" Initializes the dataset.\n",
        "\n",
        "        Args:\n",
        "            data: DataFrame of input and output strings.\n",
        "            src_tokenizer (Tokenizer): Tokenizer for the source language.\n",
        "            tgt_tokenizer (Tokenizer): Tokenizer for the target language.\n",
        "            src_padding (int, optional): Padding length for the source text. Defaults to None.\n",
        "            tgt_padding (int, optional): Padding length for the target text. Defaults to None.\n",
        "        \"\"\"\n",
        "\n",
        "        self.data = data\n",
        "        self.src_tokenizer = src_tokenizer\n",
        "        self.tgt_tokenizer = tgt_tokenizer\n",
        "        self.src_padding = src_padding\n",
        "        self.tgt_padding = tgt_padding\n",
        "\n",
        "    def collate(self, batch):\n",
        "        \"\"\" Collates data instances into a batch of tokenized tensors.\n",
        "\n",
        "        Args:\n",
        "            batch (list[tuple]): List of x, y pairs.\n",
        "\n",
        "        Returns:\n",
        "            tuple[torch.Tensor|PackedSequence, torch.Tensor|PackedSequence]: pair of tokenized tensors.\n",
        "        \"\"\"\n",
        "\n",
        "        x_batch = [ data[0] for data in batch ]\n",
        "        y_batch = [ data[1] for data in batch ]\n",
        "\n",
        "        x_batch = self.src_tokenizer.batch_encode(x_batch, self.src_padding)\n",
        "        y_batch = self.tgt_tokenizer.batch_encode(y_batch, self.tgt_padding)\n",
        "\n",
        "        if self.src_padding is None:\n",
        "            x_batch = torch.nn.utils.rnn.pack_sequence([ torch.tensor(tokens) for tokens in x_batch ], False)\n",
        "        else:\n",
        "            x_batch = torch.tensor(x_batch)\n",
        "\n",
        "        if self.tgt_padding is None:\n",
        "            y_batch = torch.nn.utils.rnn.pack_sequence([ torch.tensor(tokens) for tokens in y_batch ], False)\n",
        "        else:\n",
        "            y_batch = torch.tensor(y_batch)\n",
        "\n",
        "        return x_batch, y_batch\n",
        "\n",
        "    def __getitem__(self, index):\n",
        "        \"\"\" Returns the nth instance from the dataset.\n",
        "\n",
        "        Args:\n",
        "            index (int): Index of the instance to retrieve.\n",
        "\n",
        "        Returns:\n",
        "            tuple[str, str]: Untokenized instance pair.\n",
        "        \"\"\"\n",
        "\n",
        "        return (\n",
        "            self.data['Name'][index],\n",
        "            self.data['Translation'][index]\n",
        "        )\n",
        "\n",
        "    def __len__(self):\n",
        "        \"\"\" Returns the length of the dataset.\n",
        "\n",
        "        Returns:\n",
        "            int: Length of the dataset.\n",
        "        \"\"\"\n",
        "        return len(self.data)"
      ]
    },
    {
      "cell_type": "markdown",
      "metadata": {
        "id": "rBnISg0K7S1G"
      },
      "source": [
        "## Model-Agnostic Training"
      ]
    },
    {
      "cell_type": "markdown",
      "metadata": {
        "id": "JUF3_vkA7S1G"
      },
      "source": [
        "Next, you'll implement a Trainer to train different models, since the data and tokenizer remains the same for all models.\n",
        "\n",
        "This trainer will receive the model, a loss function, an optimizer, a training and (optionally) a validation dataset and use these to train (and validate) the model.\n",
        "\n",
        "The trainer will also take care of handling checkpoints for training, which can be used to resume training across sessions.\n",
        "\n",
        "Derived classes can also be defined to handle different architectures, as to be done in the model-specific classes below."
      ]
    },
    {
      "cell_type": "code",
      "execution_count": 389,
      "metadata": {
        "id": "Kcq8zymS7S1H"
      },
      "outputs": [],
      "source": [
        "## ==== BEGIN EVALUATION PORTION\n",
        "\n",
        "class Trainer:\n",
        "    \"\"\" Performs model training in a model-agnostic manner.\n",
        "        Requires specifying the model instance, the loss criterion to optimize,\n",
        "          the optimizer to use and the directory to save data to.\n",
        "    \"\"\"\n",
        "\n",
        "    def __init__(self, directory, model, criterion, optimizer):\n",
        "        \"\"\" Initializes the trainer.\n",
        "\n",
        "        Args:\n",
        "            directory (str): Directory to save checkpoints and the model data in.\n",
        "            model (torch.nn.Module): Torch model (must inherit `torch.nn.Module`) to train.\n",
        "            criterion (torch.nn.Function): Loss criterion, i.e., the loss function to optimize for training.\n",
        "            optimizer (torch.optim.Optimizer): Optimizer to use for training.\n",
        "        \"\"\"\n",
        "\n",
        "        self.model            = model\n",
        "        self.optimizer        = optimizer\n",
        "        self.criterion        = criterion\n",
        "        self.directory        = directory\n",
        "        self.last_checkpoint  = 0\n",
        "        self.loss_history     = { 'train': [], 'valid': [] }\n",
        "\n",
        "        os.makedirs(self.directory, exist_ok=True)\n",
        "        self.device = 'cuda' if torch.cuda.is_available() else 'cpu'\n",
        "\n",
        "    @staticmethod\n",
        "    def make_dataloader(dataset, shuffle_data=True, batch_size=8, collate_fn=None):\n",
        "        \"\"\" Create a dataloader for a torch Dataset.\n",
        "\n",
        "        Args:\n",
        "            dataset (torch.utils.data.Dataset): Dataset to process.\n",
        "            shuffle_data (bool, optional): If true, shuffles the data. Defaults to True.\n",
        "            batch_size (int, optional): Number of items per batch. Defaults to 8.\n",
        "            collate_fn (function, optional): Function to use for collating instances to a batch.\n",
        "\n",
        "        Returns:\n",
        "            torch.utils.data.DataLoader: Dataloader over the given data, post processing.\n",
        "        \"\"\"\n",
        "\n",
        "        # BEGIN CODE : trainer.make_dataloader\n",
        "\n",
        "        # ADD YOUR CODE HERE\n",
        "\n",
        "        return torch.utils.data.DataLoader(dataset,batch_size=batch_size, shuffle=shuffle_data, collate_fn=collate_fn)\n",
        "        # END CODE\n",
        "\n",
        "    def train_step(self, x_batch, y_batch):\n",
        "        \"\"\" Performs a step of training, on the training batch.\n",
        "\n",
        "        Args:\n",
        "            x_batch (torch.Tensor): Input batch.\n",
        "            y_batch (torch.Tensor): Output batch.\n",
        "\n",
        "        Returns:\n",
        "            float: Training loss with the current model, on this batch.\n",
        "        \"\"\"\n",
        "\n",
        "        # BEGIN CODE : trainer.train_step\n",
        "\n",
        "        # ADD YOUR CODE HERE\n",
        "\n",
        "        self.model.train()\n",
        "        x_batch = x_batch.to(self.device)\n",
        "        y_batch = y_batch.to(self.device)\n",
        "        self.optimizer.zero_grad()\n",
        "        outputs = self.model(x_batch)\n",
        "        loss = self.criterion(outputs, y_batch)\n",
        "        loss.backward()\n",
        "        self.optimizer.step()\n",
        "        return loss.item()\n",
        "\n",
        "        # END CODE\n",
        "\n",
        "    def eval_step(self, validation_dataloader):\n",
        "        \"\"\" Perfoms an evaluation step, on the validation dataloader.\n",
        "\n",
        "        Args:\n",
        "            validation_dataloader (torch.utils.data.DataLoader): Dataloader for the validation dataset.\n",
        "\n",
        "        Returns:\n",
        "            float: Validation loss with the current model checkpoint.\n",
        "        \"\"\"\n",
        "\n",
        "        # BEGIN CODE : trainer.eval_step\n",
        "\n",
        "        # ADD YOUR CODE HERE\n",
        "        self.model.eval()\n",
        "        total_loss = 0.0\n",
        "        num_batches = 0\n",
        "\n",
        "        with torch.no_grad():\n",
        "            for x_batch, y_batch in validation_dataloader:\n",
        "                x_batch = x_batch.to(self.device)\n",
        "                y_batch = y_batch.to(self.device)\n",
        "                outputs = self.model(x_batch)\n",
        "                loss = self.criterion(outputs, y_batch)\n",
        "                total_loss += loss.item()\n",
        "                num_batches += 1\n",
        "        self.model.train()\n",
        "        return total_loss / num_batches if num_batches > 0 else 0.0\n",
        "\n",
        "        # END CODE\n",
        "\n",
        "    def train(self, train_dataset, validation_dataset=None,\n",
        "              num_epochs=10, batch_size=8, shuffle=True,\n",
        "              save_steps=100, eval_steps=100, collate_fn=None):\n",
        "        \"\"\" Handles the training loop for the model.\n",
        "\n",
        "        Args:\n",
        "            train_dataset (torch.utils.data.Dataset): Dataset to train on.\n",
        "            validation_dataset (torch.utils.data.Dataset, optional): Data to validate on. Defaults to None.\n",
        "            num_epochs (int, optional): Number of epochs to train for. Defaults to 10.\n",
        "            batch_size (int, optional): Number of items to process per batch. Defaults to 8.\n",
        "            shuffle (bool, optional): Whether to shuffle the data or not. Defaults to True.\n",
        "            save_steps (int, optional): Number of steps post which a checkpoint should be saved. Defaults to 100.\n",
        "            eval_steps (int, optional): Number of steps post which the model should be evaluated. Defaults to 100.\n",
        "            collate_fn (function, optional): Function to use for collating instances to a batch.\n",
        "        \"\"\"\n",
        "\n",
        "        current_checkpoint = 0\n",
        "        self.model.to(self.device)\n",
        "        self.model.train()\n",
        "\n",
        "        with tqdm.tqdm(total = math.ceil(len(train_dataset) / batch_size) * num_epochs) as pbar:\n",
        "            for epoch in range(num_epochs):\n",
        "                train_dataloader      = self.make_dataloader(train_dataset, shuffle, batch_size, collate_fn)\n",
        "                if validation_dataset is not None:\n",
        "                    validation_dataloader = self.make_dataloader(validation_dataset, shuffle, batch_size, collate_fn)\n",
        "\n",
        "                for batch, (x_batch, y_batch) in enumerate(train_dataloader):\n",
        "                    pbar.set_description(f\"Epoch {epoch+1} / {num_epochs}\")\n",
        "\n",
        "                    # If we are resuming training, skip this iteration\n",
        "                    if current_checkpoint < self.last_checkpoint:\n",
        "                        current_checkpoint += 1\n",
        "                        pbar.update()\n",
        "                        continue\n",
        "\n",
        "                    # Do a step of training\n",
        "                    loss = self.train_step(x_batch, y_batch)\n",
        "                    self.loss_history['train'].append(loss)\n",
        "                    pbar.set_postfix({ 'batch': batch+1, 'loss': loss })\n",
        "\n",
        "                    current_checkpoint += 1\n",
        "                    pbar.update()\n",
        "\n",
        "                    # Evaluate after every eval_steps\n",
        "                    if (current_checkpoint) % eval_steps == 0:\n",
        "                        if validation_dataset is not None:\n",
        "                            val_loss = self.eval_step(validation_dataloader)\n",
        "                            self.loss_history['valid'].append(val_loss)\n",
        "                        else:\n",
        "                            val_loss = None\n",
        "\n",
        "                        print('[>]', f\"epoch #{epoch+1:{len(str(num_epochs))}},\",\n",
        "                              f\"batch #{batch+1:{len(str(len(train_dataloader)))}}:\",\n",
        "                              \"loss:\", f\"{loss:.8f}\", '|', \"val_loss:\", f\"{val_loss:.8f}\")\n",
        "\n",
        "                    # Save after every save_steps\n",
        "                    if (current_checkpoint) % save_steps == 0:\n",
        "                        self.save(current_checkpoint, { 'loss': loss, 'checkpoint': current_checkpoint })\n",
        "\n",
        "                    # free unused resources\n",
        "                    sync_vram()\n",
        "\n",
        "            self.save(current_checkpoint)\n",
        "\n",
        "    def resume(self):\n",
        "        \"\"\" Resumes training session from the most recent checkpoint. \"\"\"\n",
        "\n",
        "        if checkpoints := os.listdir(self.directory):\n",
        "            self.last_checkpoint = max(map(lambda x: int(x[11:]), filter(lambda x: 'checkpoint-' in x, checkpoints)))\n",
        "            checkpoint_dir = os.path.join(self.directory, f\"checkpoint-{self.last_checkpoint}\")\n",
        "            self.model.load_state_dict(torch.load(\n",
        "                os.path.join(checkpoint_dir, \"model.pt\"),\n",
        "                map_location=self.device\n",
        "            ))\n",
        "            self.model.to(self.device)\n",
        "            self.optimizer.load_state_dict(torch.load(\n",
        "                os.path.join(checkpoint_dir, \"optimizer.pt\"),\n",
        "                map_location=self.device\n",
        "            ))\n",
        "            with open(os.path.join(checkpoint_dir, \"loss.json\"), 'r', encoding='utf-8') as ifile:\n",
        "                self.loss_history = json.load(ifile)\n",
        "\n",
        "    def save(self, checkpoint=None, metadata=None):\n",
        "        \"\"\" Saves an associated model or a training checkpoint.\n",
        "\n",
        "            If a checkpoint is specified, saves a checkpoint specific directory with optimizer data\n",
        "                so that training can be resumed post that checkpoint.\n",
        "\n",
        "        Args:\n",
        "            checkpoint (int, optional): Checkpoint index. Defaults to None.\n",
        "            metadata (dict[str, any], optional): Additional metadata to save alongside a checkpoint. Defaults to None.\n",
        "        \"\"\"\n",
        "\n",
        "        if checkpoint is not None:\n",
        "            checkpoint_dir = os.path.join(self.directory, f\"checkpoint-{checkpoint}\")\n",
        "            os.makedirs(checkpoint_dir, exist_ok=True)\n",
        "            torch.save(self.model.state_dict(), os.path.join(checkpoint_dir, \"model.pt\"))\n",
        "            torch.save(self.optimizer.state_dict(), os.path.join(checkpoint_dir, \"optimizer.pt\"))\n",
        "            with open(os.path.join(checkpoint_dir, \"loss.json\"), \"w+\", encoding='utf-8') as ofile:\n",
        "                json.dump(self.loss_history, ofile, ensure_ascii=False, indent=2)\n",
        "            if metadata:\n",
        "                with open(os.path.join(checkpoint_dir, \"metadata.json\"), \"w+\", encoding='utf-8') as ofile:\n",
        "                    json.dump(metadata, ofile, ensure_ascii=False, indent=2)\n",
        "        else:\n",
        "            torch.save(self.model, os.path.join(self.directory, \"model.pt\"))\n",
        "            with open(os.path.join(self.directory, \"loss.json\"), \"w+\", encoding='utf-8') as ofile:\n",
        "                json.dump(self.loss_history, ofile, ensure_ascii=False, indent=2)\n",
        "            if metadata:\n",
        "                with open(os.path.join(self.directory, \"metadata.json\"), \"w+\", encoding='utf-8') as ofile:\n",
        "                    json.dump(metadata, ofile, ensure_ascii=False, indent=2)\n",
        "\n",
        "## ==== END EVALUATION PORTION"
      ]
    },
    {
      "cell_type": "markdown",
      "metadata": {
        "id": "ojRHAENJ7S1I"
      },
      "source": [
        "To test that the trainer works, try training a simple MLP network:"
      ]
    },
    {
      "cell_type": "code",
      "execution_count": 390,
      "metadata": {
        "id": "I8Qo2vdo7S1I"
      },
      "outputs": [],
      "source": [
        "X_train = torch.rand((500, 2))                      # (N x 2)\n",
        "X_dev   = torch.rand((20 , 2))                      # (N x 2)\n",
        "\n",
        "Y_train = (X_train[:, 0] - X_train[:, 1])[:, None]  # (N x 1)\n",
        "Y_dev   = (X_dev  [:, 0] - X_dev  [:, 1])[:, None]  # (N x 1)\n",
        "\n",
        "dummy_train_dataset = TensorDataset(X_train, Y_train)\n",
        "dummy_val_dataset   = TensorDataset(X_dev  , Y_dev  )"
      ]
    },
    {
      "cell_type": "code",
      "execution_count": 391,
      "metadata": {
        "id": "i63ykUv37S1I"
      },
      "outputs": [
        {
          "name": "stderr",
          "output_type": "stream",
          "text": [
            "Epoch 1 / 10:   0%|          | 1/500 [00:00<00:35, 14.16it/s, batch=1, loss=0.559]"
          ]
        },
        {
          "name": "stderr",
          "output_type": "stream",
          "text": [
            "Epoch 3 / 10:  20%|██        | 102/500 [00:07<00:27, 14.40it/s, batch=3, loss=0.122]  "
          ]
        },
        {
          "name": "stdout",
          "output_type": "stream",
          "text": [
            "[>] epoch # 2, batch #50: loss: 0.09531660 | val_loss: 0.11975275\n"
          ]
        },
        {
          "name": "stderr",
          "output_type": "stream",
          "text": [
            "Epoch 5 / 10:  40%|████      | 202/500 [00:13<00:20, 14.43it/s, batch=3, loss=0.142]  "
          ]
        },
        {
          "name": "stdout",
          "output_type": "stream",
          "text": [
            "[>] epoch # 4, batch #50: loss: 0.09497553 | val_loss: 0.09478226\n"
          ]
        },
        {
          "name": "stderr",
          "output_type": "stream",
          "text": [
            "Epoch 7 / 10:  60%|██████    | 302/500 [00:20<00:13, 14.44it/s, batch=2, loss=0.0855] "
          ]
        },
        {
          "name": "stdout",
          "output_type": "stream",
          "text": [
            "[>] epoch # 6, batch #50: loss: 0.08675804 | val_loss: 0.06878456\n"
          ]
        },
        {
          "name": "stderr",
          "output_type": "stream",
          "text": [
            "Epoch 9 / 10:  80%|████████  | 402/500 [00:27<00:06, 14.53it/s, batch=3, loss=0.0466] "
          ]
        },
        {
          "name": "stdout",
          "output_type": "stream",
          "text": [
            "[>] epoch # 8, batch #50: loss: 0.02915587 | val_loss: 0.04620804\n"
          ]
        },
        {
          "name": "stderr",
          "output_type": "stream",
          "text": [
            "Epoch 10 / 10: 100%|██████████| 500/500 [00:34<00:00, 14.50it/s, batch=50, loss=0.0179]"
          ]
        },
        {
          "name": "stdout",
          "output_type": "stream",
          "text": [
            "[>] epoch #10, batch #50: loss: 0.01787124 | val_loss: 0.02944609\n"
          ]
        },
        {
          "name": "stderr",
          "output_type": "stream",
          "text": [
            "\n"
          ]
        }
      ],
      "source": [
        "model = torch.nn.Sequential(\n",
        "    torch.nn.Linear(2, 4),\n",
        "    torch.nn.ReLU(),\n",
        "    torch.nn.Linear(4, 1)\n",
        ")\n",
        "\n",
        "loss_fn = torch.nn.MSELoss()\n",
        "optimizer = torch.optim.SGD(model.parameters(), lr=0.01)\n",
        "\n",
        "trainer = Trainer(\"mlp\", model, loss_fn, optimizer)\n",
        "trainer.train(dummy_train_dataset, dummy_val_dataset, batch_size=10, save_steps=300)"
      ]
    },
    {
      "cell_type": "markdown",
      "metadata": {
        "id": "-4hvE3VK7S1J"
      },
      "source": [
        "## Seq-2-Seq Modeling with RNNs"
      ]
    },
    {
      "cell_type": "markdown",
      "metadata": {
        "id": "q32giBvl7S1J"
      },
      "source": [
        "In this section, you will implement an encoder-decoder network using RNNs, to learn a conditional language model for the task of translating the names to Hindi.\n",
        "\n",
        "You can use any type of RNN for this purpose: `RNN`, `GRU`, `LSTM`, etc. Consult the pytorch documentation for additional information.\n",
        "\n",
        "Additional tips for training:\n",
        "- Use regularization: Dropout, etc.\n",
        "- Use a suitable optimizer, such as Adam.\n",
        "- Format data accordingly before passing it to the trainer, using the helper functions.\n",
        "- Do you need to pad sequences when processing inputs as a batch?"
      ]
    },
    {
      "cell_type": "code",
      "execution_count": 392,
      "metadata": {
        "id": "qgJfdMYX7S1K"
      },
      "outputs": [],
      "source": [
        "## ==== BEGIN EVALUATION PORTION\n",
        "\n",
        "class RNNEncoderDecoderLM(torch.nn.Module):\n",
        "    \"\"\" Implements an Encoder-Decoder network, using RNN units. \"\"\"\n",
        "\n",
        "    # Feel free to add additional parameters to __init__\n",
        "    def __init__(self, src_vocab_size, tgt_vocab_size, embd_dims, hidden_size, num_layers=1, dropout=0.1):\n",
        "        \"\"\" Initializes the encoder-decoder network, implemented via RNNs.\n",
        "\n",
        "        Args:\n",
        "            src_vocab_size (int): Source vocabulary size.\n",
        "            tgt_vocab_size (int): Target vocabulary size.\n",
        "            embd_dims (int): Embedding dimensions.\n",
        "            hidden_size (int): Size/Dimensions for the hidden states.\n",
        "        \"\"\"\n",
        "\n",
        "        super(RNNEncoderDecoderLM, self).__init__()\n",
        "\n",
        "        # Dummy parameter to track the model device. Do not modify.\n",
        "        self._dummy_param = torch.nn.Parameter(torch.Tensor(0), requires_grad=False)\n",
        "\n",
        "        # BEGIN CODE : enc-dec-rnn.init\n",
        "\n",
        "        # ADD YOUR CODE HERE\n",
        "\n",
        "        self.src_vocab_size = src_vocab_size\n",
        "        self.tgt_vocab_size = tgt_vocab_size\n",
        "        self.embd_dims = embd_dims\n",
        "        self.hidden_size = hidden_size\n",
        "        self.num_layers = num_layers\n",
        "        self.dropout = dropout\n",
        "        self.src_embedding = torch.nn.Embedding(src_vocab_size, embd_dims)\n",
        "        self.tgt_embedding = torch.nn.Embedding(tgt_vocab_size, embd_dims)\n",
        "        self.encoder = torch.nn.GRU(embd_dims, hidden_size, num_layers, dropout=dropout, batch_first=True)\n",
        "        self.decoder = torch.nn.GRU(embd_dims, hidden_size, num_layers, dropout=dropout, batch_first=True)\n",
        "        self.output_layer = torch.nn.Linear(hidden_size, tgt_vocab_size)\n",
        "        self.softmax = torch.nn.LogSoftmax(dim=-1)\n",
        "        self.dropout_layer = torch.nn.Dropout(dropout)\n",
        "\n",
        "        # END CODE\n",
        "\n",
        "    @property\n",
        "    def device(self):\n",
        "        \"\"\" Returns the device the model parameters are on. \"\"\"\n",
        "        return self._dummy_param.device\n",
        "\n",
        "    def forward(self, inputs, decoder_inputs, decoder_hidden_state=None):\n",
        "        \"\"\" Performs a forward pass over the encoder-decoder network.\n",
        "\n",
        "            Accepts inputs for the encoder, inputs for the decoder, and hidden state for\n",
        "                the decoder to continue generation after the given input.\n",
        "\n",
        "        Args:\n",
        "            inputs (torch.Tensor): tensor of shape [batch_size?, max_seq_length]\n",
        "            decoder_inputs (torch.Tensor): tensor of shape [batch_size?, 1]\n",
        "            decoder_hidden_state (any): tensor to represent decoder hidden state from time step T-1.\n",
        "\n",
        "        Returns:\n",
        "            tuple[torch.Tensor, any]: output from the decoder, and associated hidden state for the next step.\n",
        "            Decoder outputs should be log probabilities over the target vocabulary.\n",
        "        \"\"\"\n",
        "\n",
        "        # BEGIN CODE : enc-dec-rnn.forward\n",
        "\n",
        "        # ADD YOUR CODE HERE\n",
        "        if isinstance(inputs, torch.nn.utils.rnn.PackedSequence):\n",
        "            inputs, batch_lengths = torch.nn.utils.rnn.pad_packed_sequence(inputs, batch_first=True)\n",
        "        src_embedded = self.dropout_layer(self.src_embedding(inputs))\n",
        "        if isinstance(inputs, torch.nn.utils.rnn.PackedSequence):\n",
        "            packed_src = torch.nn.utils.rnn.pack_padded_sequence(\n",
        "                src_embedded, \n",
        "                batch_lengths.cpu(), \n",
        "                batch_first=True, \n",
        "                enforce_sorted=False\n",
        "            )\n",
        "            _, encoder_hidden = self.encoder(packed_src)\n",
        "        else:\n",
        "            _, encoder_hidden = self.encoder(src_embedded)\n",
        "        \n",
        "        if decoder_hidden_state is None:\n",
        "            decoder_hidden_state = encoder_hidden\n",
        "        \n",
        "        tgt_embedded = self.dropout_layer(self.tgt_embedding(decoder_inputs))\n",
        "        \n",
        "        decoder_output, decoder_hidden = self.decoder(tgt_embedded, decoder_hidden_state)\n",
        "        \n",
        "        output_logits = self.output_layer(decoder_output)\n",
        "        \n",
        "        log_probs = torch.log_softmax(output_logits, dim=-1)\n",
        "        \n",
        "        return log_probs, decoder_hidden\n",
        "        # END CODE\n",
        "\n",
        "    def log_probability(self, seq_x, seq_y):\n",
        "        \"\"\" Compute the conditional log probability of seq_y given seq_x, i.e., log P(seq_y | seq_x).\n",
        "\n",
        "        Args:\n",
        "            seq_x (torch.tensor): Input sequence of tokens.\n",
        "            seq_y (torch.tensor): Output sequence of tokens.\n",
        "\n",
        "        Returns:\n",
        "            float: Log probability of seq_y given seq_x\n",
        "        \"\"\"\n",
        "\n",
        "        # BEGIN CODE : enc-dec-rnn.log_probability\n",
        "\n",
        "        # ADD YOUR CODE HERE\n",
        "\n",
        "        self.train()\n",
        "        seq_x = seq_x.to(self.device)\n",
        "        seq_y = seq_y.to(self.device)\n",
        "        decoder_input = seq_y[:, :-1]  \n",
        "        decoder_target = seq_y[:, 1:] \n",
        "        log_probs, _ = self(seq_x, decoder_input)\n",
        "        log_probs = log_probs.reshape(-1, log_probs.size(-1))\n",
        "        decoder_target = decoder_target.reshape(-1)\n",
        "        loss = torch.nn.functional.nll_loss(log_probs, decoder_target, ignore_index=0)\n",
        "        return -loss\n",
        "        # END CODE\n",
        "\n",
        "## ==== END EVALUATION PORTION"
      ]
    },
    {
      "cell_type": "markdown",
      "metadata": {
        "id": "djZmH1UT7S1K"
      },
      "source": [
        "To train the above model, implement for training and evaluation steps in the `RNNEncoderDecoderTrainer` class below:"
      ]
    },
    {
      "cell_type": "code",
      "execution_count": 393,
      "metadata": {
        "id": "plixWQjn7S1K"
      },
      "outputs": [],
      "source": [
        "## ==== BEGIN EVALUATION PORTION\n",
        "\n",
        "class RNNEncoderDecoderTrainer(Trainer):\n",
        "    \"\"\" Performs model training for RNN-based Encoder-Decoder models. \"\"\"\n",
        "\n",
        "    def __init__(self, directory, model, criterion, optimizer):\n",
        "        \"\"\" Initializes the trainer.\n",
        "\n",
        "        Args:\n",
        "            directory (str): Directory to save checkpoints and the model data in.\n",
        "            model (torch.nn.Module): Torch model to train.\n",
        "            criterion (torch.nn.Function): Loss Criterion.\n",
        "            optimizer (torch.optim.Optimizer): Optimizer to use.\n",
        "        \"\"\"\n",
        "\n",
        "        super(RNNEncoderDecoderTrainer, self).__init__(directory, model, criterion, optimizer)\n",
        "\n",
        "    @staticmethod\n",
        "    def make_dataloader(dataset, shuffle_data=True, batch_size=8, collate_fn=None):\n",
        "        \"\"\" Create a dataloader for a torch Dataset.\n",
        "\n",
        "        Args:\n",
        "            dataset (torch.utils.data.Dataset): Dataset to process.\n",
        "            shuffle_data (bool, optional): If true, shuffles the data. Defaults to True.\n",
        "            batch_size (int, optional): Number of items per batch. Defaults to 8.\n",
        "            collate_fn (function, optional): Function to collate instances in a batch.\n",
        "\n",
        "        Returns:\n",
        "            torch.utils.data.DataLoader: Dataloader over the given data, post processing.\n",
        "        \"\"\"\n",
        "\n",
        "        # BEGIN CODE : rnn-enc-dec-trainer.make_dataloader\n",
        "\n",
        "        # ADD YOUR CODE HERE\n",
        "\n",
        "        return torch.utils.data.DataLoader(dataset, batch_size=batch_size, shuffle=shuffle_data, collate_fn=collate_fn)\n",
        "        # END CODE\n",
        "\n",
        "    def train_step(self, x_batch, y_batch):\n",
        "        \"\"\" Performs a step of training, on the training batch.\n",
        "\n",
        "        Args:\n",
        "            x_batch (torch.Tensor): Input batch tensor, of shape [batch_size, *instance_shape].\n",
        "              For RNNs this is [batch_size, src_padding] or a torch.nn.utils.rnn.PackedSequence of varying lengths per batch (depends on padding).\n",
        "            y_batch (torch.Tensor): Output batch tensor, of shape [batch_size, *instance_shape].\n",
        "              For RNNs this is [batch_size, tgt_padding] or a torch.nn.utils.rnn.PackedSequence of varying lengths per batch (depends on padding).\n",
        "\n",
        "        Returns:\n",
        "            float: Training loss with the current model, on this batch.\n",
        "        \"\"\"\n",
        "\n",
        "        # BEGIN CODE : rnn-enc-dec-trainer.train_step\n",
        "\n",
        "        # ADD YOUR CODE HERE\n",
        "\n",
        "        self.model.train()\n",
        "        self.optimizer.zero_grad()\n",
        "        x_batch = x_batch.to(self.model.device)\n",
        "        y_batch = y_batch.to(self.model.device)\n",
        "        loss = -self.model.log_probability(x_batch, y_batch)\n",
        "        loss.backward()\n",
        "        torch.nn.utils.clip_grad_norm_(self.model.parameters(), max_norm=1)\n",
        "        self.optimizer.step()\n",
        "        return loss.item()\n",
        "    \n",
        "\n",
        "        # END CODE\n",
        "\n",
        "    def eval_step(self, validation_dataloader):\n",
        "        \"\"\" Perfoms an evaluation step, on the validation dataloader.\n",
        "\n",
        "        Args:\n",
        "            validation_dataloader (torch.utils.data.DataLoader): Dataloader for the validation dataset.\n",
        "\n",
        "        Returns:\n",
        "            float: Validation loss with the current model checkpoint.\n",
        "        \"\"\"\n",
        "\n",
        "        # BEGIN CODE : rnn-enc-dec-trainer.eval_step\n",
        "\n",
        "        # ADD YOUR CODE HERE\n",
        "\n",
        "        self.model.eval()  \n",
        "        total_loss = 0\n",
        "        total_batches = 0\n",
        "        \n",
        "        with torch.no_grad():\n",
        "            for x_batch, y_batch in validation_dataloader:\n",
        "                x_batch = x_batch.to(self.model.device)\n",
        "                y_batch = y_batch.to(self.model.device)\n",
        "                loss = -self.model.log_probability(x_batch, y_batch)\n",
        "                total_loss += loss.item()\n",
        "                total_batches += 1\n",
        "        return total_loss / total_batches if total_batches > 0 else float('inf')\n",
        "        # END CODE\n",
        "\n",
        "## ==== END EVALUATION PORTION"
      ]
    },
    {
      "cell_type": "code",
      "execution_count": 394,
      "metadata": {
        "id": "AX2RQOe87S1L"
      },
      "outputs": [],
      "source": [
        "## == BEGIN EVALUATION PORTION\n",
        "\n",
        "# Edit the hyperparameters below to your desired values.\n",
        "\n",
        "# BEGIN CODE : rnn-enc-dec.params\n",
        "\n",
        "# Add parameters related to the model here.\n",
        "rnn_enc_dec_params = {\n",
        "    'src_vocab_size': len(src_tokenizer.get_vocabulary()),\n",
        "    'tgt_vocab_size': len(tgt_tokenizer.get_vocabulary()),\n",
        "    'embd_dims'     : 256,\n",
        "    'hidden_size'   : 512,\n",
        "    \n",
        "    'dropout'       : 0.1,\n",
        "    'num_layers'    : 3\n",
        "}\n",
        "\n",
        "# Add parameters related to the dataset processing here.\n",
        "rnn_enc_dec_data_params = dict(\n",
        "    src_padding=15,\n",
        "    tgt_padding=15,\n",
        ")\n",
        "\n",
        "# Add parameters related to training here.\n",
        "rnn_enc_dec_training_params = dict(\n",
        "    num_epochs=20,\n",
        "    batch_size=32,\n",
        "    shuffle=True,\n",
        "    save_steps=200,\n",
        "    eval_steps=200\n",
        ")\n",
        "\n",
        "# END CODE\n",
        "\n",
        "# Do not forget to set a deterministic seed.\n",
        "torch.manual_seed(42)\n",
        "\n",
        "model = RNNEncoderDecoderLM(**rnn_enc_dec_params)\n",
        "\n",
        "# BEGIN CODE : rnn-enc-dec.train\n",
        "\n",
        "# ADD YOUR CODE HERE\n",
        "optimizer = torch.optim.Adam(model.parameters(), lr=0.0005)\n",
        "criterion = torch.nn.CrossEntropyLoss(ignore_index=0)\n",
        "\n",
        "\n",
        "# END CODE\n",
        "\n",
        "trainer = RNNEncoderDecoderTrainer(\n",
        "    os.path.join(DIRECTORY_NAME, \"rnn.enc-dec\"),\n",
        "    model, criterion, optimizer\n",
        ")\n",
        "\n",
        "## == END EVALUATION PORTION"
      ]
    },
    {
      "cell_type": "code",
      "execution_count": 395,
      "metadata": {
        "id": "ZGSIuMYP7S1L"
      },
      "outputs": [
        {
          "name": "stderr",
          "output_type": "stream",
          "text": [
            "Epoch 2 / 20:   7%|▋         | 200/2820 [00:17<03:48, 11.49it/s, batch=60, loss=3.03] "
          ]
        },
        {
          "name": "stdout",
          "output_type": "stream",
          "text": [
            "[>] epoch # 2, batch # 59: loss: 3.08426762 | val_loss: 2.88902285\n"
          ]
        },
        {
          "name": "stderr",
          "output_type": "stream",
          "text": [
            "Epoch 3 / 20:  14%|█▍        | 400/2820 [00:35<03:31, 11.45it/s, batch=119, loss=1.53]"
          ]
        },
        {
          "name": "stdout",
          "output_type": "stream",
          "text": [
            "[>] epoch # 3, batch #118: loss: 1.54666603 | val_loss: 1.52177387\n"
          ]
        },
        {
          "name": "stderr",
          "output_type": "stream",
          "text": [
            "Epoch 5 / 20:  21%|██▏       | 600/2820 [00:53<03:13, 11.48it/s, batch=37, loss=0.786] "
          ]
        },
        {
          "name": "stdout",
          "output_type": "stream",
          "text": [
            "[>] epoch # 5, batch # 36: loss: 0.71845573 | val_loss: 0.91135184\n"
          ]
        },
        {
          "name": "stderr",
          "output_type": "stream",
          "text": [
            "Epoch 6 / 20:  28%|██▊       | 800/2820 [01:10<02:56, 11.46it/s, batch=96, loss=0.498] "
          ]
        },
        {
          "name": "stdout",
          "output_type": "stream",
          "text": [
            "[>] epoch # 6, batch # 95: loss: 0.42196798 | val_loss: 0.75115598\n"
          ]
        },
        {
          "name": "stderr",
          "output_type": "stream",
          "text": [
            "Epoch 8 / 20:  35%|███▌      | 1000/2820 [01:28<02:38, 11.46it/s, batch=14, loss=0.263]"
          ]
        },
        {
          "name": "stdout",
          "output_type": "stream",
          "text": [
            "[>] epoch # 8, batch # 13: loss: 0.19326819 | val_loss: 0.67830658\n"
          ]
        },
        {
          "name": "stderr",
          "output_type": "stream",
          "text": [
            "Epoch 9 / 20:  43%|████▎     | 1200/2820 [01:45<02:21, 11.44it/s, batch=73, loss=0.187] "
          ]
        },
        {
          "name": "stdout",
          "output_type": "stream",
          "text": [
            "[>] epoch # 9, batch # 72: loss: 0.18714601 | val_loss: 0.67160580\n"
          ]
        },
        {
          "name": "stderr",
          "output_type": "stream",
          "text": [
            "Epoch 10 / 20:  50%|████▉     | 1400/2820 [02:03<02:04, 11.40it/s, batch=132, loss=0.173] "
          ]
        },
        {
          "name": "stdout",
          "output_type": "stream",
          "text": [
            "[>] epoch #10, batch #131: loss: 0.17323042 | val_loss: 0.68475787\n"
          ]
        },
        {
          "name": "stderr",
          "output_type": "stream",
          "text": [
            "Epoch 12 / 20:  57%|█████▋    | 1600/2820 [02:21<01:46, 11.42it/s, batch=50, loss=0.0815] "
          ]
        },
        {
          "name": "stdout",
          "output_type": "stream",
          "text": [
            "[>] epoch #12, batch # 49: loss: 0.18973744 | val_loss: 0.71966953\n"
          ]
        },
        {
          "name": "stderr",
          "output_type": "stream",
          "text": [
            "Epoch 13 / 20:  64%|██████▍   | 1800/2820 [02:38<01:29, 11.43it/s, batch=109, loss=0.104] "
          ]
        },
        {
          "name": "stdout",
          "output_type": "stream",
          "text": [
            "[>] epoch #13, batch #108: loss: 0.17649916 | val_loss: 0.72972460\n"
          ]
        },
        {
          "name": "stderr",
          "output_type": "stream",
          "text": [
            "Epoch 15 / 20:  71%|███████   | 2000/2820 [02:56<01:11, 11.49it/s, batch=27, loss=0.0331] "
          ]
        },
        {
          "name": "stdout",
          "output_type": "stream",
          "text": [
            "[>] epoch #15, batch # 26: loss: 0.03664979 | val_loss: 0.74951119\n"
          ]
        },
        {
          "name": "stderr",
          "output_type": "stream",
          "text": [
            "Epoch 16 / 20:  78%|███████▊  | 2200/2820 [03:13<00:54, 11.42it/s, batch=86, loss=0.0679] "
          ]
        },
        {
          "name": "stdout",
          "output_type": "stream",
          "text": [
            "[>] epoch #16, batch # 85: loss: 0.11195408 | val_loss: 0.71907609\n"
          ]
        },
        {
          "name": "stderr",
          "output_type": "stream",
          "text": [
            "Epoch 18 / 20:  85%|████████▌ | 2400/2820 [03:31<00:36, 11.53it/s, batch=4, loss=0.0325]  "
          ]
        },
        {
          "name": "stdout",
          "output_type": "stream",
          "text": [
            "[>] epoch #18, batch #  3: loss: 0.07384679 | val_loss: 0.74301418\n"
          ]
        },
        {
          "name": "stderr",
          "output_type": "stream",
          "text": [
            "Epoch 19 / 20:  92%|█████████▏| 2600/2820 [03:49<00:19, 11.45it/s, batch=63, loss=0.0549] "
          ]
        },
        {
          "name": "stdout",
          "output_type": "stream",
          "text": [
            "[>] epoch #19, batch # 62: loss: 0.10115862 | val_loss: 0.75309388\n"
          ]
        },
        {
          "name": "stderr",
          "output_type": "stream",
          "text": [
            "Epoch 20 / 20:  99%|█████████▉| 2800/2820 [04:06<00:01, 11.43it/s, batch=122, loss=0.0886]"
          ]
        },
        {
          "name": "stdout",
          "output_type": "stream",
          "text": [
            "[>] epoch #20, batch #121: loss: 0.06798542 | val_loss: 0.75364230\n"
          ]
        },
        {
          "name": "stderr",
          "output_type": "stream",
          "text": [
            "Epoch 20 / 20: 100%|██████████| 2820/2820 [04:08<00:00, 11.35it/s, batch=141, loss=0.0313]\n"
          ]
        }
      ],
      "source": [
        "# Please do not change anything in the following cell.\n",
        "\n",
        "train_dataset      = TokenizerDataset(train_data     , src_tokenizer, tgt_tokenizer, **rnn_enc_dec_data_params)\n",
        "validation_dataset = TokenizerDataset(validation_data, src_tokenizer, tgt_tokenizer, **rnn_enc_dec_data_params)\n",
        "\n",
        "rnn_enc_dec_train_data = dict(\n",
        "    train_dataset=train_dataset,\n",
        "    validation_dataset=validation_dataset,\n",
        "    collate_fn=train_dataset.collate\n",
        ")\n",
        "\n",
        "# Resume training from the last checkpoint, if interrupted midway, else begins training from scratch.\n",
        "trainer.resume()\n",
        "\n",
        "# Train as per specified training parameters.\n",
        "trainer.train(**rnn_enc_dec_train_data, **rnn_enc_dec_training_params)"
      ]
    },
    {
      "cell_type": "code",
      "execution_count": 396,
      "metadata": {
        "id": "GtcTRlgs7S1M"
      },
      "outputs": [],
      "source": [
        "# Please do not change anything in the following cell.\n",
        "\n",
        "# Save the final model, with additional metadata.\n",
        "trainer.save(metadata={\n",
        "    'model'   : rnn_enc_dec_params,\n",
        "    'data'    : rnn_enc_dec_data_params,\n",
        "    'training': rnn_enc_dec_training_params\n",
        "})"
      ]
    },
    {
      "cell_type": "markdown",
      "metadata": {
        "id": "YUshh3Uv7S1N"
      },
      "source": [
        "To validate training, look at sample translations for different examples, and probabilities assigned to different outputs.\n",
        "\n",
        "Extensive evaluation and comparison against other approaches will be carried out later."
      ]
    },
    {
      "cell_type": "code",
      "execution_count": 397,
      "metadata": {
        "id": "USVATGO17S1O"
      },
      "outputs": [],
      "source": [
        "def rnn_greedy_generate(model, seq_x, src_tokenizer, tgt_tokenizer, max_length):\n",
        "    \"\"\" Given a source string, translate it to the target language using the trained model.\n",
        "        This function should perform greedy sampling to generate the results.\n",
        "\n",
        "    Args:\n",
        "        model (nn.Module): RNN Type Encoder-Decoder Model\n",
        "        seq_x (str): Input string to translate.\n",
        "        src_tokenizer (Tokenizer): Source language tokenizer.\n",
        "        tgt_tokenizer (Tokenizer): Target language tokenizer.\n",
        "        max_length (int): Maximum length of the target sequence to decode.\n",
        "\n",
        "    Returns:\n",
        "        str: Generated string for the given input in the target language.\n",
        "    \"\"\"\n",
        "\n",
        "    # BEGIN CODE : enc-dec-rnn.greedy_generate\n",
        "\n",
        "    # ADD YOUR CODE HERE\n",
        "\n",
        "    device = next(model.parameters()).device\n",
        "    \n",
        "    seq_x = src_tokenizer.encode(seq_x)\n",
        "    seq_x = torch.tensor(seq_x).unsqueeze(0).to(device) \n",
        "    numb = seq_x.shape[1]\n",
        "    decoder_input = torch.tensor([[tgt_tokenizer.get_special_tokens()['[BOS]']]]).to(device)\n",
        "    output_tokens = [tgt_tokenizer.get_special_tokens()['[BOS]']]\n",
        "    with torch.no_grad():\n",
        "        log_probs, decoder_hidden = model(seq_x, decoder_input)\n",
        "        for _ in range(numb-1):\n",
        "            top_token = log_probs.argmax(dim=-1).squeeze()\n",
        "            output_tokens.append(top_token.item())\n",
        "            if top_token.item() == tgt_tokenizer.get_special_tokens()['[EOS]']:\n",
        "                break\n",
        "            decoder_input = top_token.unsqueeze(0).unsqueeze(0).to(device)\n",
        "            log_probs, decoder_hidden = model(seq_x, decoder_input, decoder_hidden)\n",
        "    return tgt_tokenizer.decode(output_tokens)\n",
        "\n",
        "    # END CODE"
      ]
    },
    {
      "cell_type": "code",
      "execution_count": 398,
      "metadata": {
        "id": "tz4Ud06A7S1O"
      },
      "outputs": [
        {
          "name": "stdout",
          "output_type": "stream",
          "text": [
            "Name                      : वरिषा\n",
            "Translation (Expected)    : varisha\n",
            "Translation (Model)       : varisha\n",
            "\n",
            "Name                      : उजामा\n",
            "Translation (Expected)    : ujama\n",
            "Translation (Model)       : ujama\n",
            "\n",
            "Name                      : बिपिन\n",
            "Translation (Expected)    : bipin\n",
            "Translation (Model)       : bipin\n",
            "\n",
            "Name                      : मित्ठू\n",
            "Translation (Expected)    : mitthu\n",
            "Translation (Model)       : mitthu\n",
            "\n",
            "Name                      : रामैया\n",
            "Translation (Expected)    : ramaiya\n",
            "Translation (Model)       : raiya\n",
            "\n"
          ]
        }
      ],
      "source": [
        "# Please do not change anything in the following cell.\n",
        "\n",
        "for _, row in train_data.sample(n=5, random_state=42).iterrows():\n",
        "    y_pred = rnn_greedy_generate(\n",
        "        model, row['Name'], src_tokenizer, tgt_tokenizer,\n",
        "        max_length = rnn_enc_dec_data_params['tgt_padding']\n",
        "    )\n",
        "\n",
        "    print(\"Name                      :\", row['Name'])\n",
        "    print(\"Translation (Expected)    :\", row['Translation'])\n",
        "    print(\"Translation (Model)       :\", y_pred)\n",
        "\n",
        "    print()"
      ]
    },
    {
      "cell_type": "code",
      "execution_count": 399,
      "metadata": {
        "id": "FvEL5aYR7S1O"
      },
      "outputs": [
        {
          "name": "stdout",
          "output_type": "stream",
          "text": [
            "Name                      : दीन\n",
            "Translation (Expected)    : deen\n",
            "Translation (Model)       : deen\n",
            "\n",
            "Name                      : मुर्शिदा\n",
            "Translation (Expected)    : murshida\n",
            "Translation (Model)       : mursida\n",
            "\n",
            "Name                      : शबरा\n",
            "Translation (Expected)    : shabra\n",
            "Translation (Model)       : shabra\n",
            "\n",
            "Name                      : श्रीकांत\n",
            "Translation (Expected)    : shrikant\n",
            "Translation (Model)       : srikant\n",
            "\n",
            "Name                      : कौशल\n",
            "Translation (Expected)    : kaushal\n",
            "Translation (Model)       : kaushal\n",
            "\n"
          ]
        }
      ],
      "source": [
        "# Please do not change anything in the following cell.\n",
        "\n",
        "for _, row in validation_data.sample(n=5, random_state=42).iterrows():\n",
        "    y_pred = rnn_greedy_generate(\n",
        "        model, row['Name'], src_tokenizer, tgt_tokenizer,\n",
        "        max_length = rnn_enc_dec_data_params['tgt_padding']\n",
        "    )\n",
        "\n",
        "    print(\"Name                      :\", row['Name'])\n",
        "    print(\"Translation (Expected)    :\", row['Translation'])\n",
        "    print(\"Translation (Model)       :\", y_pred)\n",
        "\n",
        "    print()"
      ]
    },
    {
      "cell_type": "code",
      "execution_count": 400,
      "metadata": {
        "id": "GaoL9IUrsaFU"
      },
      "outputs": [],
      "source": [
        "# Please do not change anything in the following cell.\n",
        "\n",
        "output_data = []\n",
        "for _, row in validation_data.iterrows():\n",
        "    y_pred = rnn_greedy_generate(\n",
        "        model, row['Name'], src_tokenizer, tgt_tokenizer,\n",
        "        max_length = rnn_enc_dec_data_params['tgt_padding']\n",
        "    )\n",
        "    output_data.append({ 'Name': row['Name'], 'Translation': y_pred })\n",
        "\n",
        "pd.DataFrame.from_records(output_data).to_csv(\n",
        "    os.path.join(DIRECTORY_NAME, \"rnn.enc-dec\", \"outputs.csv\"), index=False\n",
        ")"
      ]
    },
    {
      "cell_type": "code",
      "execution_count": 401,
      "metadata": {
        "id": "-XRDFy1U7S1P"
      },
      "outputs": [],
      "source": [
        "# Please do not change anything in the following cell.\n",
        "\n",
        "# Release resources\n",
        "if 'trainer' in globals():\n",
        "    del trainer\n",
        "\n",
        "if 'model' in globals():\n",
        "    del model\n",
        "\n",
        "sync_vram()"
      ]
    },
    {
      "cell_type": "markdown",
      "metadata": {
        "id": "gkAB3ivx7S1Q"
      },
      "source": [
        "## Seq-2-Seq Modeling with RNN + Attention"
      ]
    },
    {
      "cell_type": "markdown",
      "metadata": {
        "id": "YPpFw0Fn7S1Q"
      },
      "source": [
        "In this module, you'll augment the Encoder-Decoder architecture to utilize attention, by implementing an Attention module that attends over the representations / inputs from the encoder.\n",
        "\n",
        "Many approaches have been proposed in literature towards implementing attention. You are free to explore and use any implementation of your choice.\n",
        "\n",
        "Some popular approaches are desribed in the original [paper by Bahdanau et al., 2014 on NMT](https://arxiv.org/abs/1409.0473) and an [exploratory paper by Luong et al, 2015](https://arxiv.org/abs/1508.04025) which explores different effective approaches to attention, including global and local attention."
      ]
    },
    {
      "cell_type": "code",
      "execution_count": 402,
      "metadata": {
        "id": "l2wmAoC77S1R"
      },
      "outputs": [],
      "source": [
        "## ==== BEGIN EVALUATION PORTION\n",
        "\n",
        "class AttentionModule(torch.nn.Module):\n",
        "    \"\"\" Implements an attention module \"\"\"\n",
        "\n",
        "    # Feel free to add additional parameters to __init__\n",
        "    def __init__(self, input_size,heads=1):\n",
        "        \"\"\" Initializes the attention module.\n",
        "            Feel free to declare any parameters as required. \"\"\"\n",
        "\n",
        "        super(AttentionModule, self).__init__()\n",
        "\n",
        "        # BEGIN CODE : attn.init\n",
        "\n",
        "        # ADD YOUR CODE HERE\n",
        "        feature_dim = input_size\n",
        "        for s in ['query', 'key', 'value']:\n",
        "            setattr(self, f'{s}_layer', torch.nn.Linear(feature_dim, feature_dim))\n",
        "        self.query_layer = torch.nn.Linear(input_size, input_size)\n",
        "        self.key_layer = torch.nn.Linear(input_size, input_size)\n",
        "        self.value_layer = torch.nn.Linear(input_size, input_size)\n",
        "        self.softmax = torch.nn.Softmax(dim=-1)\n",
        "\n",
        "        # END CODE\n",
        "\n",
        "    def forward(self, encoder_outputs, decoder_hidden_state):\n",
        "        \"\"\" Performs a forward pass over the module, computing attention scores for inputs.\n",
        "\n",
        "        Args:\n",
        "            encoder_outputs (torch.Tensor): Output representations from the encoder, of shape [batch_size?, src_seq_len, output_dim].\n",
        "            decoder_hidden_state (torch.Tensor): Hidden state from the decoder at current time step, of appropriate shape as per RNN unit (with optional batch dim).\n",
        "\n",
        "        Returns:\n",
        "            torch.Tensor: Attentions scores for given inputs, of shape [batch_size?, 1, src_seq_len]\n",
        "        \"\"\"\n",
        "\n",
        "        # BEGIN CODE : attn.forward\n",
        "\n",
        "        # ADD YOUR CODE HERE\n",
        "\n",
        "        while decoder_hidden_state.dim() != 3:\n",
        "            query = self.query_layer(decoder_hidden_state)  \n",
        "            query = query.unsqueeze(1)  \n",
        "            keys = self.key_layer(encoder_outputs)    \n",
        "            values = self.value_layer(encoder_outputs) \n",
        "            scores = torch.bmm(query, keys.transpose(1, 2)) \n",
        "            d_k = keys.size(-1)\n",
        "            scores = scores / (d_k ** 0.5)\n",
        "            attention_weights = self.softmax(scores)\n",
        "\n",
        "\n",
        "        if decoder_hidden_state.dim() == 3:\n",
        "            decoder_hidden_state = decoder_hidden_state[-1]  \n",
        "            query = self.query_layer(decoder_hidden_state)  \n",
        "            query = query.unsqueeze(1)\n",
        "            keys = self.key_layer(encoder_outputs)    \n",
        "            values = self.value_layer(encoder_outputs) \n",
        "            scores = torch.bmm(query, keys.transpose(1, 2)) \n",
        "            d_k = keys.size(-1)\n",
        "            scores = scores / (d_k ** 0.5)\n",
        "            attention_weights = self.softmax(scores)\n",
        "        \n",
        "        # Return the attention weights.\n",
        "        return attention_weights\n",
        "\n",
        "        # END CODE\n",
        "\n",
        "## ==== END EVALUATION PORTION"
      ]
    },
    {
      "cell_type": "code",
      "execution_count": 403,
      "metadata": {
        "id": "8q73WPlp7S1R"
      },
      "outputs": [],
      "source": [
        "## ==== BEGIN EVALUATION PORTION\n",
        "\n",
        "class RNNEncoderDecoderLMWithAttention(torch.nn.Module):\n",
        "    \"\"\" Implements an Encoder-Decoder network, using RNN units, augmented with attention. \"\"\"\n",
        "\n",
        "    # Feel free to add additional parameters to __init__\n",
        "    def __init__(self,src_vocab_size, tgt_vocab_size, embd_dims, hidden_size, num_layers=1, dropout=0.1):\n",
        "        \"\"\" Initializes the encoder-decoder network, implemented via RNNs.\n",
        "\n",
        "        Args:\n",
        "            src_vocab_size (int): Source vocabulary size.\n",
        "            tgt_vocab_size (int): Target vocabulary size.\n",
        "            embd_dims (int): Embedding dimensions.\n",
        "            hidden_size (int): Size/Dimensions for the hidden states.\n",
        "        \"\"\"\n",
        "\n",
        "        super(RNNEncoderDecoderLMWithAttention, self).__init__()\n",
        "\n",
        "        # Dummy parameter to track the model device. Do not modify.\n",
        "        self._dummy_param = torch.nn.Parameter(torch.Tensor(0), requires_grad=False)\n",
        "\n",
        "        # BEGIN CODE : enc-dec-rnn-attn.init\n",
        "\n",
        "        # ADD YOUR CODE HERE\n",
        "\n",
        "        self.src_embedding= torch.nn.Embedding(src_vocab_size, embd_dims) \n",
        "        self.tgt_embedding= torch.nn.Embedding(tgt_vocab_size, embd_dims)\n",
        "\n",
        "        self.encoder = torch.nn.GRU(embd_dims, hidden_size, num_layers, batch_first=True, dropout=dropout if num_layers > 1 else 0)\n",
        "\n",
        "        self.decoder = torch.nn.GRU(embd_dims + hidden_size, hidden_size, num_layers,batch_first=True,dropout=dropout if num_layers > 1 else 0)\n",
        "\n",
        "        self.output_layer = torch.nn.Linear(hidden_size, tgt_vocab_size)\n",
        "        self.dropout_layer= torch.nn.Dropout(dropout)\n",
        "        self.attention = AttentionModule(hidden_size)\n",
        "\n",
        "        # END CODE\n",
        "\n",
        "    @property\n",
        "    def device(self):\n",
        "        return self._dummy_param.device\n",
        "\n",
        "    def log_probability(self, seq_x, seq_y):\n",
        "        \"\"\" Compute the conditional log probability of seq_y given seq_x, i.e., log P(seq_y | seq_x).\n",
        "\n",
        "        Args:\n",
        "            seq_x (torch.tensor): Input sequence of tokens, of shape [src_seq_len] (no batch dim)\n",
        "            seq_y (torch.tensor): Output sequence of tokens, of shape [tgt_seq_len] (no batch dim)\n",
        "\n",
        "        Returns:\n",
        "            float: Log probability of generating sequence y, given sequence x.\n",
        "        \"\"\"\n",
        "\n",
        "        # BEGIN CODE : enc-dec-rnn-attn.probability\n",
        "\n",
        "        # ADD YOUR CODE HERE\n",
        "\n",
        "        self.train()\n",
        "        \n",
        "        seq_x = seq_x.to(self.device)\n",
        "        seq_y = seq_y.to(self.device)\n",
        "        \n",
        "        decoder_input = seq_y[:, :-1]  \n",
        "        decoder_target = seq_y[:, 1:]  # All but first token\n",
        "        \n",
        "        log_probs, _ = self(seq_x, decoder_input)\n",
        "        \n",
        "        log_probs = log_probs.reshape(-1, log_probs.size(-1))\n",
        "        decoder_target = decoder_target.reshape(-1)\n",
        "        \n",
        "        loss = torch.nn.functional.nll_loss(\n",
        "            log_probs, \n",
        "            decoder_target, \n",
        "            ignore_index=0  \n",
        "        )\n",
        "        \n",
        "        return -loss\n",
        "\n",
        "        # END CODE\n",
        "\n",
        "    def attentions(self, seq_x, terminate_token, max_length):\n",
        "        \"\"\" Obtain attention over a sequence for decoding to the target language.\n",
        "\n",
        "        Args:\n",
        "            seq_x (torch.tensor): Tensor representing the source sequence, of shape [src_seq_len] (no batch dim)\n",
        "            terminate_token (int): Token to use as EOS, to stop generating outputs.\n",
        "            max_length (int): Maximum length to use to terminate the sampling.\n",
        "\n",
        "        Returns:\n",
        "            tuple[torch.tensor, torch.tensor]:\n",
        "                A tuple of two tensors: the attentions over individual output tokens ([tgt_seq_len, src_seq_len])\n",
        "                and the best output tokens ([tgt_seq_len]) per sequence step, based on greedy sampling.\n",
        "        \"\"\"\n",
        "\n",
        "        # BEGIN CODE : rnn-enc-dec-attn.attentions\n",
        "\n",
        "        # ADD YOUR CODE HERE\n",
        "\n",
        "        seq_x = seq_x[None,:].to(self.device)\n",
        "        embedded_inputs = self.dropout_layer(self.src_embedding(seq_x))\n",
        "        encoder_outputs, encoder_hidden = self.encoder(embedded_inputs)\n",
        "        decoder_hidden_state = encoder_hidden\n",
        "        bos_token = 1\n",
        "        decoder_input = torch.tensor([[bos_token]], dtype=torch.long, device=self.device)\n",
        "        generated_tokens = []\n",
        "        all_attn_weights = []\n",
        "        for counter in range(max_length):\n",
        "            if isinstance(decoder_hidden_state, tuple):\n",
        "                hidden_for_attn = decoder_hidden_state[0][-1]\n",
        "            else:\n",
        "                hidden_for_attn = decoder_hidden_state\n",
        "            attn_weights = self.attention(encoder_outputs, hidden_for_attn)\n",
        "            context = torch.bmm(attn_weights, encoder_outputs)\n",
        "            current_embedding = self.dropout_layer(self.tgt_embedding(decoder_input))\n",
        "            decoder_input_combined = torch.cat((current_embedding, context), dim=2)\n",
        "            decoder_output, decoder_hidden_state = self.decoder(decoder_input_combined, decoder_hidden_state)\n",
        "            logits = self.output_layer(decoder_output)\n",
        "            log_probs = torch.log_softmax(logits, dim=-1)\n",
        "            next_token = log_probs.argmax(dim=-1)\n",
        "            token_id = next_token.item()\n",
        "            generated_tokens.append(token_id)\n",
        "            all_attn_weights.append(attn_weights.squeeze(1))\n",
        "            if token_id == terminate_token:\n",
        "                break\n",
        "            decoder_input = next_token\n",
        "        attentions = torch.cat(all_attn_weights, dim=0)\n",
        "        best_tokens = torch.tensor(generated_tokens, dtype=torch.long)\n",
        "        return attentions.detach().cpu(), best_tokens\n",
        "\n",
        "        # END CODE\n",
        "\n",
        "    def forward(self, inputs, decoder_inputs=None, decoder_hidden_state=None, output_attention=False):\n",
        "        \"\"\" Performs a forward pass over the encoder-decoder network.\n",
        "\n",
        "            Accepts inputs for the encoder, inputs for the decoder, and hidden state for\n",
        "                the decoder to continue generation after the given input.\n",
        "\n",
        "        Args:\n",
        "            inputs (torch.Tensor): tensor of shape [batch_size?, src_seq_len]\n",
        "            decoder_inputs (torch.Tensor): Decoder inputs, as tensor of shape [batch_size?, 1]\n",
        "            decoder_hidden_state (any): tensor to represent decoder hidden state from time step T-1.\n",
        "            output_attention (bool): If true, this function should also return the\n",
        "                associated attention weights for the time step, of shape [batch_size?, 1, src_seq_len].\n",
        "\n",
        "        Returns:\n",
        "            tuple[torch.Tensor, any]: output from the decoder, and associated hidden state for the next step.\n",
        "\n",
        "            Decoder outputs should be log probabilities over the target vocabulary.\n",
        "\n",
        "        Example:\n",
        "        >>> model = RNNEncoderDecoderWithAttention(*args, **kwargs)\n",
        "        >>> output, hidden = model(..., output_attention=False)\n",
        "        >>> output, hidden, attn_weights = model(..., output_attention=True)\n",
        "        \"\"\"\n",
        "\n",
        "        # BEGIN CODE : enc-dec-rnn-attn.forward\n",
        "\n",
        "        # ADD YOUR CODE HERE\n",
        "\n",
        "        embedded_inputs = self.dropout_layer(self.src_embedding(inputs))\n",
        "        encoder_outputs, encoder_hidden = self.encoder(embedded_inputs)\n",
        "        while decoder_hidden_state is not None:\n",
        "            while decoder_inputs is not None:\n",
        "                batch_size, tgt_seq_len = decoder_inputs.size()\n",
        "                outputs = []\n",
        "                all_attn_weights = []\n",
        "                for t in range(tgt_seq_len):\n",
        "                    current_token = decoder_inputs[:, t].unsqueeze(1)\n",
        "                    current_embedding = self.dropout_layer(self.tgt_embedding(current_token))\n",
        "                    if isinstance(decoder_hidden_state, tuple):\n",
        "                        hidden_for_attn = decoder_hidden_state[0][-1]\n",
        "                    else:\n",
        "                        hidden_for_attn = decoder_hidden_state\n",
        "                    attention_weights = self.attention(encoder_outputs, hidden_for_attn)\n",
        "                    context = torch.bmm(attention_weights, encoder_outputs)\n",
        "                    decoder_input_combined = torch.cat((current_embedding, context), dim=2)\n",
        "                    decoder_output, decoder_hidden_state = self.decoder(decoder_input_combined, decoder_hidden_state)\n",
        "                    logits = self.output_layer(decoder_output)\n",
        "                    log_probs = torch.log_softmax(logits, dim=-1)\n",
        "                    outputs.append(log_probs)\n",
        "                    all_attn_weights.append(attention_weights)\n",
        "                outputs = torch.cat(outputs, dim=1)\n",
        "                if output_attention:\n",
        "                    attention_weights = torch.cat(all_attn_weights, dim=1)\n",
        "                    return outputs, decoder_hidden_state, attention_weights\n",
        "                else:\n",
        "                    return outputs, decoder_hidden_state\n",
        "            if decoder_inputs is None:\n",
        "                raise ValueError(\"decoder_inputs must be provided during training.\")\n",
        "\n",
        "        if decoder_hidden_state is None:\n",
        "            decoder_hidden_state = encoder_hidden\n",
        "            while decoder_hidden_state is not None:\n",
        "                _, tgt_seq_len = decoder_inputs.size()\n",
        "                outputs = []\n",
        "                all_attn_weights = []\n",
        "                for t in range(tgt_seq_len):\n",
        "                    current_token = decoder_inputs[:, t].unsqueeze(1)\n",
        "                    current_embedding = self.dropout_layer(self.tgt_embedding(current_token))\n",
        "                    if isinstance(decoder_hidden_state, tuple):\n",
        "                        hidden_for_attn = decoder_hidden_state[0][-1]\n",
        "                    else:\n",
        "                        hidden_for_attn = decoder_hidden_state\n",
        "                    attention_weights = self.attention(encoder_outputs, hidden_for_attn)\n",
        "                    context = torch.bmm(attention_weights, encoder_outputs)\n",
        "                    decoder_input_combined = torch.cat((current_embedding, context), dim=2)\n",
        "                    decoder_output, decoder_hidden_state = self.decoder(decoder_input_combined, decoder_hidden_state)\n",
        "                    logits = self.output_layer(decoder_output)\n",
        "                    log_probs = torch.log_softmax(logits, dim=-1)\n",
        "                    outputs.append(log_probs)\n",
        "                    all_attn_weights.append(attention_weights)\n",
        "                outputs = torch.cat(outputs, dim=1)\n",
        "                if output_attention:\n",
        "                    attention_weights = torch.cat(all_attn_weights, dim=1)\n",
        "                    return outputs, decoder_hidden_state, attention_weights\n",
        "                else:\n",
        "                    return outputs, decoder_hidden_state\n",
        "            if decoder_inputs is None:\n",
        "                raise ValueError(\"decoder_inputs must be provided during training.\")\n",
        "                \n",
        "\n",
        "        # END CODE\n",
        "\n",
        "## ==== END EVALUATION PORTION\n"
      ]
    },
    {
      "cell_type": "code",
      "execution_count": 404,
      "metadata": {
        "id": "cuLUZV167S1S"
      },
      "outputs": [],
      "source": [
        "## == BEGIN EVALUATION PORTION\n",
        "\n",
        "# Edit the hyperparameters below to your desired values.\n",
        "\n",
        "# BEGIN CODE : rnn-enc-dec-attn.params\n",
        "\n",
        "# Add parameters related to the model here.\n",
        "rnn_enc_dec_attn_params = {\n",
        "    'src_vocab_size': len(src_tokenizer.get_vocabulary()),\n",
        "    'tgt_vocab_size': len(tgt_tokenizer.get_vocabulary()),\n",
        "    'embd_dims'     : 512,\n",
        "    'hidden_size'   : 1024,\n",
        "    'dropout'       : 0.1,\n",
        "    'num_layers'    : 3\n",
        "}\n",
        "\n",
        "# Add parameters related to the dataset processing here.\n",
        "rnn_enc_dec_attn_data_params = dict(\n",
        "    src_padding=15,\n",
        "    tgt_padding=15,\n",
        ")\n",
        "\n",
        "# Add parameters related to training here.\n",
        "rnn_enc_dec_attn_training_params = dict(\n",
        "    num_epochs=20,\n",
        "    batch_size=32,\n",
        "    shuffle=True,\n",
        "    save_steps=100,\n",
        "    eval_steps=100\n",
        ")\n",
        "\n",
        "# END CODE\n",
        "\n",
        "# Do not forget to set a deterministic seed.\n",
        "torch.manual_seed(42)\n",
        "\n",
        "model = RNNEncoderDecoderLMWithAttention(**rnn_enc_dec_attn_params)\n",
        "\n",
        "# BEGIN CODE : rnn-enc-dec-attn.train\n",
        "\n",
        "# ADD YOUR CODE HERE\n",
        "optimizer = torch.optim.Adam(model.parameters(), lr=0.0005)\n",
        "criterion = torch.nn.NLLLoss(ignore_index=tgt_tokenizer.get_special_tokens()['[PAD]'])\n",
        "\n",
        "# END CODE\n",
        "\n",
        "trainer = RNNEncoderDecoderTrainer(\n",
        "    os.path.join(DIRECTORY_NAME, \"rnn.enc-dec.attn\"),\n",
        "    model, criterion, optimizer\n",
        ")\n",
        "\n",
        "## == END EVALUATION PORTION"
      ]
    },
    {
      "cell_type": "code",
      "execution_count": 405,
      "metadata": {
        "id": "H_oypGhq7S1S"
      },
      "outputs": [
        {
          "name": "stderr",
          "output_type": "stream",
          "text": [
            "Epoch 1 / 20:   0%|          | 0/2820 [00:00<?, ?it/s]"
          ]
        },
        {
          "name": "stderr",
          "output_type": "stream",
          "text": [
            "Epoch 1 / 20:   4%|▎         | 100/2820 [00:16<07:26,  6.09it/s, batch=100, loss=3.16]"
          ]
        },
        {
          "name": "stdout",
          "output_type": "stream",
          "text": [
            "[>] epoch # 1, batch #100: loss: 3.15876961 | val_loss: 3.10176268\n"
          ]
        },
        {
          "name": "stderr",
          "output_type": "stream",
          "text": [
            "Epoch 2 / 20:   7%|▋         | 200/2820 [00:33<07:13,  6.05it/s, batch=59, loss=2.03] "
          ]
        },
        {
          "name": "stdout",
          "output_type": "stream",
          "text": [
            "[>] epoch # 2, batch # 59: loss: 2.03015828 | val_loss: 1.76662979\n"
          ]
        },
        {
          "name": "stderr",
          "output_type": "stream",
          "text": [
            "Epoch 3 / 20:  11%|█         | 300/2820 [00:50<06:54,  6.08it/s, batch=18, loss=0.845] "
          ]
        },
        {
          "name": "stdout",
          "output_type": "stream",
          "text": [
            "[>] epoch # 3, batch # 18: loss: 0.84482157 | val_loss: 1.03062770\n"
          ]
        },
        {
          "name": "stderr",
          "output_type": "stream",
          "text": [
            "Epoch 3 / 20:  14%|█▍        | 400/2820 [01:07<06:38,  6.07it/s, batch=118, loss=0.852]"
          ]
        },
        {
          "name": "stdout",
          "output_type": "stream",
          "text": [
            "[>] epoch # 3, batch #118: loss: 0.85232919 | val_loss: 0.81178762\n"
          ]
        },
        {
          "name": "stderr",
          "output_type": "stream",
          "text": [
            "Epoch 4 / 20:  18%|█▊        | 500/2820 [01:24<06:24,  6.03it/s, batch=77, loss=0.556] "
          ]
        },
        {
          "name": "stdout",
          "output_type": "stream",
          "text": [
            "[>] epoch # 4, batch # 77: loss: 0.55571908 | val_loss: 0.74490978\n"
          ]
        },
        {
          "name": "stderr",
          "output_type": "stream",
          "text": [
            "Epoch 5 / 20:  21%|██▏       | 600/2820 [01:41<06:07,  6.05it/s, batch=36, loss=0.345] "
          ]
        },
        {
          "name": "stdout",
          "output_type": "stream",
          "text": [
            "[>] epoch # 5, batch # 36: loss: 0.34517318 | val_loss: 0.64329476\n"
          ]
        },
        {
          "name": "stderr",
          "output_type": "stream",
          "text": [
            "Epoch 5 / 20:  25%|██▍       | 700/2820 [01:58<05:51,  6.03it/s, batch=136, loss=0.532]"
          ]
        },
        {
          "name": "stdout",
          "output_type": "stream",
          "text": [
            "[>] epoch # 5, batch #136: loss: 0.53224754 | val_loss: 0.69294482\n"
          ]
        },
        {
          "name": "stderr",
          "output_type": "stream",
          "text": [
            "Epoch 6 / 20:  28%|██▊       | 800/2820 [02:15<05:33,  6.06it/s, batch=95, loss=0.226] "
          ]
        },
        {
          "name": "stdout",
          "output_type": "stream",
          "text": [
            "[>] epoch # 6, batch # 95: loss: 0.22600257 | val_loss: 0.65367035\n"
          ]
        },
        {
          "name": "stderr",
          "output_type": "stream",
          "text": [
            "Epoch 7 / 20:  32%|███▏      | 900/2820 [02:33<05:16,  6.07it/s, batch=54, loss=0.147] "
          ]
        },
        {
          "name": "stdout",
          "output_type": "stream",
          "text": [
            "[>] epoch # 7, batch # 54: loss: 0.14735542 | val_loss: 0.64447692\n"
          ]
        },
        {
          "name": "stderr",
          "output_type": "stream",
          "text": [
            "Epoch 8 / 20:  35%|███▌      | 1000/2820 [02:50<04:59,  6.08it/s, batch=13, loss=0.103] "
          ]
        },
        {
          "name": "stdout",
          "output_type": "stream",
          "text": [
            "[>] epoch # 8, batch # 13: loss: 0.10296757 | val_loss: 0.68194694\n"
          ]
        },
        {
          "name": "stderr",
          "output_type": "stream",
          "text": [
            "Epoch 8 / 20:  39%|███▉      | 1100/2820 [03:07<04:44,  6.04it/s, batch=113, loss=0.0919]"
          ]
        },
        {
          "name": "stdout",
          "output_type": "stream",
          "text": [
            "[>] epoch # 8, batch #113: loss: 0.09192999 | val_loss: 0.66865822\n"
          ]
        },
        {
          "name": "stderr",
          "output_type": "stream",
          "text": [
            "Epoch 9 / 20:  43%|████▎     | 1200/2820 [03:24<04:25,  6.09it/s, batch=72, loss=0.106]  "
          ]
        },
        {
          "name": "stdout",
          "output_type": "stream",
          "text": [
            "[>] epoch # 9, batch # 72: loss: 0.10639109 | val_loss: 0.68579161\n"
          ]
        },
        {
          "name": "stderr",
          "output_type": "stream",
          "text": [
            "Epoch 10 / 20:  46%|████▌     | 1300/2820 [03:41<04:10,  6.08it/s, batch=31, loss=0.119] "
          ]
        },
        {
          "name": "stdout",
          "output_type": "stream",
          "text": [
            "[>] epoch #10, batch # 31: loss: 0.11948634 | val_loss: 0.68141519\n"
          ]
        },
        {
          "name": "stderr",
          "output_type": "stream",
          "text": [
            "Epoch 10 / 20:  50%|████▉     | 1400/2820 [03:58<03:54,  6.06it/s, batch=131, loss=0.11]  "
          ]
        },
        {
          "name": "stdout",
          "output_type": "stream",
          "text": [
            "[>] epoch #10, batch #131: loss: 0.11047590 | val_loss: 0.72030918\n"
          ]
        },
        {
          "name": "stderr",
          "output_type": "stream",
          "text": [
            "Epoch 11 / 20:  53%|█████▎    | 1500/2820 [04:15<03:39,  6.03it/s, batch=90, loss=0.122]  "
          ]
        },
        {
          "name": "stdout",
          "output_type": "stream",
          "text": [
            "[>] epoch #11, batch # 90: loss: 0.12225486 | val_loss: 0.68222706\n"
          ]
        },
        {
          "name": "stderr",
          "output_type": "stream",
          "text": [
            "Epoch 12 / 20:  57%|█████▋    | 1600/2820 [04:32<03:21,  6.06it/s, batch=49, loss=0.108]  "
          ]
        },
        {
          "name": "stdout",
          "output_type": "stream",
          "text": [
            "[>] epoch #12, batch # 49: loss: 0.10830878 | val_loss: 0.69274289\n"
          ]
        },
        {
          "name": "stderr",
          "output_type": "stream",
          "text": [
            "Epoch 13 / 20:  60%|██████    | 1700/2820 [04:49<03:04,  6.08it/s, batch=8, loss=0.0585]  "
          ]
        },
        {
          "name": "stdout",
          "output_type": "stream",
          "text": [
            "[>] epoch #13, batch #  8: loss: 0.05850342 | val_loss: 0.73119212\n"
          ]
        },
        {
          "name": "stderr",
          "output_type": "stream",
          "text": [
            "Epoch 13 / 20:  64%|██████▍   | 1800/2820 [05:06<02:47,  6.07it/s, batch=108, loss=0.0948]"
          ]
        },
        {
          "name": "stdout",
          "output_type": "stream",
          "text": [
            "[>] epoch #13, batch #108: loss: 0.09482667 | val_loss: 0.72418091\n"
          ]
        },
        {
          "name": "stderr",
          "output_type": "stream",
          "text": [
            "Epoch 14 / 20:  67%|██████▋   | 1900/2820 [05:23<02:32,  6.03it/s, batch=67, loss=0.0284]  "
          ]
        },
        {
          "name": "stdout",
          "output_type": "stream",
          "text": [
            "[>] epoch #14, batch # 67: loss: 0.02838577 | val_loss: 0.73040580\n"
          ]
        },
        {
          "name": "stderr",
          "output_type": "stream",
          "text": [
            "Epoch 15 / 20:  71%|███████   | 2000/2820 [05:41<02:15,  6.06it/s, batch=26, loss=0.119]  "
          ]
        },
        {
          "name": "stdout",
          "output_type": "stream",
          "text": [
            "[>] epoch #15, batch # 26: loss: 0.11901027 | val_loss: 0.73996484\n"
          ]
        },
        {
          "name": "stderr",
          "output_type": "stream",
          "text": [
            "Epoch 15 / 20:  74%|███████▍  | 2100/2820 [05:58<01:58,  6.07it/s, batch=126, loss=0.12]  "
          ]
        },
        {
          "name": "stdout",
          "output_type": "stream",
          "text": [
            "[>] epoch #15, batch #126: loss: 0.12041136 | val_loss: 0.75775937\n"
          ]
        },
        {
          "name": "stderr",
          "output_type": "stream",
          "text": [
            "Epoch 16 / 20:  78%|███████▊  | 2200/2820 [06:15<01:42,  6.07it/s, batch=85, loss=0.117]  "
          ]
        },
        {
          "name": "stdout",
          "output_type": "stream",
          "text": [
            "[>] epoch #16, batch # 85: loss: 0.11675042 | val_loss: 0.73558547\n"
          ]
        },
        {
          "name": "stderr",
          "output_type": "stream",
          "text": [
            "Epoch 17 / 20:  82%|████████▏ | 2300/2820 [06:32<01:26,  6.03it/s, batch=44, loss=0.0924]  "
          ]
        },
        {
          "name": "stdout",
          "output_type": "stream",
          "text": [
            "[>] epoch #17, batch # 44: loss: 0.09242824 | val_loss: 0.74751293\n"
          ]
        },
        {
          "name": "stderr",
          "output_type": "stream",
          "text": [
            "Epoch 18 / 20:  85%|████████▌ | 2400/2820 [06:49<01:08,  6.17it/s, batch=3, loss=0.0588]  "
          ]
        },
        {
          "name": "stdout",
          "output_type": "stream",
          "text": [
            "[>] epoch #18, batch #  3: loss: 0.05876998 | val_loss: 0.76172089\n"
          ]
        },
        {
          "name": "stderr",
          "output_type": "stream",
          "text": [
            "Epoch 18 / 20:  89%|████████▊ | 2500/2820 [07:06<00:52,  6.06it/s, batch=103, loss=0.132] "
          ]
        },
        {
          "name": "stdout",
          "output_type": "stream",
          "text": [
            "[>] epoch #18, batch #103: loss: 0.13212481 | val_loss: 0.74929888\n"
          ]
        },
        {
          "name": "stderr",
          "output_type": "stream",
          "text": [
            "Epoch 19 / 20:  92%|█████████▏| 2600/2820 [07:23<00:36,  6.05it/s, batch=62, loss=0.0663]  "
          ]
        },
        {
          "name": "stdout",
          "output_type": "stream",
          "text": [
            "[>] epoch #19, batch # 62: loss: 0.06631579 | val_loss: 0.74537777\n"
          ]
        },
        {
          "name": "stderr",
          "output_type": "stream",
          "text": [
            "Epoch 20 / 20:  96%|█████████▌| 2700/2820 [07:40<00:19,  6.06it/s, batch=21, loss=0.0494]  "
          ]
        },
        {
          "name": "stdout",
          "output_type": "stream",
          "text": [
            "[>] epoch #20, batch # 21: loss: 0.04942473 | val_loss: 0.78166221\n"
          ]
        },
        {
          "name": "stderr",
          "output_type": "stream",
          "text": [
            "Epoch 20 / 20:  99%|█████████▉| 2800/2820 [07:57<00:03,  6.06it/s, batch=121, loss=0.0898]"
          ]
        },
        {
          "name": "stdout",
          "output_type": "stream",
          "text": [
            "[>] epoch #20, batch #121: loss: 0.08982083 | val_loss: 0.79724737\n"
          ]
        },
        {
          "name": "stderr",
          "output_type": "stream",
          "text": [
            "Epoch 20 / 20: 100%|██████████| 2820/2820 [08:02<00:00,  5.85it/s, batch=141, loss=0.169] \n"
          ]
        }
      ],
      "source": [
        "# Please do not change anything in the following cell.\n",
        "\n",
        "train_dataset      = TokenizerDataset(train_data     , src_tokenizer, tgt_tokenizer, **rnn_enc_dec_attn_data_params)\n",
        "validation_dataset = TokenizerDataset(validation_data, src_tokenizer, tgt_tokenizer, **rnn_enc_dec_attn_data_params)\n",
        "\n",
        "rnn_enc_dec_attn_train_data = dict(\n",
        "    train_dataset=train_dataset,\n",
        "    validation_dataset=validation_dataset,\n",
        "    collate_fn=train_dataset.collate\n",
        ")\n",
        "\n",
        "# Resume training from the last checkpoint, if interrupted midway, otherwise starts from scratch.\n",
        "trainer.resume()\n",
        "\n",
        "# Train as per specified training parameters.\n",
        "trainer.train(**rnn_enc_dec_attn_train_data, **rnn_enc_dec_attn_training_params)"
      ]
    },
    {
      "cell_type": "code",
      "execution_count": 406,
      "metadata": {
        "id": "bAYwB5i47S1T"
      },
      "outputs": [],
      "source": [
        "# Please do not change anything in the following cell.\n",
        "\n",
        "# Save the final model, with additional metadata.\n",
        "trainer.save(metadata={\n",
        "    'model'   : rnn_enc_dec_attn_params,\n",
        "    'data'    : rnn_enc_dec_attn_data_params,\n",
        "    'training': rnn_enc_dec_attn_training_params\n",
        "})"
      ]
    },
    {
      "cell_type": "markdown",
      "metadata": {
        "id": "0qIb8Qkg7S1T"
      },
      "source": [
        "We can validate the model using a few simple tests as below:"
      ]
    },
    {
      "cell_type": "code",
      "execution_count": 407,
      "metadata": {
        "id": "f1RKp9rM7S1T"
      },
      "outputs": [
        {
          "name": "stdout",
          "output_type": "stream",
          "text": [
            "Name                      : वरिषा\n",
            "Translation (Expected)    : varisha\n",
            "Translation (Model)       : varisha\n",
            "\n",
            "Name                      : उजामा\n",
            "Translation (Expected)    : ujama\n",
            "Translation (Model)       : ujama\n",
            "\n",
            "Name                      : बिपिन\n",
            "Translation (Expected)    : bipin\n",
            "Translation (Model)       : bipin\n",
            "\n",
            "Name                      : मित्ठू\n",
            "Translation (Expected)    : mitthu\n",
            "Translation (Model)       : mitthu\n",
            "\n",
            "Name                      : रामैया\n",
            "Translation (Expected)    : ramaiya\n",
            "Translation (Model)       : ramaiya\n",
            "\n"
          ]
        }
      ],
      "source": [
        "# Please do not change anything in the following cell.\n",
        "\n",
        "for _, row in train_data.sample(n=5, random_state=42).iterrows():\n",
        "    y_pred = rnn_greedy_generate(\n",
        "        model, row['Name'], src_tokenizer, tgt_tokenizer,\n",
        "        max_length = rnn_enc_dec_attn_data_params['tgt_padding']\n",
        "    )\n",
        "\n",
        "    print(\"Name                      :\", row['Name'])\n",
        "    print(\"Translation (Expected)    :\", row['Translation'])\n",
        "    print(\"Translation (Model)       :\", y_pred)\n",
        "\n",
        "    print()"
      ]
    },
    {
      "cell_type": "code",
      "execution_count": 408,
      "metadata": {
        "id": "rt6MLKYX7S1U"
      },
      "outputs": [
        {
          "name": "stdout",
          "output_type": "stream",
          "text": [
            "Name                      : दीन\n",
            "Translation (Expected)    : deen\n",
            "Translation (Model)       : deen\n",
            "\n",
            "Name                      : मुर्शिदा\n",
            "Translation (Expected)    : murshida\n",
            "Translation (Model)       : mursida\n",
            "\n",
            "Name                      : शबरा\n",
            "Translation (Expected)    : shabra\n",
            "Translation (Model)       : shabra\n",
            "\n",
            "Name                      : श्रीकांत\n",
            "Translation (Expected)    : shrikant\n",
            "Translation (Model)       : srikant\n",
            "\n",
            "Name                      : कौशल\n",
            "Translation (Expected)    : kaushal\n",
            "Translation (Model)       : kaushal\n",
            "\n"
          ]
        }
      ],
      "source": [
        "# Please do not change anything in the following cell.\n",
        "\n",
        "for _, row in validation_data.sample(n=5, random_state=42).iterrows():\n",
        "    y_pred = rnn_greedy_generate(\n",
        "        model, row['Name'], src_tokenizer, tgt_tokenizer,\n",
        "        max_length = rnn_enc_dec_attn_data_params['tgt_padding']\n",
        "    )\n",
        "\n",
        "    print(\"Name                      :\", row['Name'])\n",
        "    print(\"Translation (Expected)    :\", row['Translation'])\n",
        "    print(\"Translation (Model)       :\", y_pred)\n",
        "\n",
        "    print()"
      ]
    },
    {
      "cell_type": "markdown",
      "metadata": {
        "id": "i8BHmGBR7S1U"
      },
      "source": [
        "It may also be useful to look at attention maps for different examples:"
      ]
    },
    {
      "cell_type": "code",
      "execution_count": 409,
      "metadata": {
        "id": "1KM7dAFi7S1U"
      },
      "outputs": [],
      "source": [
        "# Please do not change anything in the following cell.\n",
        "\n",
        "def visualize_attention(src_glyphs, tgt_glyphs, attention, axes):\n",
        "    axes.matshow(attention.numpy(), cmap='bone')\n",
        "\n",
        "    axes.set_xticks(numpy.arange(len(src_glyphs)), labels=src_glyphs)\n",
        "    axes.set_yticks(numpy.arange(len(tgt_glyphs)), labels=tgt_glyphs)"
      ]
    },
    {
      "cell_type": "code",
      "execution_count": 410,
      "metadata": {
        "id": "OixmEkuF7S1V"
      },
      "outputs": [
        {
          "name": "stderr",
          "output_type": "stream",
          "text": [
            "/home/manojkumark/Desktop/.venv/lib/python3.10/site-packages/IPython/core/events.py:82: UserWarning: Glyph 108 (l) missing from font(s) Samyak Devanagari.\n",
            "  func(*args, **kwargs)\n",
            "/home/manojkumark/Desktop/.venv/lib/python3.10/site-packages/IPython/core/events.py:82: UserWarning: Glyph 112 (p) missing from font(s) Samyak Devanagari.\n",
            "  func(*args, **kwargs)\n",
            "/home/manojkumark/Desktop/.venv/lib/python3.10/site-packages/IPython/core/events.py:82: UserWarning: Glyph 91 ([) missing from font(s) Samyak Devanagari.\n",
            "  func(*args, **kwargs)\n",
            "/home/manojkumark/Desktop/.venv/lib/python3.10/site-packages/IPython/core/events.py:82: UserWarning: Glyph 66 (B) missing from font(s) Samyak Devanagari.\n",
            "  func(*args, **kwargs)\n",
            "/home/manojkumark/Desktop/.venv/lib/python3.10/site-packages/IPython/core/events.py:82: UserWarning: Glyph 79 (O) missing from font(s) Samyak Devanagari.\n",
            "  func(*args, **kwargs)\n",
            "/home/manojkumark/Desktop/.venv/lib/python3.10/site-packages/IPython/core/events.py:82: UserWarning: Glyph 83 (S) missing from font(s) Samyak Devanagari.\n",
            "  func(*args, **kwargs)\n",
            "/home/manojkumark/Desktop/.venv/lib/python3.10/site-packages/IPython/core/events.py:82: UserWarning: Glyph 93 (]) missing from font(s) Samyak Devanagari.\n",
            "  func(*args, **kwargs)\n",
            "/home/manojkumark/Desktop/.venv/lib/python3.10/site-packages/IPython/core/events.py:82: UserWarning: Glyph 65533 (\\N{REPLACEMENT CHARACTER}) missing from font(s) Samyak Devanagari.\n",
            "  func(*args, **kwargs)\n",
            "/home/manojkumark/Desktop/.venv/lib/python3.10/site-packages/IPython/core/events.py:82: UserWarning: Glyph 69 (E) missing from font(s) Samyak Devanagari.\n",
            "  func(*args, **kwargs)\n",
            "/home/manojkumark/Desktop/.venv/lib/python3.10/site-packages/IPython/core/events.py:82: UserWarning: Glyph 118 (v) missing from font(s) Samyak Devanagari.\n",
            "  func(*args, **kwargs)\n",
            "/home/manojkumark/Desktop/.venv/lib/python3.10/site-packages/IPython/core/events.py:82: UserWarning: Glyph 97 (a) missing from font(s) Samyak Devanagari.\n",
            "  func(*args, **kwargs)\n",
            "/home/manojkumark/Desktop/.venv/lib/python3.10/site-packages/IPython/core/events.py:82: UserWarning: Glyph 114 (r) missing from font(s) Samyak Devanagari.\n",
            "  func(*args, **kwargs)\n",
            "/home/manojkumark/Desktop/.venv/lib/python3.10/site-packages/IPython/core/events.py:82: UserWarning: Glyph 105 (i) missing from font(s) Samyak Devanagari.\n",
            "  func(*args, **kwargs)\n",
            "/home/manojkumark/Desktop/.venv/lib/python3.10/site-packages/IPython/core/events.py:82: UserWarning: Glyph 115 (s) missing from font(s) Samyak Devanagari.\n",
            "  func(*args, **kwargs)\n",
            "/home/manojkumark/Desktop/.venv/lib/python3.10/site-packages/IPython/core/events.py:82: UserWarning: Glyph 104 (h) missing from font(s) Samyak Devanagari.\n",
            "  func(*args, **kwargs)\n",
            "/home/manojkumark/Desktop/.venv/lib/python3.10/site-packages/IPython/core/events.py:82: UserWarning: Glyph 117 (u) missing from font(s) Samyak Devanagari.\n",
            "  func(*args, **kwargs)\n",
            "/home/manojkumark/Desktop/.venv/lib/python3.10/site-packages/IPython/core/events.py:82: UserWarning: Glyph 106 (j) missing from font(s) Samyak Devanagari.\n",
            "  func(*args, **kwargs)\n",
            "/home/manojkumark/Desktop/.venv/lib/python3.10/site-packages/IPython/core/events.py:82: UserWarning: Glyph 109 (m) missing from font(s) Samyak Devanagari.\n",
            "  func(*args, **kwargs)\n",
            "/home/manojkumark/Desktop/.venv/lib/python3.10/site-packages/IPython/core/events.py:82: UserWarning: Glyph 98 (b) missing from font(s) Samyak Devanagari.\n",
            "  func(*args, **kwargs)\n",
            "/home/manojkumark/Desktop/.venv/lib/python3.10/site-packages/IPython/core/events.py:82: UserWarning: Glyph 110 (n) missing from font(s) Samyak Devanagari.\n",
            "  func(*args, **kwargs)\n",
            "/home/manojkumark/Desktop/.venv/lib/python3.10/site-packages/IPython/core/events.py:82: UserWarning: Glyph 116 (t) missing from font(s) Samyak Devanagari.\n",
            "  func(*args, **kwargs)\n",
            "/home/manojkumark/Desktop/.venv/lib/python3.10/site-packages/IPython/core/pylabtools.py:170: UserWarning: Glyph 108 (l) missing from font(s) Samyak Devanagari.\n",
            "  fig.canvas.print_figure(bytes_io, **kw)\n",
            "/home/manojkumark/Desktop/.venv/lib/python3.10/site-packages/IPython/core/pylabtools.py:170: UserWarning: Glyph 112 (p) missing from font(s) Samyak Devanagari.\n",
            "  fig.canvas.print_figure(bytes_io, **kw)\n",
            "/home/manojkumark/Desktop/.venv/lib/python3.10/site-packages/IPython/core/pylabtools.py:170: UserWarning: Glyph 91 ([) missing from font(s) Samyak Devanagari.\n",
            "  fig.canvas.print_figure(bytes_io, **kw)\n",
            "/home/manojkumark/Desktop/.venv/lib/python3.10/site-packages/IPython/core/pylabtools.py:170: UserWarning: Glyph 66 (B) missing from font(s) Samyak Devanagari.\n",
            "  fig.canvas.print_figure(bytes_io, **kw)\n",
            "/home/manojkumark/Desktop/.venv/lib/python3.10/site-packages/IPython/core/pylabtools.py:170: UserWarning: Glyph 79 (O) missing from font(s) Samyak Devanagari.\n",
            "  fig.canvas.print_figure(bytes_io, **kw)\n",
            "/home/manojkumark/Desktop/.venv/lib/python3.10/site-packages/IPython/core/pylabtools.py:170: UserWarning: Glyph 83 (S) missing from font(s) Samyak Devanagari.\n",
            "  fig.canvas.print_figure(bytes_io, **kw)\n",
            "/home/manojkumark/Desktop/.venv/lib/python3.10/site-packages/IPython/core/pylabtools.py:170: UserWarning: Glyph 93 (]) missing from font(s) Samyak Devanagari.\n",
            "  fig.canvas.print_figure(bytes_io, **kw)\n",
            "/home/manojkumark/Desktop/.venv/lib/python3.10/site-packages/IPython/core/pylabtools.py:170: UserWarning: Glyph 65533 (\\N{REPLACEMENT CHARACTER}) missing from font(s) Samyak Devanagari.\n",
            "  fig.canvas.print_figure(bytes_io, **kw)\n",
            "/home/manojkumark/Desktop/.venv/lib/python3.10/site-packages/IPython/core/pylabtools.py:170: UserWarning: Glyph 69 (E) missing from font(s) Samyak Devanagari.\n",
            "  fig.canvas.print_figure(bytes_io, **kw)\n",
            "/home/manojkumark/Desktop/.venv/lib/python3.10/site-packages/IPython/core/pylabtools.py:170: UserWarning: Glyph 118 (v) missing from font(s) Samyak Devanagari.\n",
            "  fig.canvas.print_figure(bytes_io, **kw)\n",
            "/home/manojkumark/Desktop/.venv/lib/python3.10/site-packages/IPython/core/pylabtools.py:170: UserWarning: Glyph 97 (a) missing from font(s) Samyak Devanagari.\n",
            "  fig.canvas.print_figure(bytes_io, **kw)\n",
            "/home/manojkumark/Desktop/.venv/lib/python3.10/site-packages/IPython/core/pylabtools.py:170: UserWarning: Glyph 114 (r) missing from font(s) Samyak Devanagari.\n",
            "  fig.canvas.print_figure(bytes_io, **kw)\n",
            "/home/manojkumark/Desktop/.venv/lib/python3.10/site-packages/IPython/core/pylabtools.py:170: UserWarning: Glyph 105 (i) missing from font(s) Samyak Devanagari.\n",
            "  fig.canvas.print_figure(bytes_io, **kw)\n",
            "/home/manojkumark/Desktop/.venv/lib/python3.10/site-packages/IPython/core/pylabtools.py:170: UserWarning: Glyph 115 (s) missing from font(s) Samyak Devanagari.\n",
            "  fig.canvas.print_figure(bytes_io, **kw)\n",
            "/home/manojkumark/Desktop/.venv/lib/python3.10/site-packages/IPython/core/pylabtools.py:170: UserWarning: Glyph 104 (h) missing from font(s) Samyak Devanagari.\n",
            "  fig.canvas.print_figure(bytes_io, **kw)\n",
            "/home/manojkumark/Desktop/.venv/lib/python3.10/site-packages/IPython/core/pylabtools.py:170: UserWarning: Glyph 117 (u) missing from font(s) Samyak Devanagari.\n",
            "  fig.canvas.print_figure(bytes_io, **kw)\n",
            "/home/manojkumark/Desktop/.venv/lib/python3.10/site-packages/IPython/core/pylabtools.py:170: UserWarning: Glyph 106 (j) missing from font(s) Samyak Devanagari.\n",
            "  fig.canvas.print_figure(bytes_io, **kw)\n",
            "/home/manojkumark/Desktop/.venv/lib/python3.10/site-packages/IPython/core/pylabtools.py:170: UserWarning: Glyph 109 (m) missing from font(s) Samyak Devanagari.\n",
            "  fig.canvas.print_figure(bytes_io, **kw)\n",
            "/home/manojkumark/Desktop/.venv/lib/python3.10/site-packages/IPython/core/pylabtools.py:170: UserWarning: Glyph 98 (b) missing from font(s) Samyak Devanagari.\n",
            "  fig.canvas.print_figure(bytes_io, **kw)\n",
            "/home/manojkumark/Desktop/.venv/lib/python3.10/site-packages/IPython/core/pylabtools.py:170: UserWarning: Glyph 110 (n) missing from font(s) Samyak Devanagari.\n",
            "  fig.canvas.print_figure(bytes_io, **kw)\n",
            "/home/manojkumark/Desktop/.venv/lib/python3.10/site-packages/IPython/core/pylabtools.py:170: UserWarning: Glyph 116 (t) missing from font(s) Samyak Devanagari.\n",
            "  fig.canvas.print_figure(bytes_io, **kw)\n"
          ]
        },
        {
          "data": {
            "image/png": "[encoded data removed]",
            "text/plain": [
              "<Figure size 1200x1000 with 4 Axes>"
            ]
          },
          "metadata": {},
          "output_type": "display_data"
        }
      ],
      "source": [
        "# Please do not change anything in the following cell.\n",
        "\n",
        "pyplot.figure(figsize=(12, 10))\n",
        "\n",
        "src_id_to_token = inverse_vocabulary(src_tokenizer)\n",
        "tgt_id_to_token = inverse_vocabulary(tgt_tokenizer)\n",
        "\n",
        "with torch.inference_mode():\n",
        "    for i, row in train_data.sample(n=4, random_state=42, ignore_index=True).iterrows():\n",
        "        src_tokens = torch.tensor(src_tokenizer.encode(row['Name']))\n",
        "        attentions, tgt_tokens = model.attentions(src_tokens, tgt_tokenizer.get_special_tokens()['[EOS]'], max_length=50)\n",
        "        src_glyphs = apply_inverse_vocab(src_tokens.tolist(), src_id_to_token)\n",
        "        tgt_glyphs = apply_inverse_vocab(tgt_tokens.tolist(), tgt_id_to_token)\n",
        "        axes = pyplot.subplot(2, 2, i+1)\n",
        "        visualize_attention(src_glyphs, tgt_glyphs, attentions, axes)"
      ]
    },
    {
      "cell_type": "code",
      "execution_count": 411,
      "metadata": {
        "id": "qE1PU0k9s8Ds"
      },
      "outputs": [],
      "source": [
        "# Please do not change anything in the following cell.\n",
        "\n",
        "output_data = []\n",
        "for _, row in validation_data.iterrows():\n",
        "    y_pred = rnn_greedy_generate(\n",
        "        model, row['Name'], src_tokenizer, tgt_tokenizer,\n",
        "        max_length = rnn_enc_dec_attn_data_params['tgt_padding']\n",
        "    )\n",
        "    output_data.append({ 'Name': row['Name'], 'Translation': y_pred })\n",
        "\n",
        "pd.DataFrame.from_records(output_data).to_csv(\n",
        "    os.path.join(DIRECTORY_NAME, \"rnn.enc-dec.attn\", \"outputs.csv\"), index=False\n",
        ")"
      ]
    },
    {
      "cell_type": "code",
      "execution_count": 412,
      "metadata": {
        "id": "aQ7Qndm47S1V"
      },
      "outputs": [],
      "source": [
        "# Please do not change anything in the following cell.\n",
        "\n",
        "# Release resources\n",
        "if 'trainer' in globals():\n",
        "    del trainer\n",
        "\n",
        "if 'model' in globals():\n",
        "    del model\n",
        "\n",
        "sync_vram()"
      ]
    },
    {
      "cell_type": "markdown",
      "metadata": {
        "id": "998loM887S1W"
      },
      "source": [
        "## Evaluation"
      ]
    },
    {
      "cell_type": "markdown",
      "metadata": {
        "id": "_tm4zQ637S1W"
      },
      "source": [
        "In the last few modules, you have implemented different approaches towards transliteration of Indian names to English. To assess how well different systems perform, it is useful to compute different metrics, which assess different properties:\n",
        "\n",
        "- **Accuracy**: From a parallel corpus, number of translations the model got exactly right. Higher the better. Note that this makes sense only for this task. and lacks granularity.\n",
        "- **Edit Distance**: Number of edits at the character level (insertions, deletions, substitutions) required to transform your model's outputs to a reference translation. Lower the better.\n",
        "- **Character Error Rate (CER)**: The rate at which your system/model makes mistakes at the character level. Lower the better.\n",
        "- **Token Error Rate (TER)**: The rate at which your system/model makes mistakes at the token level. Lower the better. Depending on your tokenizer implementation, could be the same as CER.\n",
        "- **BiLingual Evaluation Understudy (BLEU)**: Proposed by [Papineni et al., 2002](https://aclanthology.org/P02-1040/), BLEU is a metric that assess the quality of a translation against reference translations through assessing n-gram overlap. Higher the better.\n",
        "\n",
        "Since accents and half-letters exist as separate characters in the Unicode specification, and can change the interpretation of the output, metrics that operate at the character level will treat these separately."
      ]
    },
    {
      "cell_type": "code",
      "execution_count": 413,
      "metadata": {
        "id": "4V2mXdKh7S1W"
      },
      "outputs": [],
      "source": [
        "# Please do not change anything in the following cell.\n",
        "\n",
        "class Evaluator:\n",
        "    \"\"\" Class to handle all the logic concerning the evaluation of trained models.  \"\"\"\n",
        "\n",
        "    def __init__(self, src_tokenizer, tgt_tokenizer) -> None:\n",
        "        \"\"\" Initializes the evaluator.\n",
        "\n",
        "        Args:\n",
        "            src_tokenizer (Tokenizer): Tokenizer for input strings in the source language.\n",
        "            tgt_tokenizer (Tokenizer): Tokenizer for output strings in the target language.\n",
        "        \"\"\"\n",
        "\n",
        "        self.device = 'cuda' if torch.cuda.is_available() else 'cpu'\n",
        "        self.src_tokenizer = src_tokenizer\n",
        "        self.tgt_tokenizer = tgt_tokenizer\n",
        "        self.decoding_method = None\n",
        "\n",
        "    def set_decoding_method(self, decoding_method):\n",
        "        \"\"\" Sets the decoding method to use with models.\n",
        "                The evaluation function will use the set decoding method to generate outputs from the model.\n",
        "\n",
        "        Args:\n",
        "            decoding_method (function): Decoding method.\n",
        "                Must accept the model instance, the input string, and tokenizers as arguments.\n",
        "                Can accept additional arguments if required.\n",
        "        \"\"\"\n",
        "\n",
        "        self.decoding_method = decoding_method\n",
        "\n",
        "    @staticmethod\n",
        "    def decompose(string):\n",
        "        \"\"\" Decomposes a string into a set of tokens.\n",
        "\n",
        "        Args:\n",
        "            string (str): String to decompose.\n",
        "\n",
        "        Returns:\n",
        "            list[str]: List of characters from the string.\n",
        "        \"\"\"\n",
        "        return unicodedata.normalize('NFKD', string).encode('utf-8')\n",
        "\n",
        "    @staticmethod\n",
        "    def levenshtein_distance(string1, string2):\n",
        "        \"\"\" Computes the levensthein distance between two strings.\n",
        "\n",
        "        Args:\n",
        "            string1 (list[any]): Sequence A.\n",
        "            string2 (list[any]): Sequence B.\n",
        "\n",
        "        Returns:\n",
        "            tuple[int, int, int]: Number of insertions + deletions, substitutions and no-ops.\n",
        "        \"\"\"\n",
        "\n",
        "        costs = [\n",
        "            [ 0 for j in range(len(string2)+1) ]\n",
        "            for i in range(len(string1)+1)\n",
        "        ]\n",
        "\n",
        "        # Prepare matrix of costs.\n",
        "        for i in range(len(string1)+1): costs[i][0] = i\n",
        "        for j in range(len(string2)+1): costs[0][j] = j\n",
        "        for i in range(1, len(string1)+1):\n",
        "            for j in range(1, len(string2)+1):\n",
        "                costs[i][j] = min(\n",
        "                    costs[i][j-1] + 1,\n",
        "                    costs[i-1][j] + 1,\n",
        "                    costs[i-1][j-1] + (0 if string1[i-1] == string2[j-1] else 1)\n",
        "                )\n",
        "\n",
        "        # Decode matrix in backward manner for actual operation counts.\n",
        "        c_ins_del, c_sub, c_noop = 0, 0, 0\n",
        "\n",
        "        i, j = len(string1), len(string2)\n",
        "        while i > 0 or j > 0:\n",
        "            if i > 0 and costs[i][j] == costs[i-1][j] + 1:\n",
        "                c_ins_del += 1\n",
        "                i -= 1\n",
        "            elif j > 0 and costs[i][j] == costs[i][j-1] + 1:\n",
        "                c_ins_del += 1\n",
        "                j -= 1\n",
        "            elif i > 0 and j > 0:\n",
        "                if string1[i-1] == string2[j-1]:\n",
        "                    c_noop += 1\n",
        "                else:\n",
        "                    c_sub += 1\n",
        "                i, j = i-1, j-1\n",
        "            else:\n",
        "                break\n",
        "\n",
        "        return c_ins_del, c_sub, c_noop\n",
        "\n",
        "    @staticmethod\n",
        "    def accuracy(y_true, y_pred):\n",
        "        \"\"\" Computes the accuracy of the predictions, against a reference set of predictions.\n",
        "\n",
        "        Args:\n",
        "            y_true (list[str]): Actual translations.\n",
        "            y_pred (list[str]): Generated translations.\n",
        "\n",
        "        Returns:\n",
        "            float: Accuracy score, between 0 and 1.\n",
        "        \"\"\"\n",
        "        return sum(yi_true == yi_pred for yi_true, yi_pred in zip(y_true, y_pred)) / len(y_pred)\n",
        "\n",
        "    @classmethod\n",
        "    def char_error_rate(cls, y_true, y_pred):\n",
        "        \"\"\" Computes the character level error rate (CER) of the set of\n",
        "            predictions against the reference translations.\n",
        "\n",
        "        Args:\n",
        "            y_true (list[str]): Actual translations.\n",
        "            y_pred (list[str]): Generated translations.\n",
        "\n",
        "        Returns:\n",
        "            float: CER score, between 0 and 1. Lower the better.\n",
        "        \"\"\"\n",
        "\n",
        "        cer_score = 0\n",
        "\n",
        "        for yi_true, yi_pred in zip(y_true, y_pred):\n",
        "            yi_true, yi_pred = cls.decompose(yi_true), cls.decompose(yi_pred)\n",
        "            c_ins_del, c_sub, c_noop = cls.levenshtein_distance(yi_true, yi_pred)\n",
        "            cer_score += (c_ins_del + c_sub) / (c_ins_del + c_sub + c_noop)\n",
        "\n",
        "        return cer_score / len(y_true)\n",
        "\n",
        "    def token_error_rate(self, y_true, y_pred):\n",
        "        \"\"\" Computes the token level error rate (TER) of the set of\n",
        "            predictions against the reference translations.\n",
        "\n",
        "        Args:\n",
        "            y_true (list[str]): Actual translations.\n",
        "            y_pred (list[str]): Generated translations.\n",
        "\n",
        "        Returns:\n",
        "            float: TER score, between 0 and 1. Lower the better.\n",
        "        \"\"\"\n",
        "\n",
        "        ter_score = 0\n",
        "\n",
        "        for yi_true, yi_pred in zip(y_true, y_pred):\n",
        "            yi_true = self.tgt_tokenizer.encode(yi_true, add_start=False, add_end=False)\n",
        "            yi_pred = self.tgt_tokenizer.encode(yi_pred, add_start=False, add_end=False)\n",
        "            t_ins_del, t_sub, t_noop = self.levenshtein_distance(yi_true, yi_pred)\n",
        "            ter_score += (t_ins_del + t_sub) / (t_ins_del + t_sub + t_noop)\n",
        "\n",
        "        return ter_score / len(y_true)\n",
        "\n",
        "    @classmethod\n",
        "    def bleu_score(cls, y_true, y_pred):\n",
        "        \"\"\" Computes the average BLEU score of the set of predictions against the reference translations.\n",
        "\n",
        "            Uses default parameters and equal weights for all n-grams, with max N = 4. (Thus computes BLEU-4).\n",
        "            Uses a smoothing method for the case of missing n-grams.\n",
        "\n",
        "        Args:\n",
        "            y_true (list[str]): Actual translations.\n",
        "            y_pred (list[str]): Generated translations.\n",
        "\n",
        "        Returns:\n",
        "            float: BLEU-4 score, the higher the better.\n",
        "        \"\"\"\n",
        "\n",
        "        y_true = [ [ cls.decompose(yi) ] for yi in y_true ]\n",
        "        y_pred = [ cls.decompose(yi) for yi in y_pred ]\n",
        "\n",
        "        smoothing = bleu_score.SmoothingFunction()\n",
        "\n",
        "        return bleu_score.corpus_bleu(\n",
        "            y_true, y_pred,\n",
        "            smoothing_function=smoothing.method1\n",
        "        )\n",
        "\n",
        "    def evaluate(self, model_path, data, reference_outputs, **decoding_kwargs):\n",
        "        \"\"\" Performs the evaluation of a specified model over given data.\n",
        "\n",
        "        Args:\n",
        "            model_path (str): Path to load the model from. Must have a model.pt file.\n",
        "            data (list[str]): List of input strings to translate.\n",
        "            reference_outputs (list[str]): List of output strings to use as reference.\n",
        "            decoding_kwargs (dict[str, any]): Additional arguments to forward to the decoding method.\n",
        "                This could be for instance, max_length for a greedy decoding method.\n",
        "\n",
        "        Raises:\n",
        "            ValueError: If the decoding method is not set apriori.\n",
        "        \"\"\"\n",
        "\n",
        "        if self.decoding_method is None:\n",
        "            raise ValueError(f\"{self.evaluate.__name__}: no decoding method is set, assign before use.\")\n",
        "\n",
        "        # Load the model to the active device.\n",
        "        model = torch.load(os.path.join(model_path, 'model.pt'), map_location=self.device, weights_only=False)\n",
        "\n",
        "        # Set model use parameters.\n",
        "        model.to(self.device)\n",
        "        model.eval()\n",
        "\n",
        "        # Generate outputs.\n",
        "        generated_outputs = []\n",
        "        with torch.inference_mode():\n",
        "            for seq_x in data:\n",
        "                generated_outputs.append(self.decoding_method(\n",
        "                    model, seq_x, self.src_tokenizer,\n",
        "                    self.tgt_tokenizer, **decoding_kwargs\n",
        "                ))\n",
        "\n",
        "        accuracy_score = self.accuracy(reference_outputs, generated_outputs)\n",
        "        cer_score      = self.char_error_rate(reference_outputs, generated_outputs)\n",
        "        ter_score      = self.token_error_rate(reference_outputs, generated_outputs)\n",
        "        blue_score     = self.bleu_score(reference_outputs, generated_outputs)\n",
        "\n",
        "        print(\"EVALUATION:\", \">\", \"accuracy:\", f\"{accuracy_score:.2%}\")\n",
        "        print(\"EVALUATION:\", \">\", \"CER     :\", f\"{cer_score:.2%}\")\n",
        "        print(\"EVALUATION:\", \">\", \"TER     :\", f\"{ter_score:.2%}\")\n",
        "        print(\"EVALUATION:\", \">\", \"BLEU    :\", f\"{blue_score:.4f}\")\n",
        "        print()\n",
        "\n",
        "        # Free resources once evaluation is complete.\n",
        "        del model\n",
        "        sync_vram()"
      ]
    },
    {
      "cell_type": "code",
      "execution_count": 414,
      "metadata": {
        "id": "R3DxXlLm7S1X"
      },
      "outputs": [
        {
          "name": "stdout",
          "output_type": "stream",
          "text": [
            "EVALUATION: enc-dec-rnn\n",
            "EVALUATION: > accuracy: 40.25%\n",
            "EVALUATION: > CER     : 16.30%\n",
            "EVALUATION: > TER     : 27.93%\n",
            "EVALUATION: > BLEU    : 0.6889\n",
            "\n",
            "EVALUATION: enc-dec-rnn-attn\n",
            "EVALUATION: > accuracy: 49.25%\n",
            "EVALUATION: > CER     : 11.99%\n",
            "EVALUATION: > TER     : 22.41%\n",
            "EVALUATION: > BLEU    : 0.7479\n",
            "\n"
          ]
        }
      ],
      "source": [
        "# Please do not change anything in the following cell.\n",
        "\n",
        "evaluator = Evaluator(src_tokenizer, tgt_tokenizer)\n",
        "\n",
        "# Use greedy decoding for producing outputs.\n",
        "evaluator.set_decoding_method(rnn_greedy_generate)\n",
        "\n",
        "# Evaluate enc-dec-rnn\n",
        "print(\"EVALUATION:\", \"enc-dec-rnn\")\n",
        "evaluator.evaluate(\n",
        "    os.path.join(DIRECTORY_NAME, \"rnn.enc-dec\"),\n",
        "    validation_data['Name'], validation_data['Translation'],\n",
        "    max_length = rnn_enc_dec_data_params['tgt_padding']\n",
        ")\n",
        "\n",
        "# Evaluate enc-dec-rnn-attn\n",
        "print(\"EVALUATION:\", \"enc-dec-rnn-attn\")\n",
        "evaluator.evaluate(\n",
        "    os.path.join(DIRECTORY_NAME, \"rnn.enc-dec.attn\"),\n",
        "    validation_data['Name'], validation_data['Translation'],\n",
        "    max_length = rnn_enc_dec_attn_data_params['tgt_padding']\n",
        ")"
      ]
    },
    {
      "cell_type": "markdown",
      "metadata": {
        "id": "jfI3NL8w7S1Y"
      },
      "source": [
        "## Decoding Strategy"
      ]
    },
    {
      "cell_type": "markdown",
      "metadata": {
        "id": "scHoXxoi7S1Y"
      },
      "source": [
        "A conditional language model aims to learn $P_\\theta(y | x)$, that is, the probability of the target sequence being $y$ when the input sequence is $x$. This is modeled as $P_{\\theta}(y | x) = \\prod_{i=1}^{|y|} {P_\\theta(y_i | x, y_{1:i-1})}$.\n",
        "\n",
        "For translation, our goal is to find the sequence that maximizes this conditional probability, i.e. $y^* = \\arg \\max_{y} P_\\theta(y | x)$. $y^*$ is then the 'best' translation for the input sequence $x$. However, computing probabilities for all possible $y$ to find the maximizer is intractable. As a result, decoding strategies are employed to produce reasonable approximations of $y^*$.\n",
        "\n",
        "In the last module, you evaluated your models through different metrics, but the approach for generating outputs from the model was fixed to greedy decoding, where at each time step, the token to be produced is determined by $y_{i,greedy} := \\arg \\max_{y_i} P(y_i| x, y_{1:i-1})$. While this approach is fast, $P(y_{greedy}|x)$ may be much less than $P(y^*|x)$. Fortunately, better decoding strategies exist to produce better approximations, however at the cost of higher time complexity. One such strategy is:\n",
        "\n",
        "- **Beam-Search Decoding**: At every time step, retains $k$ candidate token generations, which are decoded individually (each path is referred as a beam) to obtain $k$ successors per beam. For the next time step, the best $k$ candidates are retained such that conditional probability of the sequence generated so far is maximized. Has a complexity of $O(kV|y|)$, where $V$ is the size of the target vocabulary, and $|y|$ is the target sequence length. Using $k=1$ makes it equivalent to greedy decoding. Implementations also employ length penalties to not be biased towards larger target sequences.\n",
        "\n",
        "In the next cell, you will implement the above explained Beam-Search Decoding decoding strategy."
      ]
    },
    {
      "cell_type": "code",
      "execution_count": 415,
      "metadata": {
        "id": "x4sw-Wrb7S1Z"
      },
      "outputs": [],
      "source": [
        "## ==== BEGIN EVALUATION PORTION\n",
        "\n",
        "# Feel free to add additional parameters to rnn_better_generate, such as k for Beam Search Decoding.\n",
        "def rnn_better_generate(model, seq_x, src_tokenizer, tgt_tokenizer, max_length, k=5, length_penalty_alpha=0.6):\n",
        "    \"\"\" Given a source string, translate it to the target language using the trained model.\n",
        "        This function should use a better decoding strategy than greedy decoding (see above) to generate the results.\n",
        "\n",
        "    Args:\n",
        "        model (nn.Module): RNN Type Encoder-Decoder Model\n",
        "        seq_x (str): Input string to translate.\n",
        "        src_tokenizer (Tokenizer): Source language tokenizer.\n",
        "        tgt_tokenizer (Tokenizer): Target language tokenizer.\n",
        "        max_length (int): Maximum length of the target sequence to decode.\n",
        "\n",
        "    Returns:\n",
        "        str: Generated string for the given input in the target language.\n",
        "    \"\"\"\n",
        "\n",
        "    # BEGIN CODE : enc-dec-rnn.better_generate\n",
        "\n",
        "    # ADD YOUR CODE HERE\n",
        "\n",
        "    model.eval()\n",
        "    source_ids = src_tokenizer.encode(seq_x)\n",
        "    src_tensor = torch.tensor(source_ids)[None, :].to(model.device)\n",
        "    with torch.inference_mode():\n",
        "        src_embedded = model.dropout_layer(model.src_embedding(src_tensor))\n",
        "        if hasattr(model, 'attention'):\n",
        "            encoder_outs, encoder_state = model.encoder(src_embedded)\n",
        "        else:\n",
        "            unnecessary, encoder_state = model.encoder(src_embedded)\n",
        "    bos_token = tgt_tokenizer.get_special_tokens()['[BOS]']\n",
        "    eos_token = tgt_tokenizer.get_special_tokens()['[EOS]']\n",
        "    candidates = [{\n",
        "        'tokens': [bos_token],\n",
        "        'score': 0.0,\n",
        "        'state': encoder_state\n",
        "    }]\n",
        "    for _ in range(max_length):\n",
        "        updated_candidates = []\n",
        "        for candidate in candidates:\n",
        "            if candidate['tokens'][-1] == eos_token:\n",
        "                updated_candidates.append(candidate)\n",
        "                continue\n",
        "            last_token_tensor = torch.tensor([[candidate['tokens'][-1]]], device=model.device)\n",
        "            hidden_state = candidate['state']\n",
        "            with torch.inference_mode():\n",
        "                if hasattr(model, 'attention'):\n",
        "                    current_embed = model.dropout_layer(model.tgt_embedding(last_token_tensor))\n",
        "                    if isinstance(hidden_state, tuple):\n",
        "                        attn_query = hidden_state[0][-1]\n",
        "                    else:\n",
        "                        attn_query = hidden_state\n",
        "                    attn_weights = model.attention(encoder_outs, attn_query)\n",
        "                    context_vector = torch.bmm(attn_weights, encoder_outs)\n",
        "                    decoder_input = torch.cat((current_embed, context_vector), dim=2)\n",
        "                    dec_output, new_state = model.decoder(decoder_input, hidden_state)\n",
        "                    logits = model.output_layer(dec_output)\n",
        "                else:\n",
        "                    tgt_embedded = model.dropout_layer(model.tgt_embedding(last_token_tensor))\n",
        "                    dec_output, new_state = model.decoder(tgt_embedded, hidden_state)\n",
        "                    logits = model.output_layer(dec_output)\n",
        "                log_probs = torch.log_softmax(logits, dim=-1).squeeze(0).squeeze(0)\n",
        "            topk_log_probs, topk_indices = torch.topk(log_probs, k)\n",
        "            for j in range(k):\n",
        "                token_id = topk_indices[j].item()\n",
        "                updated_candidates.append({\n",
        "                    'tokens': candidate['tokens'] + [token_id],\n",
        "                    'score': candidate['score'] + topk_log_probs[j].item(),\n",
        "                    'state': new_state\n",
        "                })\n",
        "        def compute_score(candidate):\n",
        "            length = len(candidate['tokens'])\n",
        "            penalty = ((5 + length) / 6) ** length_penalty_alpha\n",
        "            return candidate['score'] / penalty\n",
        "        updated_candidates = sorted(updated_candidates, key=compute_score, reverse=True)\n",
        "        candidates = updated_candidates[:k]\n",
        "        if all(candidate['tokens'][-1] == eos_token for candidate in candidates):\n",
        "            break\n",
        "    best_candidate = max(candidates, key=compute_score)\n",
        "    output_tokens = best_candidate['tokens'][1:]\n",
        "    if eos_token in output_tokens:\n",
        "        output_tokens = output_tokens[:output_tokens.index(eos_token)]\n",
        "    return tgt_tokenizer.decode(output_tokens, strip_special=True)\n",
        "\n",
        "    # END CODE\n",
        "\n",
        "## ==== END EVALUATION PORTION"
      ]
    },
    {
      "cell_type": "code",
      "execution_count": 416,
      "metadata": {
        "id": "PhMFQmhY7S1Z"
      },
      "outputs": [],
      "source": [
        "## ==== BEGIN EVALUATION PORTION\n",
        "\n",
        "# BEGIN CODE : decoding.init\n",
        "\n",
        "# Add parameter values for your decoding strategy here. Leave empty if unused.\n",
        "\n",
        "decoding_params = dict(\n",
        "    # ADD YOUR CODE HERE\n",
        "    k=10,\n",
        "    length_penalty_alpha=0.8\n",
        ")\n",
        "\n",
        "## ==== END EVALUATION PORTION"
      ]
    },
    {
      "cell_type": "code",
      "execution_count": 417,
      "metadata": {
        "id": "aOwxnBIC7S1a"
      },
      "outputs": [
        {
          "name": "stdout",
          "output_type": "stream",
          "text": [
            "EVALUATION: enc-dec-rnn\n",
            "EVALUATION: > accuracy: 43.75%\n",
            "EVALUATION: > CER     : 14.90%\n",
            "EVALUATION: > TER     : 25.91%\n",
            "EVALUATION: > BLEU    : 0.7119\n",
            "\n",
            "EVALUATION: enc-dec-rnn-attn\n",
            "EVALUATION: > accuracy: 50.50%\n",
            "EVALUATION: > CER     : 11.42%\n",
            "EVALUATION: > TER     : 21.63%\n",
            "EVALUATION: > BLEU    : 0.7566\n",
            "\n"
          ]
        }
      ],
      "source": [
        "# Please do not change anything in the following cell.\n",
        "\n",
        "evaluator = Evaluator(src_tokenizer, tgt_tokenizer)\n",
        "evaluator.set_decoding_method(rnn_better_generate)\n",
        "\n",
        "# Evaluate enc-dec-rnn\n",
        "print(\"EVALUATION:\", \"enc-dec-rnn\")\n",
        "evaluator.evaluate(\n",
        "    os.path.join(DIRECTORY_NAME, \"rnn.enc-dec\"),\n",
        "    validation_data['Name'], validation_data['Translation'],\n",
        "    max_length = rnn_enc_dec_data_params['tgt_padding'],\n",
        "    **decoding_params\n",
        ")\n",
        "\n",
        "# Evaluate enc-dec-rnn-attn\n",
        "print(\"EVALUATION:\", \"enc-dec-rnn-attn\")\n",
        "evaluator.evaluate(\n",
        "    os.path.join(DIRECTORY_NAME, \"rnn.enc-dec.attn\"),\n",
        "    validation_data['Name'], validation_data['Translation'],\n",
        "    max_length = rnn_enc_dec_attn_data_params['tgt_padding'],\n",
        "    **decoding_params\n",
        ")"
      ]
    },
    {
      "cell_type": "markdown",
      "metadata": {
        "id": "yHm5Di5V7S1a"
      },
      "source": [
        "## Congratulations!"
      ]
    },
    {
      "cell_type": "markdown",
      "metadata": {
        "id": "kxGerFZH7S1b"
      },
      "source": [
        "You have reached the end of the last assignment! Hope this was a fun exercise!\n",
        "\n",
        "Once you've run the cells above, you should be ready to submit the assignment."
      ]
    }
  ],
  "metadata": {
    "colab": {
      "provenance": []
    },
    "kernelspec": {
      "display_name": ".venv",
      "language": "python",
      "name": "python3"
    },
    "language_info": {
      "codemirror_mode": {
        "name": "ipython",
        "version": 3
      },
      "file_extension": ".py",
      "mimetype": "text/x-python",
      "name": "python",
      "nbconvert_exporter": "python",
      "pygments_lexer": "ipython3",
      "version": "3.10.12"
    }
  },
  "nbformat": 4,
  "nbformat_minor": 0
}
